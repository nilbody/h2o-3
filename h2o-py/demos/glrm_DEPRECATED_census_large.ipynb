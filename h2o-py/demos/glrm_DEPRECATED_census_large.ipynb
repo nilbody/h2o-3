{
 "metadata": {
  "kernelspec": {
   "display_name": "Python 2",
   "language": "python",
   "name": "python2"
  },
  "language_info": {
   "codemirror_mode": {
    "name": "ipython",
    "version": 2
   },
   "file_extension": ".py",
   "mimetype": "text/x-python",
   "name": "python",
   "nbconvert_exporter": "python",
   "pygments_lexer": "ipython2",
   "version": "2.7.10"
  },
  "name": "",
  "signature": "sha256:2ee1c215b471f1d08ccc7e11f1d7e5642e4589e39520f1f7bfb4d64e934de30f"
 },
 "nbformat": 3,
 "nbformat_minor": 0,
 "worksheets": [
  {
   "cells": [
    {
     "cell_type": "code",
     "collapsed": true,
     "input": [
      "import h2o\n",
      "import csv\n",
      "import time\n",
      "import numpy as np\n",
      "import matplotlib.pyplot as plt"
     ],
     "language": "python",
     "metadata": {},
     "outputs": []
    },
    {
     "cell_type": "code",
     "collapsed": false,
     "input": [
      "h2o.init()"
     ],
     "language": "python",
     "metadata": {},
     "outputs": []
    },
    {
     "cell_type": "code",
     "collapsed": false,
     "input": [
      "from h2o.utils.shared_utils import _locate # private function. used to find files within h2o git project directory.\n",
      "\n",
      "# Import and parse ACS 2013 5-year DP02 demographic data\n",
      "acs_orig = h2o.upload_file(path=_locate(\"bigdata/laptop/census/ACS_13_5YR_DP02_cleaned.zip\"), col_types = ([\"enum\"] + [\"numeric\"]*149))\n",
      "acs_orig.describe()\n",
      "\n",
      "acs_zcta_col = acs_orig[\"ZCTA5\"]\n",
      "acs_full = acs_orig.drop(\"ZCTA5\")"
     ],
     "language": "python",
     "metadata": {},
     "outputs": []
    },
    {
     "cell_type": "code",
     "collapsed": false,
     "input": [
      "# Import and parse WHD 2014-2015 labor violations data\n",
      "whd_zcta = h2o.upload_file(path=_locate(\"bigdata/laptop/census/whd_zcta_cleaned.zip\"), col_types = ([\"enum\"]*7 + [\"numeric\"]*97))\n",
      "whd_zcta.describe()"
     ],
     "language": "python",
     "metadata": {},
     "outputs": []
    },
    {
     "cell_type": "code",
     "collapsed": false,
     "input": [
      "# Run GLRM to reduce ZCTA demographics to 10 archetypes\n",
      "acs_model = h2o.glrm(x = acs_full, \n",
      "                     k = 10,\n",
      "                     transform = \"STANDARDIZE\",\n",
      "                     loss = \"Quadratic\",\n",
      "                     regularization_x = \"Quadratic\",\n",
      "                     regularization_y = \"L1\",\n",
      "                     gamma_x = 0.25,\n",
      "                     gamma_y = 0.5,\n",
      "                     max_iterations = 100)\n",
      "print acs_model"
     ],
     "language": "python",
     "metadata": {},
     "outputs": []
    },
    {
     "cell_type": "code",
     "collapsed": false,
     "input": [
      "# Plot objective function value each iteration\n",
      "acs_model_score = acs_model.score_history()\n",
      "plt.xlabel(\"Iteration\")\n",
      "plt.ylabel(\"Objective\")\n",
      "plt.title(\"Objective Function Value per Iteration\")\n",
      "plt.plot(acs_model_score[\"iteration\"], acs_model_score[\"objective\"])\n",
      "plt.show()"
     ],
     "language": "python",
     "metadata": {},
     "outputs": []
    },
    {
     "cell_type": "code",
     "collapsed": false,
     "input": [
      "# Embedding of ZCTAs into archetypes (X)\n",
      "zcta_arch_x = h2o.get_frame(acs_model._model_json[\"output\"][\"representation_name\"])\n",
      "zcta_arch_x.head()"
     ],
     "language": "python",
     "metadata": {},
     "outputs": []
    },
    {
     "cell_type": "code",
     "collapsed": false,
     "input": [
      "# Archetypes to full feature mapping (Y)\n",
      "arch_feat_y = acs_model._model_json[\"output\"][\"archetypes\"]\n",
      "print arch_feat_y"
     ],
     "language": "python",
     "metadata": {},
     "outputs": []
    },
    {
     "cell_type": "code",
     "collapsed": false,
     "input": [
      "# Split WHD data into test/train with 20/80 ratio\n",
      "split = whd_zcta[\"flsa_repeat_violator\"].runif()\n",
      "train = whd_zcta[split <= 0.8]\n",
      "test = whd_zcta[split > 0.8]\n",
      "\n",
      "# Build a DL model to predict repeat violators and score\n",
      "s = time.time()\n",
      "dl_orig = h2o.deeplearning(x = train[4:].drop(\"flsa_repeat_violator\"),\n",
      "                           y = train[\"flsa_repeat_violator\"],\n",
      "                           validation_x = test[4:].drop(\"flsa_repeat_violator\"),\n",
      "                           validation_y = test[\"flsa_repeat_violator\"],\n",
      "                           epochs = 0.1, \n",
      "                           hidden = [50,50,50], \n",
      "                           distribution = \"multinomial\")\n",
      "orig_elapsed = time.time() - s"
     ],
     "language": "python",
     "metadata": {},
     "outputs": []
    },
    {
     "cell_type": "code",
     "collapsed": false,
     "input": [
      "# Replace zcta5_cd column in WHD data with GLRM archetypes\n",
      "zcta_arch_x[\"zcta5_cd\"] = acs_zcta_col\n",
      "whd_arch = whd_zcta.merge(zcta_arch_x, all_x = True, all_y = False)\n",
      "whd_arch = whd_arch.drop(\"zcta5_cd\")\n",
      "whd_arch.describe()"
     ],
     "language": "python",
     "metadata": {},
     "outputs": []
    },
    {
     "cell_type": "code",
     "collapsed": false,
     "input": [
      "# Split WHD data into test/train with 20/80 ratio\n",
      "train_mod = whd_arch[split <= 0.8]\n",
      "test_mod = whd_arch[split > 0.8]\n",
      "\n",
      "# Build a GBM model to predict repeat violators and score\n",
      "s = time.time()\n",
      "dl_mod = h2o.deeplearning(x = train_mod[4:].drop(\"flsa_repeat_violator\"),\n",
      "                          y = train_mod[\"flsa_repeat_violator\"],\n",
      "                          validation_x = test_mod[4:].drop(\"flsa_repeat_violator\"),\n",
      "                          validation_y = test_mod[\"flsa_repeat_violator\"],\n",
      "                          epochs = 0.1, \n",
      "                          hidden = [50,50,50], \n",
      "                          distribution = \"multinomial\")\n",
      "mod_elapsed = time.time() - s"
     ],
     "language": "python",
     "metadata": {},
     "outputs": []
    },
    {
     "cell_type": "code",
     "collapsed": false,
     "input": [
      "# Model performance comparison\n",
      "train_ll_orig = dl_orig.model_performance(train).logloss()\n",
      "test_ll_orig  = dl_orig.model_performance(test ).logloss()\n",
      "train_ll_mod  = dl_mod .model_performance(train).logloss()\n",
      "test_ll_mod   = dl_mod .model_performance(test ).logloss()\n",
      "\n",
      "# Print results in pretty HTML table\n",
      "header = [\"Metric\"   , \"Original\"    , \"Reduced\"    ]\n",
      "table = [\n",
      "         [\"Runtime\"  , orig_elapsed  , mod_elapsed  ],\n",
      "         [\"Train LogLoss\", train_ll_orig, train_ll_mod],\n",
      "         [\"Test LogLoss\" , test_ll_orig , test_ll_mod ],\n",
      "        ]\n",
      "h2o.display.H2ODisplay(table,header)"
     ],
     "language": "python",
     "metadata": {},
     "outputs": []
    },
    {
     "cell_type": "code",
     "collapsed": true,
     "input": [],
     "language": "python",
     "metadata": {},
     "outputs": []
    }
   ],
   "metadata": {}
  }
 ]
}