{
 "cells": [
  {
   "cell_type": "code",
   "execution_count": 1,
   "metadata": {
    "collapsed": false
   },
   "outputs": [],
   "source": [
    "import h2o"
   ]
  },
  {
   "cell_type": "code",
   "execution_count": 2,
   "metadata": {
    "collapsed": false
   },
   "outputs": [
    {
     "data": {
      "text/html": [
       "<div style=\"overflow:auto\"><table style=\"width:50%\"><tr><td>H2O cluster uptime: </td>\n",
       "<td>2 minutes 47 seconds 451 milliseconds </td></tr>\n",
       "<tr><td>H2O cluster version: </td>\n",
       "<td>3.5.0.99999</td></tr>\n",
       "<tr><td>H2O cluster name: </td>\n",
       "<td>ece</td></tr>\n",
       "<tr><td>H2O cluster total nodes: </td>\n",
       "<td>1</td></tr>\n",
       "<tr><td>H2O cluster total memory: </td>\n",
       "<td>10.67 GB</td></tr>\n",
       "<tr><td>H2O cluster total cores: </td>\n",
       "<td>8</td></tr>\n",
       "<tr><td>H2O cluster allowed cores: </td>\n",
       "<td>8</td></tr>\n",
       "<tr><td>H2O cluster healthy: </td>\n",
       "<td>True</td></tr>\n",
       "<tr><td>H2O Connection ip: </td>\n",
       "<td>127.0.0.1</td></tr>\n",
       "<tr><td>H2O Connection port: </td>\n",
       "<td>54321</td></tr></table></div>"
      ],
      "text/plain": [
       "--------------------------  -------------------------------------\n",
       "H2O cluster uptime:         2 minutes 47 seconds 451 milliseconds\n",
       "H2O cluster version:        3.5.0.99999\n",
       "H2O cluster name:           ece\n",
       "H2O cluster total nodes:    1\n",
       "H2O cluster total memory:   10.67 GB\n",
       "H2O cluster total cores:    8\n",
       "H2O cluster allowed cores:  8\n",
       "H2O cluster healthy:        True\n",
       "H2O Connection ip:          127.0.0.1\n",
       "H2O Connection port:        54321\n",
       "--------------------------  -------------------------------------"
      ]
     },
     "metadata": {},
     "output_type": "display_data"
    }
   ],
   "source": [
    "h2o.init()"
   ]
  },
  {
   "cell_type": "code",
   "execution_count": 3,
   "metadata": {
    "collapsed": false
   },
   "outputs": [
    {
     "name": "stdout",
     "output_type": "stream",
     "text": [
      "\n",
      "Parse Progress: [##################################################] 100%\n",
      "Imported /Users/ece/0xdata/h2o-dev/smalldata/airlines/AirlinesTrain.csv.zip. Parsed 24,421 rows and 12 cols\n"
     ]
    }
   ],
   "source": [
    "from h2o.utils.shared_utils import _locate # private function. used to find files within h2o git project directory.\n",
    "\n",
    "#uploading data file to h2o\n",
    "air = h2o.import_file(path=_locate(\"smalldata/airlines/AirlinesTrain.csv.zip\"))"
   ]
  },
  {
   "cell_type": "code",
   "execution_count": 4,
   "metadata": {
    "collapsed": false
   },
   "outputs": [],
   "source": [
    "# Constructing validation and train sets by sampling (20/80)\n",
    "# creating a column as tall as air.nrow\n",
    "r = air[0].runif()\n",
    "air_train = air[r < 0.8]\n",
    "air_valid = air[r >= 0.8]\n",
    "\n",
    "myX = [\"Origin\", \"Dest\", \"Distance\", \"UniqueCarrier\", \"fMonth\", \"fDayofMonth\", \"fDayOfWeek\"]\n",
    "myY = \"IsDepDelayed\""
   ]
  },
  {
   "cell_type": "code",
   "execution_count": 5,
   "metadata": {
    "collapsed": false
   },
   "outputs": [
    {
     "name": "stdout",
     "output_type": "stream",
     "text": [
      "\n",
      "gbm Model Build Progress: [##################################################] 100%\n",
      "Model Details\n",
      "=============\n",
      "H2OBinomialModel :  Gradient Boosting Machine\n",
      "Model Key:  GBM_model_python_1444621872790_19\n",
      "\n",
      "Model Summary:\n"
     ]
    },
    {
     "data": {
      "text/html": [
       "<div style=\"overflow:auto\"><table style=\"width:50%\"><tr><td></td>\n",
       "<td>number_of_trees</td>\n",
       "<td>model_size_in_bytes</td>\n",
       "<td>min_depth</td>\n",
       "<td>max_depth</td>\n",
       "<td>mean_depth</td>\n",
       "<td>min_leaves</td>\n",
       "<td>max_leaves</td>\n",
       "<td>mean_leaves</td></tr>\n",
       "<tr><td></td>\n",
       "<td>100.0</td>\n",
       "<td>21708.0</td>\n",
       "<td>3.0</td>\n",
       "<td>3.0</td>\n",
       "<td>3.0</td>\n",
       "<td>8.0</td>\n",
       "<td>8.0</td>\n",
       "<td>8.0</td></tr></table></div>"
      ],
      "text/plain": [
       "    number_of_trees    model_size_in_bytes    min_depth    max_depth    mean_depth    min_leaves    max_leaves    mean_leaves\n",
       "--  -----------------  ---------------------  -----------  -----------  ------------  ------------  ------------  -------------\n",
       "    100                21708                  3            3            3             8             8             8"
      ]
     },
     "metadata": {},
     "output_type": "display_data"
    },
    {
     "name": "stdout",
     "output_type": "stream",
     "text": [
      "\n",
      "\n",
      "ModelMetricsBinomial: gbm\n",
      "** Reported on train data. **\n",
      "\n",
      "MSE: 0.224850820408\n",
      "R^2: 0.0924584914905\n",
      "LogLoss: 0.641731899772\n",
      "AUC: 0.702768783364\n",
      "Gini: 0.405537566728\n",
      "\n",
      "Confusion Matrix (Act/Pred) for max f1 @ threshold = 0.448864947415:\n"
     ]
    },
    {
     "data": {
      "text/html": [
       "<div style=\"overflow:auto\"><table style=\"width:50%\"><tr><td></td>\n",
       "<td>NO</td>\n",
       "<td>YES</td>\n",
       "<td>Error</td>\n",
       "<td>Rate</td></tr>\n",
       "<tr><td>NO</td>\n",
       "<td>2631.0</td>\n",
       "<td>6236.0</td>\n",
       "<td>0.7033</td>\n",
       "<td> (6236.0/8867.0)</td></tr>\n",
       "<tr><td>YES</td>\n",
       "<td>1018.0</td>\n",
       "<td>9704.0</td>\n",
       "<td>0.0949</td>\n",
       "<td> (1018.0/10722.0)</td></tr>\n",
       "<tr><td>Total</td>\n",
       "<td>3649.0</td>\n",
       "<td>15940.0</td>\n",
       "<td>0.3703</td>\n",
       "<td> (7254.0/19589.0)</td></tr></table></div>"
      ],
      "text/plain": [
       "       NO    YES    Error    Rate\n",
       "-----  ----  -----  -------  ----------------\n",
       "NO     2631  6236   0.7033   (6236.0/8867.0)\n",
       "YES    1018  9704   0.0949   (1018.0/10722.0)\n",
       "Total  3649  15940  0.3703   (7254.0/19589.0)"
      ]
     },
     "metadata": {},
     "output_type": "display_data"
    },
    {
     "name": "stdout",
     "output_type": "stream",
     "text": [
      "\n",
      "Maximum Metrics: Maximum metrics at their respective thresholds\n",
      "\n"
     ]
    },
    {
     "data": {
      "text/html": [
       "<div style=\"overflow:auto\"><table style=\"width:50%\"><tr><td>metric</td>\n",
       "<td>threshold</td>\n",
       "<td>value</td>\n",
       "<td>idx</td></tr>\n",
       "<tr><td>max f1</td>\n",
       "<td>0.448864947415</td>\n",
       "<td>0.727927387293</td>\n",
       "<td>329.0</td></tr>\n",
       "<tr><td>max f2</td>\n",
       "<td>0.384216073407</td>\n",
       "<td>0.859214414183</td>\n",
       "<td>396.0</td></tr>\n",
       "<tr><td>max f0point5</td>\n",
       "<td>0.540484202247</td>\n",
       "<td>0.683872282105</td>\n",
       "<td>211.0</td></tr>\n",
       "<tr><td>max accuracy</td>\n",
       "<td>0.519460013297</td>\n",
       "<td>0.658583899127</td>\n",
       "<td>238.0</td></tr>\n",
       "<tr><td>max precision</td>\n",
       "<td>0.676757678734</td>\n",
       "<td>0.874429223744</td>\n",
       "<td>7.0</td></tr>\n",
       "<tr><td>max absolute_MCC</td>\n",
       "<td>0.519460013297</td>\n",
       "<td>0.305317688997</td>\n",
       "<td>238.0</td></tr>\n",
       "<tr><td>max min_per_class_accuracy</td>\n",
       "<td>0.546452685802</td>\n",
       "<td>0.645401977243</td>\n",
       "<td>203.0</td></tr></table></div>"
      ],
      "text/plain": [
       "metric                      threshold    value     idx\n",
       "--------------------------  -----------  --------  -----\n",
       "max f1                      0.448865     0.727927  329\n",
       "max f2                      0.384216     0.859214  396\n",
       "max f0point5                0.540484     0.683872  211\n",
       "max accuracy                0.51946      0.658584  238\n",
       "max precision               0.676758     0.874429  7\n",
       "max absolute_MCC            0.51946      0.305318  238\n",
       "max min_per_class_accuracy  0.546453     0.645402  203"
      ]
     },
     "metadata": {},
     "output_type": "display_data"
    },
    {
     "name": "stdout",
     "output_type": "stream",
     "text": [
      "\n",
      "ModelMetricsBinomial: gbm\n",
      "** Reported on validation data. **\n",
      "\n",
      "MSE: 0.228581497538\n",
      "R^2: 0.0782379231571\n",
      "LogLoss: 0.649363009278\n",
      "AUC: 0.680577713137\n",
      "Gini: 0.361155426274\n",
      "\n",
      "Confusion Matrix (Act/Pred) for max f1 @ threshold = 0.446739697823:\n"
     ]
    },
    {
     "data": {
      "text/html": [
       "<div style=\"overflow:auto\"><table style=\"width:50%\"><tr><td></td>\n",
       "<td>NO</td>\n",
       "<td>YES</td>\n",
       "<td>Error</td>\n",
       "<td>Rate</td></tr>\n",
       "<tr><td>NO</td>\n",
       "<td>605.0</td>\n",
       "<td>1594.0</td>\n",
       "<td>0.7249</td>\n",
       "<td> (1594.0/2199.0)</td></tr>\n",
       "<tr><td>YES</td>\n",
       "<td>254.0</td>\n",
       "<td>2379.0</td>\n",
       "<td>0.0965</td>\n",
       "<td> (254.0/2633.0)</td></tr>\n",
       "<tr><td>Total</td>\n",
       "<td>859.0</td>\n",
       "<td>3973.0</td>\n",
       "<td>0.3825</td>\n",
       "<td> (1848.0/4832.0)</td></tr></table></div>"
      ],
      "text/plain": [
       "       NO    YES    Error    Rate\n",
       "-----  ----  -----  -------  ---------------\n",
       "NO     605   1594   0.7249   (1594.0/2199.0)\n",
       "YES    254   2379   0.0965   (254.0/2633.0)\n",
       "Total  859   3973   0.3825   (1848.0/4832.0)"
      ]
     },
     "metadata": {},
     "output_type": "display_data"
    },
    {
     "name": "stdout",
     "output_type": "stream",
     "text": [
      "\n",
      "Maximum Metrics: Maximum metrics at their respective thresholds\n",
      "\n"
     ]
    },
    {
     "data": {
      "text/html": [
       "<div style=\"overflow:auto\"><table style=\"width:50%\"><tr><td>metric</td>\n",
       "<td>threshold</td>\n",
       "<td>value</td>\n",
       "<td>idx</td></tr>\n",
       "<tr><td>max f1</td>\n",
       "<td>0.446739697823</td>\n",
       "<td>0.72025431426</td>\n",
       "<td>330.0</td></tr>\n",
       "<tr><td>max f2</td>\n",
       "<td>0.373911932185</td>\n",
       "<td>0.857795172864</td>\n",
       "<td>397.0</td></tr>\n",
       "<tr><td>max f0point5</td>\n",
       "<td>0.520295345537</td>\n",
       "<td>0.666759175744</td>\n",
       "<td>236.0</td></tr>\n",
       "<tr><td>max accuracy</td>\n",
       "<td>0.512345552615</td>\n",
       "<td>0.642177152318</td>\n",
       "<td>248.0</td></tr>\n",
       "<tr><td>max precision</td>\n",
       "<td>0.684564934321</td>\n",
       "<td>0.869565217391</td>\n",
       "<td>0.0</td></tr>\n",
       "<tr><td>max absolute_MCC</td>\n",
       "<td>0.512345552615</td>\n",
       "<td>0.27122238954</td>\n",
       "<td>248.0</td></tr>\n",
       "<tr><td>max min_per_class_accuracy</td>\n",
       "<td>0.547116521118</td>\n",
       "<td>0.625902012913</td>\n",
       "<td>197.0</td></tr></table></div>"
      ],
      "text/plain": [
       "metric                      threshold    value     idx\n",
       "--------------------------  -----------  --------  -----\n",
       "max f1                      0.44674      0.720254  330\n",
       "max f2                      0.373912     0.857795  397\n",
       "max f0point5                0.520295     0.666759  236\n",
       "max accuracy                0.512346     0.642177  248\n",
       "max precision               0.684565     0.869565  0\n",
       "max absolute_MCC            0.512346     0.271222  248\n",
       "max min_per_class_accuracy  0.547117     0.625902  197"
      ]
     },
     "metadata": {},
     "output_type": "display_data"
    },
    {
     "name": "stdout",
     "output_type": "stream",
     "text": [
      "\n",
      "Scoring History:\n"
     ]
    },
    {
     "data": {
      "text/html": [
       "<div style=\"overflow:auto\"><table style=\"width:50%\"><tr><td></td>\n",
       "<td>timestamp</td>\n",
       "<td>duration</td>\n",
       "<td>number_of_trees</td>\n",
       "<td>training_MSE</td>\n",
       "<td>training_logloss</td>\n",
       "<td>training_AUC</td>\n",
       "<td>training_classification_error</td>\n",
       "<td>validation_MSE</td>\n",
       "<td>validation_logloss</td>\n",
       "<td>validation_AUC</td>\n",
       "<td>validation_classification_error</td></tr>\n",
       "<tr><td></td>\n",
       "<td>2015-10-11 20:54:01</td>\n",
       "<td> 0.070 sec</td>\n",
       "<td>1.0</td>\n",
       "<td>0.247331320109</td>\n",
       "<td>0.687795430241</td>\n",
       "<td>0.660414156332</td>\n",
       "<td>0.390627392925</td>\n",
       "<td>0.247603524684</td>\n",
       "<td>0.688341976058</td>\n",
       "<td>0.647685556757</td>\n",
       "<td>0.395074503311</td></tr>\n",
       "<tr><td></td>\n",
       "<td>2015-10-11 20:54:01</td>\n",
       "<td> 0.114 sec</td>\n",
       "<td>2.0</td>\n",
       "<td>0.246913667129</td>\n",
       "<td>0.686952727594</td>\n",
       "<td>0.660424401202</td>\n",
       "<td>0.390627392925</td>\n",
       "<td>0.247224374106</td>\n",
       "<td>0.6875769826</td>\n",
       "<td>0.647755678055</td>\n",
       "<td>0.395074503311</td></tr>\n",
       "<tr><td></td>\n",
       "<td>2015-10-11 20:54:01</td>\n",
       "<td> 0.150 sec</td>\n",
       "<td>3.0</td>\n",
       "<td>0.246503630683</td>\n",
       "<td>0.686125470932</td>\n",
       "<td>0.660424401202</td>\n",
       "<td>0.390627392925</td>\n",
       "<td>0.246854759296</td>\n",
       "<td>0.686831315909</td>\n",
       "<td>0.647755678055</td>\n",
       "<td>0.395074503311</td></tr>\n",
       "<tr><td></td>\n",
       "<td>2015-10-11 20:54:01</td>\n",
       "<td> 0.177 sec</td>\n",
       "<td>4.0</td>\n",
       "<td>0.246101212127</td>\n",
       "<td>0.685313591467</td>\n",
       "<td>0.663714440178</td>\n",
       "<td>0.390627392925</td>\n",
       "<td>0.246503381528</td>\n",
       "<td>0.686122482818</td>\n",
       "<td>0.646327604285</td>\n",
       "<td>0.39673013245</td></tr>\n",
       "<tr><td></td>\n",
       "<td>2015-10-11 20:54:01</td>\n",
       "<td> 0.196 sec</td>\n",
       "<td>5.0</td>\n",
       "<td>0.245706838064</td>\n",
       "<td>0.684518021244</td>\n",
       "<td>0.663646675728</td>\n",
       "<td>0.390627392925</td>\n",
       "<td>0.24615014055</td>\n",
       "<td>0.685409949548</td>\n",
       "<td>0.646298070438</td>\n",
       "<td>0.39673013245</td></tr>\n",
       "<tr><td>---</td>\n",
       "<td>---</td>\n",
       "<td>---</td>\n",
       "<td>---</td>\n",
       "<td>---</td>\n",
       "<td>---</td>\n",
       "<td>---</td>\n",
       "<td>---</td>\n",
       "<td>---</td>\n",
       "<td>---</td>\n",
       "<td>---</td>\n",
       "<td>---</td></tr>\n",
       "<tr><td></td>\n",
       "<td>2015-10-11 20:54:04</td>\n",
       "<td> 3.683 sec</td>\n",
       "<td>75.0</td>\n",
       "<td>0.228228148277</td>\n",
       "<td>0.648850974833</td>\n",
       "<td>0.698597822319</td>\n",
       "<td>0.369748328143</td>\n",
       "<td>0.231195338447</td>\n",
       "<td>0.654891371682</td>\n",
       "<td>0.678054296337</td>\n",
       "<td>0.384105960265</td></tr>\n",
       "<tr><td></td>\n",
       "<td>2015-10-11 20:54:05</td>\n",
       "<td> 3.775 sec</td>\n",
       "<td>76.0</td>\n",
       "<td>0.228053442305</td>\n",
       "<td>0.648485174531</td>\n",
       "<td>0.698807689635</td>\n",
       "<td>0.369646230027</td>\n",
       "<td>0.231064058149</td>\n",
       "<td>0.654614394176</td>\n",
       "<td>0.678156283101</td>\n",
       "<td>0.385347682119</td></tr>\n",
       "<tr><td></td>\n",
       "<td>2015-10-11 20:54:05</td>\n",
       "<td> 3.857 sec</td>\n",
       "<td>77.0</td>\n",
       "<td>0.227887494345</td>\n",
       "<td>0.648136594459</td>\n",
       "<td>0.699004214428</td>\n",
       "<td>0.371688192353</td>\n",
       "<td>0.230933646803</td>\n",
       "<td>0.654339144973</td>\n",
       "<td>0.678235126383</td>\n",
       "<td>0.385347682119</td></tr>\n",
       "<tr><td></td>\n",
       "<td>2015-10-11 20:54:05</td>\n",
       "<td> 3.947 sec</td>\n",
       "<td>78.0</td>\n",
       "<td>0.227764971727</td>\n",
       "<td>0.647879404876</td>\n",
       "<td>0.699149178285</td>\n",
       "<td>0.369697279085</td>\n",
       "<td>0.230831743431</td>\n",
       "<td>0.654125223389</td>\n",
       "<td>0.678410256915</td>\n",
       "<td>0.385347682119</td></tr>\n",
       "<tr><td></td>\n",
       "<td>2015-10-11 20:54:05</td>\n",
       "<td> 4.254 sec</td>\n",
       "<td>100.0</td>\n",
       "<td>0.224850820408</td>\n",
       "<td>0.641731899772</td>\n",
       "<td>0.702768783364</td>\n",
       "<td>0.370309867783</td>\n",
       "<td>0.228581497538</td>\n",
       "<td>0.649363009278</td>\n",
       "<td>0.680577713137</td>\n",
       "<td>0.382450331126</td></tr></table></div>"
      ],
      "text/plain": [
       "     timestamp            duration    number_of_trees    training_MSE    training_logloss    training_AUC    training_classification_error    validation_MSE    validation_logloss    validation_AUC    validation_classification_error\n",
       "---  -------------------  ----------  -----------------  --------------  ------------------  --------------  -------------------------------  ----------------  --------------------  ----------------  ---------------------------------\n",
       "     2015-10-11 20:54:01  0.070 sec   1.0                0.247331320109  0.687795430241      0.660414156332  0.390627392925                   0.247603524684    0.688341976058        0.647685556757    0.395074503311\n",
       "     2015-10-11 20:54:01  0.114 sec   2.0                0.246913667129  0.686952727594      0.660424401202  0.390627392925                   0.247224374106    0.6875769826          0.647755678055    0.395074503311\n",
       "     2015-10-11 20:54:01  0.150 sec   3.0                0.246503630683  0.686125470932      0.660424401202  0.390627392925                   0.246854759296    0.686831315909        0.647755678055    0.395074503311\n",
       "     2015-10-11 20:54:01  0.177 sec   4.0                0.246101212127  0.685313591467      0.663714440178  0.390627392925                   0.246503381528    0.686122482818        0.646327604285    0.39673013245\n",
       "     2015-10-11 20:54:01  0.196 sec   5.0                0.245706838064  0.684518021244      0.663646675728  0.390627392925                   0.24615014055     0.685409949548        0.646298070438    0.39673013245\n",
       "---  ---                  ---         ---                ---             ---                 ---             ---                              ---               ---                   ---               ---\n",
       "     2015-10-11 20:54:04  3.683 sec   75.0               0.228228148277  0.648850974833      0.698597822319  0.369748328143                   0.231195338447    0.654891371682        0.678054296337    0.384105960265\n",
       "     2015-10-11 20:54:05  3.775 sec   76.0               0.228053442305  0.648485174531      0.698807689635  0.369646230027                   0.231064058149    0.654614394176        0.678156283101    0.385347682119\n",
       "     2015-10-11 20:54:05  3.857 sec   77.0               0.227887494345  0.648136594459      0.699004214428  0.371688192353                   0.230933646803    0.654339144973        0.678235126383    0.385347682119\n",
       "     2015-10-11 20:54:05  3.947 sec   78.0               0.227764971727  0.647879404876      0.699149178285  0.369697279085                   0.230831743431    0.654125223389        0.678410256915    0.385347682119\n",
       "     2015-10-11 20:54:05  4.254 sec   100.0              0.224850820408  0.641731899772      0.702768783364  0.370309867783                   0.228581497538    0.649363009278        0.680577713137    0.382450331126"
      ]
     },
     "metadata": {},
     "output_type": "display_data"
    },
    {
     "name": "stdout",
     "output_type": "stream",
     "text": [
      "\n",
      "Variable Importances:\n"
     ]
    },
    {
     "data": {
      "text/html": [
       "<div style=\"overflow:auto\"><table style=\"width:50%\"><tr><td>variable</td>\n",
       "<td>relative_importance</td>\n",
       "<td>scaled_importance</td>\n",
       "<td>percentage</td></tr>\n",
       "<tr><td>Origin</td>\n",
       "<td>17652.8085938</td>\n",
       "<td>1.0</td>\n",
       "<td>0.692557100813</td></tr>\n",
       "<tr><td>Dest</td>\n",
       "<td>4619.26074219</td>\n",
       "<td>0.261672850394</td>\n",
       "<td>0.18122339063</td></tr>\n",
       "<tr><td>UniqueCarrier</td>\n",
       "<td>1647.6003418</td>\n",
       "<td>0.0933336093827</td>\n",
       "<td>0.0646388539225</td></tr>\n",
       "<tr><td>fDayofMonth</td>\n",
       "<td>1342.42211914</td>\n",
       "<td>0.0760458094819</td>\n",
       "<td>0.0526660653438</td></tr>\n",
       "<tr><td>fDayOfWeek</td>\n",
       "<td>139.104721069</td>\n",
       "<td>0.00788003338566</td>\n",
       "<td>0.00545737307588</td></tr>\n",
       "<tr><td>fMonth</td>\n",
       "<td>88.1220855713</td>\n",
       "<td>0.0049919583676</td>\n",
       "<td>0.00345721621445</td></tr>\n",
       "<tr><td>Distance</td>\n",
       "<td>0.0</td>\n",
       "<td>0.0</td>\n",
       "<td>0.0</td></tr></table></div>"
      ],
      "text/plain": [
       "variable       relative_importance    scaled_importance    percentage\n",
       "-------------  ---------------------  -------------------  ------------\n",
       "Origin         17652.8                1                    0.692557\n",
       "Dest           4619.26                0.261673             0.181223\n",
       "UniqueCarrier  1647.6                 0.0933336            0.0646389\n",
       "fDayofMonth    1342.42                0.0760458            0.0526661\n",
       "fDayOfWeek     139.105                0.00788003           0.00545737\n",
       "fMonth         88.1221                0.00499196           0.00345722\n",
       "Distance       0                      0                    0"
      ]
     },
     "metadata": {},
     "output_type": "display_data"
    }
   ],
   "source": [
    "#gbm\n",
    "gbm = h2o.gbm(x=air_train[myX], \n",
    "              y=air_train[myY], \n",
    "              validation_x=air_valid[myX],\n",
    "              validation_y=air_valid[myY],\n",
    "              distribution=\"bernoulli\", \n",
    "              ntrees=100, \n",
    "              max_depth=3, \n",
    "              learn_rate=0.01)\n",
    "gbm.show()"
   ]
  },
  {
   "cell_type": "code",
   "execution_count": 6,
   "metadata": {
    "collapsed": false
   },
   "outputs": [
    {
     "name": "stdout",
     "output_type": "stream",
     "text": [
      "\n",
      "glm Model Build Progress: [##################################################] 100%\n",
      "\n",
      "Coefficients: glm coefficients\n",
      "\n"
     ]
    },
    {
     "data": {
      "text/html": [
       "<div style=\"overflow:auto\"><table style=\"width:50%\"><tr><td>names</td>\n",
       "<td>coefficients</td>\n",
       "<td>standardized_coefficients</td></tr>\n",
       "<tr><td>Intercept</td>\n",
       "<td>0.056540315409</td>\n",
       "<td>0.224670161231</td></tr>\n",
       "<tr><td>Origin.ABE</td>\n",
       "<td>-0.00451467313266</td>\n",
       "<td>-0.00451467313266</td></tr>\n",
       "<tr><td>Origin.ABQ</td>\n",
       "<td>-0.0369454795796</td>\n",
       "<td>-0.0369454795796</td></tr>\n",
       "<tr><td>Origin.ACY</td>\n",
       "<td>-0.0143826087457</td>\n",
       "<td>-0.0143826087457</td></tr>\n",
       "<tr><td>Origin.ALB</td>\n",
       "<td>0.00857751200054</td>\n",
       "<td>0.00857751200054</td></tr>\n",
       "<tr><td>---</td>\n",
       "<td>---</td>\n",
       "<td>---</td></tr>\n",
       "<tr><td>fDayOfWeek.f6</td>\n",
       "<td>-0.0868429852704</td>\n",
       "<td>-0.0868429852704</td></tr>\n",
       "<tr><td>fDayOfWeek.f7</td>\n",
       "<td>0.0201706138395</td>\n",
       "<td>0.0201706138395</td></tr>\n",
       "<tr><td>fMonth.f1</td>\n",
       "<td>-0.100726106453</td>\n",
       "<td>-0.100726106453</td></tr>\n",
       "<tr><td>fMonth.f10</td>\n",
       "<td>0.106283308704</td>\n",
       "<td>0.106283308704</td></tr>\n",
       "<tr><td>Distance</td>\n",
       "<td>0.000222614075406</td>\n",
       "<td>0.140355957215</td></tr></table></div>"
      ],
      "text/plain": [
       "names          coefficients       standardized_coefficients\n",
       "-------------  -----------------  ---------------------------\n",
       "Intercept      0.056540315409     0.224670161231\n",
       "Origin.ABE     -0.00451467313266  -0.00451467313266\n",
       "Origin.ABQ     -0.0369454795796   -0.0369454795796\n",
       "Origin.ACY     -0.0143826087457   -0.0143826087457\n",
       "Origin.ALB     0.00857751200054   0.00857751200054\n",
       "---            ---                ---\n",
       "fDayOfWeek.f6  -0.0868429852704   -0.0868429852704\n",
       "fDayOfWeek.f7  0.0201706138395    0.0201706138395\n",
       "fMonth.f1      -0.100726106453    -0.100726106453\n",
       "fMonth.f10     0.106283308704     0.106283308704\n",
       "Distance       0.000222614075406  0.140355957215"
      ]
     },
     "metadata": {},
     "output_type": "display_data"
    },
    {
     "name": "stdout",
     "output_type": "stream",
     "text": [
      "\n"
     ]
    }
   ],
   "source": [
    "#glm\n",
    "glm = h2o.glm(x=air_train[myX], \n",
    "              y=air_train[myY],\n",
    "              validation_x=air_valid[myX],\n",
    "              validation_y=air_valid[myY],\n",
    "              family = \"binomial\", \n",
    "              solver=\"L_BFGS\")\n",
    "glm.pprint_coef()\n",
    "    "
   ]
  },
  {
   "cell_type": "code",
   "execution_count": 7,
   "metadata": {
    "collapsed": false
   },
   "outputs": [
    {
     "name": "stdout",
     "output_type": "stream",
     "text": [
      "\n",
      "Parse Progress: [##################################################] 100%\n",
      "Imported /Users/ece/0xdata/h2o-dev/smalldata/airlines/AirlinesTest.csv.zip. Parsed 2,691 rows and 12 cols\n"
     ]
    }
   ],
   "source": [
    "#uploading test file to h2o\n",
    "air_test = h2o.import_file(path=_locate(\"smalldata/airlines/AirlinesTest.csv.zip\"))"
   ]
  },
  {
   "cell_type": "code",
   "execution_count": 8,
   "metadata": {
    "collapsed": false
   },
   "outputs": [
    {
     "name": "stdout",
     "output_type": "stream",
     "text": [
      "GBM predictions: \n",
      "GBM performance: \n",
      "\n",
      "ModelMetricsBinomial: gbm\n",
      "** Reported on test data. **\n",
      "\n",
      "MSE: 0.226566937921\n",
      "R^2: 0.0853901612137\n",
      "LogLoss: 0.64529552984\n",
      "AUC: 0.691592366843\n",
      "Gini: 0.383184733686\n",
      "\n",
      "Confusion Matrix (Act/Pred) for max f1 @ threshold = 0.461947098049:\n"
     ]
    },
    {
     "data": {
      "text/html": [
       "<div style=\"overflow:auto\"><table style=\"width:50%\"><tr><td></td>\n",
       "<td>NO</td>\n",
       "<td>YES</td>\n",
       "<td>Error</td>\n",
       "<td>Rate</td></tr>\n",
       "<tr><td>NO</td>\n",
       "<td>399.0</td>\n",
       "<td>818.0</td>\n",
       "<td>0.6721</td>\n",
       "<td> (818.0/1217.0)</td></tr>\n",
       "<tr><td>YES</td>\n",
       "<td>178.0</td>\n",
       "<td>1296.0</td>\n",
       "<td>0.1208</td>\n",
       "<td> (178.0/1474.0)</td></tr>\n",
       "<tr><td>Total</td>\n",
       "<td>577.0</td>\n",
       "<td>2114.0</td>\n",
       "<td>0.3701</td>\n",
       "<td> (996.0/2691.0)</td></tr></table></div>"
      ],
      "text/plain": [
       "       NO    YES    Error    Rate\n",
       "-----  ----  -----  -------  --------------\n",
       "NO     399   818    0.6721   (818.0/1217.0)\n",
       "YES    178   1296   0.1208   (178.0/1474.0)\n",
       "Total  577   2114   0.3701   (996.0/2691.0)"
      ]
     },
     "metadata": {},
     "output_type": "display_data"
    },
    {
     "name": "stdout",
     "output_type": "stream",
     "text": [
      "\n",
      "Maximum Metrics: Maximum metrics at their respective thresholds\n",
      "\n"
     ]
    },
    {
     "data": {
      "text/html": [
       "<div style=\"overflow:auto\"><table style=\"width:50%\"><tr><td>metric</td>\n",
       "<td>threshold</td>\n",
       "<td>value</td>\n",
       "<td>idx</td></tr>\n",
       "<tr><td>max f1</td>\n",
       "<td>0.461947098049</td>\n",
       "<td>0.722408026756</td>\n",
       "<td>317.0</td></tr>\n",
       "<tr><td>max f2</td>\n",
       "<td>0.385877574696</td>\n",
       "<td>0.85970464135</td>\n",
       "<td>394.0</td></tr>\n",
       "<tr><td>max f0point5</td>\n",
       "<td>0.53566616157</td>\n",
       "<td>0.685536224357</td>\n",
       "<td>219.0</td></tr>\n",
       "<tr><td>max accuracy</td>\n",
       "<td>0.53566616157</td>\n",
       "<td>0.658491267187</td>\n",
       "<td>219.0</td></tr>\n",
       "<tr><td>max precision</td>\n",
       "<td>0.675162105576</td>\n",
       "<td>0.848484848485</td>\n",
       "<td>9.0</td></tr>\n",
       "<tr><td>max absolute_MCC</td>\n",
       "<td>0.53566616157</td>\n",
       "<td>0.307175612177</td>\n",
       "<td>219.0</td></tr>\n",
       "<tr><td>max min_per_class_accuracy</td>\n",
       "<td>0.54621274447</td>\n",
       "<td>0.641112618725</td>\n",
       "<td>203.0</td></tr></table></div>"
      ],
      "text/plain": [
       "metric                      threshold    value     idx\n",
       "--------------------------  -----------  --------  -----\n",
       "max f1                      0.461947     0.722408  317\n",
       "max f2                      0.385878     0.859705  394\n",
       "max f0point5                0.535666     0.685536  219\n",
       "max accuracy                0.535666     0.658491  219\n",
       "max precision               0.675162     0.848485  9\n",
       "max absolute_MCC            0.535666     0.307176  219\n",
       "max min_per_class_accuracy  0.546213     0.641113  203"
      ]
     },
     "metadata": {},
     "output_type": "display_data"
    },
    {
     "name": "stdout",
     "output_type": "stream",
     "text": [
      "GLM predictions: \n",
      "GLM performance: \n",
      "\n",
      "ModelMetricsBinomialGLM: glm\n",
      "** Reported on test data. **\n",
      "\n",
      "MSE: 0.232278313501\n",
      "R^2: 0.0623343687585\n",
      "LogLoss: 0.656952698744\n",
      "Null degrees of freedom: 2690\n",
      "Residual degrees of freedom: 2438\n",
      "Null deviance: 3705.93804119\n",
      "Residual deviance: 3535.71942464\n",
      "AIC: 4041.71942464\n",
      "AUC: 0.654934783021\n",
      "Gini: 0.309869566041\n",
      "\n",
      "Confusion Matrix (Act/Pred) for max f1 @ threshold = 0.463553658893:\n"
     ]
    },
    {
     "data": {
      "text/html": [
       "<div style=\"overflow:auto\"><table style=\"width:50%\"><tr><td></td>\n",
       "<td>NO</td>\n",
       "<td>YES</td>\n",
       "<td>Error</td>\n",
       "<td>Rate</td></tr>\n",
       "<tr><td>NO</td>\n",
       "<td>279.0</td>\n",
       "<td>938.0</td>\n",
       "<td>0.7707</td>\n",
       "<td> (938.0/1217.0)</td></tr>\n",
       "<tr><td>YES</td>\n",
       "<td>105.0</td>\n",
       "<td>1369.0</td>\n",
       "<td>0.0712</td>\n",
       "<td> (105.0/1474.0)</td></tr>\n",
       "<tr><td>Total</td>\n",
       "<td>384.0</td>\n",
       "<td>2307.0</td>\n",
       "<td>0.3876</td>\n",
       "<td> (1043.0/2691.0)</td></tr></table></div>"
      ],
      "text/plain": [
       "       NO    YES    Error    Rate\n",
       "-----  ----  -----  -------  ---------------\n",
       "NO     279   938    0.7707   (938.0/1217.0)\n",
       "YES    105   1369   0.0712   (105.0/1474.0)\n",
       "Total  384   2307   0.3876   (1043.0/2691.0)"
      ]
     },
     "metadata": {},
     "output_type": "display_data"
    },
    {
     "name": "stdout",
     "output_type": "stream",
     "text": [
      "\n",
      "Maximum Metrics: Maximum metrics at their respective thresholds\n",
      "\n"
     ]
    },
    {
     "data": {
      "text/html": [
       "<div style=\"overflow:auto\"><table style=\"width:50%\"><tr><td>metric</td>\n",
       "<td>threshold</td>\n",
       "<td>value</td>\n",
       "<td>idx</td></tr>\n",
       "<tr><td>max f1</td>\n",
       "<td>0.463553658893</td>\n",
       "<td>0.724147051045</td>\n",
       "<td>309.0</td></tr>\n",
       "<tr><td>max f2</td>\n",
       "<td>0.351797544742</td>\n",
       "<td>0.858992302309</td>\n",
       "<td>391.0</td></tr>\n",
       "<tr><td>max f0point5</td>\n",
       "<td>0.518666845805</td>\n",
       "<td>0.65379623621</td>\n",
       "<td>256.0</td></tr>\n",
       "<tr><td>max accuracy</td>\n",
       "<td>0.511685442003</td>\n",
       "<td>0.629134150873</td>\n",
       "<td>264.0</td></tr>\n",
       "<tr><td>max precision</td>\n",
       "<td>0.769210809139</td>\n",
       "<td>1.0</td>\n",
       "<td>0.0</td></tr>\n",
       "<tr><td>max absolute_MCC</td>\n",
       "<td>0.511685442003</td>\n",
       "<td>0.244267852676</td>\n",
       "<td>264.0</td></tr>\n",
       "<tr><td>max min_per_class_accuracy</td>\n",
       "<td>0.557529502351</td>\n",
       "<td>0.602442333786</td>\n",
       "<td>198.0</td></tr></table></div>"
      ],
      "text/plain": [
       "metric                      threshold    value     idx\n",
       "--------------------------  -----------  --------  -----\n",
       "max f1                      0.463554     0.724147  309\n",
       "max f2                      0.351798     0.858992  391\n",
       "max f0point5                0.518667     0.653796  256\n",
       "max accuracy                0.511685     0.629134  264\n",
       "max precision               0.769211     1         0\n",
       "max absolute_MCC            0.511685     0.244268  264\n",
       "max min_per_class_accuracy  0.55753      0.602442  198"
      ]
     },
     "metadata": {},
     "output_type": "display_data"
    }
   ],
   "source": [
    "# predicting & performance on test file\n",
    "gbm_pred = gbm.predict(air_test)\n",
    "print(\"GBM predictions: \")\n",
    "gbm_pred.head()\n",
    "\n",
    "gbm_perf = gbm.model_performance(air_test)\n",
    "print(\"GBM performance: \")\n",
    "gbm_perf.show()\n",
    "\n",
    "glm_pred = glm.predict(air_test)\n",
    "print(\"GLM predictions: \")\n",
    "glm_pred.head()\n",
    "\n",
    "glm_perf = glm.model_performance(air_test)\n",
    "print(\"GLM performance: \")\n",
    "glm_perf.show()"
   ]
  },
  {
   "cell_type": "code",
   "execution_count": 9,
   "metadata": {
    "collapsed": false
   },
   "outputs": [
    {
     "name": "stdout",
     "output_type": "stream",
     "text": [
      "\n",
      "Confusion Matrix (Act/Pred) for max f1 @ threshold = 0.461947098049:\n"
     ]
    },
    {
     "data": {
      "text/html": [
       "<div style=\"overflow:auto\"><table style=\"width:50%\"><tr><td></td>\n",
       "<td>NO</td>\n",
       "<td>YES</td>\n",
       "<td>Error</td>\n",
       "<td>Rate</td></tr>\n",
       "<tr><td>NO</td>\n",
       "<td>399.0</td>\n",
       "<td>818.0</td>\n",
       "<td>0.6721</td>\n",
       "<td> (818.0/1217.0)</td></tr>\n",
       "<tr><td>YES</td>\n",
       "<td>178.0</td>\n",
       "<td>1296.0</td>\n",
       "<td>0.1208</td>\n",
       "<td> (178.0/1474.0)</td></tr>\n",
       "<tr><td>Total</td>\n",
       "<td>577.0</td>\n",
       "<td>2114.0</td>\n",
       "<td>0.3701</td>\n",
       "<td> (996.0/2691.0)</td></tr></table></div>"
      ],
      "text/plain": [
       "       NO    YES    Error    Rate\n",
       "-----  ----  -----  -------  --------------\n",
       "NO     399   818    0.6721   (818.0/1217.0)\n",
       "YES    178   1296   0.1208   (178.0/1474.0)\n",
       "Total  577   2114   0.3701   (996.0/2691.0)"
      ]
     },
     "metadata": {},
     "output_type": "display_data"
    },
    {
     "name": "stdout",
     "output_type": "stream",
     "text": [
      "\n",
      "\n",
      "\n",
      "Confusion Matrix (Act/Pred) for max f1 @ threshold = 0.463553658893:\n"
     ]
    },
    {
     "data": {
      "text/html": [
       "<div style=\"overflow:auto\"><table style=\"width:50%\"><tr><td></td>\n",
       "<td>NO</td>\n",
       "<td>YES</td>\n",
       "<td>Error</td>\n",
       "<td>Rate</td></tr>\n",
       "<tr><td>NO</td>\n",
       "<td>279.0</td>\n",
       "<td>938.0</td>\n",
       "<td>0.7707</td>\n",
       "<td> (938.0/1217.0)</td></tr>\n",
       "<tr><td>YES</td>\n",
       "<td>105.0</td>\n",
       "<td>1369.0</td>\n",
       "<td>0.0712</td>\n",
       "<td> (105.0/1474.0)</td></tr>\n",
       "<tr><td>Total</td>\n",
       "<td>384.0</td>\n",
       "<td>2307.0</td>\n",
       "<td>0.3876</td>\n",
       "<td> (1043.0/2691.0)</td></tr></table></div>"
      ],
      "text/plain": [
       "       NO    YES    Error    Rate\n",
       "-----  ----  -----  -------  ---------------\n",
       "NO     279   938    0.7707   (938.0/1217.0)\n",
       "YES    105   1369   0.0712   (105.0/1474.0)\n",
       "Total  384   2307   0.3876   (1043.0/2691.0)"
      ]
     },
     "metadata": {},
     "output_type": "display_data"
    },
    {
     "name": "stdout",
     "output_type": "stream",
     "text": [
      "\n"
     ]
    }
   ],
   "source": [
    "# Building confusion matrix for test set\n",
    "gbm_CM = gbm_perf.confusion_matrix()\n",
    "print(gbm_CM)\n",
    "print\n",
    "\n",
    "glm_CM = glm_perf.confusion_matrix()\n",
    "print(glm_CM)"
   ]
  },
  {
   "cell_type": "code",
   "execution_count": 10,
   "metadata": {
    "collapsed": false
   },
   "outputs": [
    {
     "name": "stdout",
     "output_type": "stream",
     "text": [
      "GBM Precision: [[0.675162105576199, 0.8484848484848485]]\n",
      "GBM Accuracy: [[0.5356661615701861, 0.6584912671869194]]\n",
      "GBM AUC: 0.691592366843\n",
      "\n",
      "GLM Precision: [[0.7692108091388267, 1.0]]\n",
      "GLM Accuracy: [[0.5116854420033787, 0.6291341508732813]]\n",
      "GLM AUC: 0.654934783021\n"
     ]
    }
   ],
   "source": [
    "# ROC for test set\n",
    "print('GBM Precision: {0}'.format(gbm_perf.precision()))\n",
    "print('GBM Accuracy: {0}'.format(gbm_perf.accuracy()))\n",
    "print('GBM AUC: {0}'.format(gbm_perf.auc()))\n",
    "print\n",
    "print('GLM Precision: {0}'.format(glm_perf.precision()))\n",
    "print('GLM Accuracy: {0}'.format(glm_perf.accuracy()))\n",
    "print('GLM AUC: {0}'.format(glm_perf.auc()))"
   ]
  }
 ],
 "metadata": {
  "kernelspec": {
   "display_name": "Python 2",
   "language": "python",
   "name": "python2"
  },
  "language_info": {
   "codemirror_mode": {
    "name": "ipython",
    "version": 2
   },
   "file_extension": ".py",
   "mimetype": "text/x-python",
   "name": "python",
   "nbconvert_exporter": "python",
   "pygments_lexer": "ipython2",
   "version": "2.7.9"
  }
 },
 "nbformat": 4,
 "nbformat_minor": 0
}
