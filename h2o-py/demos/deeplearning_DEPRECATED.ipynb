{
 "metadata": {
  "name": "",
  "signature": "sha256:cb33f4bb5a7f5e3702f0034995f5b405c2fd1b4977d5544226ef887f70e50796"
 },
 "nbformat": 3,
 "nbformat_minor": 0,
 "worksheets": [
  {
   "cells": [
    {
     "cell_type": "code",
     "collapsed": false,
     "input": [
      "import h2o"
     ],
     "language": "python",
     "metadata": {},
     "outputs": [],
     "prompt_number": 1
    },
    {
     "cell_type": "code",
     "collapsed": false,
     "input": [
      "h2o.init()"
     ],
     "language": "python",
     "metadata": {},
     "outputs": [
      {
       "html": [
        "<div style=\"overflow:auto\"><table style=\"width:50%\"><tr><td>H2O cluster uptime: </td>\n",
        "<td>4 minutes 24 seconds 528 milliseconds </td></tr>\n",
        "<tr><td>H2O cluster version: </td>\n",
        "<td>3.5.0.99999</td></tr>\n",
        "<tr><td>H2O cluster name: </td>\n",
        "<td>ece</td></tr>\n",
        "<tr><td>H2O cluster total nodes: </td>\n",
        "<td>1</td></tr>\n",
        "<tr><td>H2O cluster total memory: </td>\n",
        "<td>10.67 GB</td></tr>\n",
        "<tr><td>H2O cluster total cores: </td>\n",
        "<td>8</td></tr>\n",
        "<tr><td>H2O cluster allowed cores: </td>\n",
        "<td>8</td></tr>\n",
        "<tr><td>H2O cluster healthy: </td>\n",
        "<td>True</td></tr>\n",
        "<tr><td>H2O Connection ip: </td>\n",
        "<td>127.0.0.1</td></tr>\n",
        "<tr><td>H2O Connection port: </td>\n",
        "<td>54321</td></tr></table></div>"
       ],
       "metadata": {},
       "output_type": "display_data",
       "text": [
        "--------------------------  -------------------------------------\n",
        "H2O cluster uptime:         4 minutes 24 seconds 528 milliseconds\n",
        "H2O cluster version:        3.5.0.99999\n",
        "H2O cluster name:           ece\n",
        "H2O cluster total nodes:    1\n",
        "H2O cluster total memory:   10.67 GB\n",
        "H2O cluster total cores:    8\n",
        "H2O cluster allowed cores:  8\n",
        "H2O cluster healthy:        True\n",
        "H2O Connection ip:          127.0.0.1\n",
        "H2O Connection port:        54321\n",
        "--------------------------  -------------------------------------"
       ]
      }
     ],
     "prompt_number": 2
    },
    {
     "cell_type": "code",
     "collapsed": false,
     "input": [
      "from h2o.utils.shared_utils import _locate # private function. used to find files within h2o git project directory.\n",
      "\n",
      "prostate = h2o.upload_file(path=_locate(\"smalldata/logreg/prostate.csv\"))\n",
      "prostate.describe()"
     ],
     "language": "python",
     "metadata": {},
     "outputs": [
      {
       "output_type": "stream",
       "stream": "stdout",
       "text": [
        "\n",
        "\r",
        "Parse Progress: [                                                  ] 00%"
       ]
      },
      {
       "output_type": "stream",
       "stream": "stdout",
       "text": [
        "\r",
        "Parse Progress: [##################################################] 100%"
       ]
      },
      {
       "output_type": "stream",
       "stream": "stdout",
       "text": [
        "\n",
        "Uploaded py9b6e1d63-2887-488f-9a46-785fdf2434e5 into cluster with 380 rows and 9 cols\n",
        "Rows: 380 Cols: 9\n",
        "\n",
        "Chunk compression summary:\n"
       ]
      },
      {
       "html": [
        "<div style=\"overflow:auto\"><table style=\"width:50%\"><tr><td>chunk_type</td>\n",
        "<td>chunk_name</td>\n",
        "<td>count</td>\n",
        "<td>count_percentage</td>\n",
        "<td>size</td>\n",
        "<td>size_percentage</td></tr>\n",
        "<tr><td>CBS</td>\n",
        "<td>Bits</td>\n",
        "<td>1</td>\n",
        "<td>11.111112</td>\n",
        "<td>    118  B</td>\n",
        "<td>2.4210093</td></tr>\n",
        "<tr><td>C1N</td>\n",
        "<td>1-Byte Integers (w/o NAs)</td>\n",
        "<td>5</td>\n",
        "<td>55.555557</td>\n",
        "<td>    2.2 KB</td>\n",
        "<td>45.958145</td></tr>\n",
        "<tr><td>C2</td>\n",
        "<td>2-Byte Integers</td>\n",
        "<td>1</td>\n",
        "<td>11.111112</td>\n",
        "<td>    828  B</td>\n",
        "<td>16.9881</td></tr>\n",
        "<tr><td>C2S</td>\n",
        "<td>2-Byte Fractions</td>\n",
        "<td>2</td>\n",
        "<td>22.222223</td>\n",
        "<td>    1.6 KB</td>\n",
        "<td>34.632744</td></tr></table></div>"
       ],
       "metadata": {},
       "output_type": "display_data",
       "text": [
        "chunk_type    chunk_name                 count    count_percentage    size    size_percentage\n",
        "------------  -------------------------  -------  ------------------  ------  -----------------\n",
        "CBS           Bits                       1        11.1111             118  B  2.42101\n",
        "C1N           1-Byte Integers (w/o NAs)  5        55.5556             2.2 KB  45.9581\n",
        "C2            2-Byte Integers            1        11.1111             828  B  16.9881\n",
        "C2S           2-Byte Fractions           2        22.2222             1.6 KB  34.6327"
       ]
      },
      {
       "output_type": "stream",
       "stream": "stdout",
       "text": [
        "\n",
        "Frame distribution summary:\n"
       ]
      },
      {
       "html": [
        "<div style=\"overflow:auto\"><table style=\"width:50%\"><tr><td></td>\n",
        "<td>size</td>\n",
        "<td>number_of_rows</td>\n",
        "<td>number_of_chunks_per_column</td>\n",
        "<td>number_of_chunks</td></tr>\n",
        "<tr><td>10.0.0.24:54321</td>\n",
        "<td>    4.8 KB</td>\n",
        "<td>380.0</td>\n",
        "<td>1.0</td>\n",
        "<td>9.0</td></tr>\n",
        "<tr><td>mean</td>\n",
        "<td>    4.8 KB</td>\n",
        "<td>380.0</td>\n",
        "<td>1.0</td>\n",
        "<td>9.0</td></tr>\n",
        "<tr><td>min</td>\n",
        "<td>    4.8 KB</td>\n",
        "<td>380.0</td>\n",
        "<td>1.0</td>\n",
        "<td>9.0</td></tr>\n",
        "<tr><td>max</td>\n",
        "<td>    4.8 KB</td>\n",
        "<td>380.0</td>\n",
        "<td>1.0</td>\n",
        "<td>9.0</td></tr>\n",
        "<tr><td>stddev</td>\n",
        "<td>      0  B</td>\n",
        "<td>0.0</td>\n",
        "<td>0.0</td>\n",
        "<td>0.0</td></tr>\n",
        "<tr><td>total</td>\n",
        "<td>    4.8 KB</td>\n",
        "<td>380.0</td>\n",
        "<td>1.0</td>\n",
        "<td>9.0</td></tr></table></div>"
       ],
       "metadata": {},
       "output_type": "display_data",
       "text": [
        "                 size    number_of_rows    number_of_chunks_per_column    number_of_chunks\n",
        "---------------  ------  ----------------  -----------------------------  ------------------\n",
        "10.0.0.24:54321  4.8 KB  380               1                              9\n",
        "mean             4.8 KB  380               1                              9\n",
        "min              4.8 KB  380               1                              9\n",
        "max              4.8 KB  380               1                              9\n",
        "stddev           0  B    0                 0                              0\n",
        "total            4.8 KB  380               1                              9"
       ]
      },
      {
       "output_type": "stream",
       "stream": "stdout",
       "text": [
        "\n",
        "Column-by-Column Summary:\n",
        "\n"
       ]
      },
      {
       "html": [
        "<div style=\"overflow:auto\"><table style=\"width:50%\"><tr><td></td>\n",
        "<td>ID</td>\n",
        "<td>CAPSULE</td>\n",
        "<td>AGE</td>\n",
        "<td>RACE</td>\n",
        "<td>DPROS</td>\n",
        "<td>DCAPS</td>\n",
        "<td>PSA</td>\n",
        "<td>VOL</td>\n",
        "<td>GLEASON</td></tr>\n",
        "<tr><td>type</td>\n",
        "<td>int</td>\n",
        "<td>int</td>\n",
        "<td>int</td>\n",
        "<td>int</td>\n",
        "<td>int</td>\n",
        "<td>int</td>\n",
        "<td>real</td>\n",
        "<td>real</td>\n",
        "<td>int</td></tr>\n",
        "<tr><td>mins</td>\n",
        "<td>1.0</td>\n",
        "<td>0.0</td>\n",
        "<td>43.0</td>\n",
        "<td>0.0</td>\n",
        "<td>1.0</td>\n",
        "<td>1.0</td>\n",
        "<td>0.3</td>\n",
        "<td>0.0</td>\n",
        "<td>0.0</td></tr>\n",
        "<tr><td>maxs</td>\n",
        "<td>380.0</td>\n",
        "<td>1.0</td>\n",
        "<td>79.0</td>\n",
        "<td>2.0</td>\n",
        "<td>4.0</td>\n",
        "<td>2.0</td>\n",
        "<td>139.7</td>\n",
        "<td>97.6</td>\n",
        "<td>9.0</td></tr>\n",
        "<tr><td>mean</td>\n",
        "<td>190.5</td>\n",
        "<td>0.402631578947</td>\n",
        "<td>66.0394736842</td>\n",
        "<td>1.08684210526</td>\n",
        "<td>2.27105263158</td>\n",
        "<td>1.10789473684</td>\n",
        "<td>15.4086315789</td>\n",
        "<td>15.8129210526</td>\n",
        "<td>6.38421052632</td></tr>\n",
        "<tr><td>sigma</td>\n",
        "<td>109.840793879</td>\n",
        "<td>0.491074338963</td>\n",
        "<td>6.52707126917</td>\n",
        "<td>0.308773258025</td>\n",
        "<td>1.00010761815</td>\n",
        "<td>0.310656449351</td>\n",
        "<td>19.9975726686</td>\n",
        "<td>18.3476199673</td>\n",
        "<td>1.09195337443</td></tr>\n",
        "<tr><td>zero_count</td>\n",
        "<td>0</td>\n",
        "<td>227</td>\n",
        "<td>0</td>\n",
        "<td>3</td>\n",
        "<td>0</td>\n",
        "<td>0</td>\n",
        "<td>0</td>\n",
        "<td>167</td>\n",
        "<td>2</td></tr>\n",
        "<tr><td>missing_count</td>\n",
        "<td>0</td>\n",
        "<td>0</td>\n",
        "<td>0</td>\n",
        "<td>0</td>\n",
        "<td>0</td>\n",
        "<td>0</td>\n",
        "<td>0</td>\n",
        "<td>0</td>\n",
        "<td>0</td></tr></table></div>"
       ],
       "metadata": {},
       "output_type": "display_data",
       "text": [
        "               ID             CAPSULE         AGE            RACE            DPROS          DCAPS           PSA            VOL            GLEASON\n",
        "-------------  -------------  --------------  -------------  --------------  -------------  --------------  -------------  -------------  -------------\n",
        "type           int            int             int            int             int            int             real           real           int\n",
        "mins           1.0            0.0             43.0           0.0             1.0            1.0             0.3            0.0            0.0\n",
        "maxs           380.0          1.0             79.0           2.0             4.0            2.0             139.7          97.6           9.0\n",
        "mean           190.5          0.402631578947  66.0394736842  1.08684210526   2.27105263158  1.10789473684   15.4086315789  15.8129210526  6.38421052632\n",
        "sigma          109.840793879  0.491074338963  6.52707126917  0.308773258025  1.00010761815  0.310656449351  19.9975726686  18.3476199673  1.09195337443\n",
        "zero_count     0              227             0              3               0              0               0              167            2\n",
        "missing_count  0              0               0              0               0              0               0              0              0"
       ]
      }
     ],
     "prompt_number": 3
    },
    {
     "cell_type": "code",
     "collapsed": false,
     "input": [
      "prostate[\"CAPSULE\"] = prostate[\"CAPSULE\"].asfactor()\n",
      "model = h2o.deeplearning(x = prostate[list(set(prostate.columns) - set([\"ID\",\"CAPSULE\"]))], y = prostate[\"CAPSULE\"], training_frame = prostate, activation = \"Tanh\", hidden = [10, 10, 10], epochs = 10000)\n",
      "model.show()"
     ],
     "language": "python",
     "metadata": {},
     "outputs": [
      {
       "output_type": "stream",
       "stream": "stdout",
       "text": [
        "\n",
        "\r",
        "deeplearning Model Build Progress: [                                                  ] 00%"
       ]
      },
      {
       "output_type": "stream",
       "stream": "stdout",
       "text": [
        "\r",
        "deeplearning Model Build Progress: [                                                  ] 00%"
       ]
      },
      {
       "output_type": "stream",
       "stream": "stdout",
       "text": [
        "\r",
        "deeplearning Model Build Progress: [#                                                 ] 02%"
       ]
      },
      {
       "output_type": "stream",
       "stream": "stdout",
       "text": [
        "\r",
        "deeplearning Model Build Progress: [##                                                ] 04%"
       ]
      },
      {
       "output_type": "stream",
       "stream": "stdout",
       "text": [
        "\r",
        "deeplearning Model Build Progress: [####                                              ] 08%"
       ]
      },
      {
       "output_type": "stream",
       "stream": "stdout",
       "text": [
        "\r",
        "deeplearning Model Build Progress: [######                                            ] 12%"
       ]
      },
      {
       "output_type": "stream",
       "stream": "stdout",
       "text": [
        "\r",
        "deeplearning Model Build Progress: [########                                          ] 17%"
       ]
      },
      {
       "output_type": "stream",
       "stream": "stdout",
       "text": [
        "\r",
        "deeplearning Model Build Progress: [###########                                       ] 23%"
       ]
      },
      {
       "output_type": "stream",
       "stream": "stdout",
       "text": [
        "\r",
        "deeplearning Model Build Progress: [###############                                   ] 30%"
       ]
      },
      {
       "output_type": "stream",
       "stream": "stdout",
       "text": [
        "\r",
        "deeplearning Model Build Progress: [##################                                ] 37%"
       ]
      },
      {
       "output_type": "stream",
       "stream": "stdout",
       "text": [
        "\r",
        "deeplearning Model Build Progress: [#######################                           ] 46%"
       ]
      },
      {
       "output_type": "stream",
       "stream": "stdout",
       "text": [
        "\r",
        "deeplearning Model Build Progress: [###########################                       ] 55%"
       ]
      },
      {
       "output_type": "stream",
       "stream": "stdout",
       "text": [
        "\r",
        "deeplearning Model Build Progress: [###############################                   ] 63%"
       ]
      },
      {
       "output_type": "stream",
       "stream": "stdout",
       "text": [
        "\r",
        "deeplearning Model Build Progress: [###################################               ] 71%"
       ]
      },
      {
       "output_type": "stream",
       "stream": "stdout",
       "text": [
        "\r",
        "deeplearning Model Build Progress: [#######################################           ] 79%"
       ]
      },
      {
       "output_type": "stream",
       "stream": "stdout",
       "text": [
        "\r",
        "deeplearning Model Build Progress: [############################################      ] 88%"
       ]
      },
      {
       "output_type": "stream",
       "stream": "stdout",
       "text": [
        "\r",
        "deeplearning Model Build Progress: [###############################################   ] 95%"
       ]
      },
      {
       "output_type": "stream",
       "stream": "stdout",
       "text": [
        "\r",
        "deeplearning Model Build Progress: [##################################################] 100%"
       ]
      },
      {
       "output_type": "stream",
       "stream": "stdout",
       "text": [
        "\n",
        "Model Details\n",
        "=============\n",
        "H2OBinomialModel :  Deep Learning\n",
        "Model Key:  DeepLearning_model_python_1444621872790_25\n",
        "\n",
        "Status of Neuron Layers: predicting CAPSULE, 2-class classification, bernoulli distribution, CrossEntropy loss, 322 weights/biases, 8.5 KB, 3,800,000 training samples, mini-batch size 1\n",
        "\n"
       ]
      },
      {
       "html": [
        "<div style=\"overflow:auto\"><table style=\"width:50%\"><tr><td></td>\n",
        "<td>layer</td>\n",
        "<td>units</td>\n",
        "<td>type</td>\n",
        "<td>dropout</td>\n",
        "<td>l1</td>\n",
        "<td>l2</td>\n",
        "<td>mean_rate</td>\n",
        "<td>rate_RMS</td>\n",
        "<td>momentum</td>\n",
        "<td>mean_weight</td>\n",
        "<td>weight_RMS</td>\n",
        "<td>mean_bias</td>\n",
        "<td>bias_RMS</td></tr>\n",
        "<tr><td></td>\n",
        "<td>1</td>\n",
        "<td>7</td>\n",
        "<td>Input</td>\n",
        "<td>0.0</td>\n",
        "<td></td>\n",
        "<td></td>\n",
        "<td></td>\n",
        "<td></td>\n",
        "<td></td>\n",
        "<td></td>\n",
        "<td></td>\n",
        "<td></td>\n",
        "<td></td></tr>\n",
        "<tr><td></td>\n",
        "<td>2</td>\n",
        "<td>10</td>\n",
        "<td>Tanh</td>\n",
        "<td>0.0</td>\n",
        "<td>0.0</td>\n",
        "<td>0.0</td>\n",
        "<td>0.0431974798491</td>\n",
        "<td>0.0596570521593</td>\n",
        "<td>0.0</td>\n",
        "<td>0.339393859047</td>\n",
        "<td>1.28530693054</td>\n",
        "<td>0.0687711206469</td>\n",
        "<td>0.90153336525</td></tr>\n",
        "<tr><td></td>\n",
        "<td>3</td>\n",
        "<td>10</td>\n",
        "<td>Tanh</td>\n",
        "<td>0.0</td>\n",
        "<td>0.0</td>\n",
        "<td>0.0</td>\n",
        "<td>0.0849079652375</td>\n",
        "<td>0.0955412983894</td>\n",
        "<td>0.0</td>\n",
        "<td>0.184064850851</td>\n",
        "<td>1.30200242996</td>\n",
        "<td>0.173068487576</td>\n",
        "<td>0.660982608795</td></tr>\n",
        "<tr><td></td>\n",
        "<td>4</td>\n",
        "<td>10</td>\n",
        "<td>Tanh</td>\n",
        "<td>0.0</td>\n",
        "<td>0.0</td>\n",
        "<td>0.0</td>\n",
        "<td>0.197120434018</td>\n",
        "<td>0.265433907509</td>\n",
        "<td>0.0</td>\n",
        "<td>-0.221858388707</td>\n",
        "<td>1.96628475189</td>\n",
        "<td>1.03366405584</td>\n",
        "<td>1.32316446304</td></tr>\n",
        "<tr><td></td>\n",
        "<td>5</td>\n",
        "<td>2</td>\n",
        "<td>Softmax</td>\n",
        "<td></td>\n",
        "<td>0.0</td>\n",
        "<td>0.0</td>\n",
        "<td>0.0747286665253</td>\n",
        "<td>0.0741221606731</td>\n",
        "<td>0.0</td>\n",
        "<td>0.0154564060271</td>\n",
        "<td>5.87673377991</td>\n",
        "<td>-0.154785814024</td>\n",
        "<td>0.984552383423</td></tr></table></div>"
       ],
       "metadata": {},
       "output_type": "display_data",
       "text": [
        "    layer    units    type     dropout    l1    l2    mean_rate        rate_RMS         momentum    mean_weight      weight_RMS     mean_bias        bias_RMS\n",
        "--  -------  -------  -------  ---------  ----  ----  ---------------  ---------------  ----------  ---------------  -------------  ---------------  --------------\n",
        "    1        7        Input    0.0\n",
        "    2        10       Tanh     0.0        0.0   0.0   0.0431974798491  0.0596570521593  0.0         0.339393859047   1.28530693054  0.0687711206469  0.90153336525\n",
        "    3        10       Tanh     0.0        0.0   0.0   0.0849079652375  0.0955412983894  0.0         0.184064850851   1.30200242996  0.173068487576   0.660982608795\n",
        "    4        10       Tanh     0.0        0.0   0.0   0.197120434018   0.265433907509   0.0         -0.221858388707  1.96628475189  1.03366405584    1.32316446304\n",
        "    5        2        Softmax             0.0   0.0   0.0747286665253  0.0741221606731  0.0         0.0154564060271  5.87673377991  -0.154785814024  0.984552383423"
       ]
      },
      {
       "output_type": "stream",
       "stream": "stdout",
       "text": [
        "\n",
        "\n",
        "ModelMetricsBinomial: deeplearning\n",
        "** Reported on train data. **\n",
        "\n",
        "MSE: 0.0109153292711\n",
        "R^2: 0.954617674506\n",
        "LogLoss: 0.0385994595722\n",
        "AUC: 0.999424145576\n",
        "Gini: 0.998848291152\n",
        "\n",
        "Confusion Matrix (Act/Pred) for max f1 @ threshold = 0.0371296297347:\n"
       ]
      },
      {
       "html": [
        "<div style=\"overflow:auto\"><table style=\"width:50%\"><tr><td></td>\n",
        "<td>0</td>\n",
        "<td>1</td>\n",
        "<td>Error</td>\n",
        "<td>Rate</td></tr>\n",
        "<tr><td>0</td>\n",
        "<td>224.0</td>\n",
        "<td>3.0</td>\n",
        "<td>0.0132</td>\n",
        "<td> (3.0/227.0)</td></tr>\n",
        "<tr><td>1</td>\n",
        "<td>0.0</td>\n",
        "<td>153.0</td>\n",
        "<td>0.0</td>\n",
        "<td> (0.0/153.0)</td></tr>\n",
        "<tr><td>Total</td>\n",
        "<td>224.0</td>\n",
        "<td>156.0</td>\n",
        "<td>0.0079</td>\n",
        "<td> (3.0/380.0)</td></tr></table></div>"
       ],
       "metadata": {},
       "output_type": "display_data",
       "text": [
        "       0    1    Error    Rate\n",
        "-----  ---  ---  -------  -----------\n",
        "0      224  3    0.0132   (3.0/227.0)\n",
        "1      0    153  0        (0.0/153.0)\n",
        "Total  224  156  0.0079   (3.0/380.0)"
       ]
      },
      {
       "output_type": "stream",
       "stream": "stdout",
       "text": [
        "\n",
        "Maximum Metrics: Maximum metrics at their respective thresholds\n",
        "\n"
       ]
      },
      {
       "html": [
        "<div style=\"overflow:auto\"><table style=\"width:50%\"><tr><td>metric</td>\n",
        "<td>threshold</td>\n",
        "<td>value</td>\n",
        "<td>idx</td></tr>\n",
        "<tr><td>max f1</td>\n",
        "<td>0.0371296297347</td>\n",
        "<td>0.990291262136</td>\n",
        "<td>96.0</td></tr>\n",
        "<tr><td>max f2</td>\n",
        "<td>0.0371296297347</td>\n",
        "<td>0.99609375</td>\n",
        "<td>96.0</td></tr>\n",
        "<tr><td>max f0point5</td>\n",
        "<td>0.401888940217</td>\n",
        "<td>0.986928104575</td>\n",
        "<td>93.0</td></tr>\n",
        "<tr><td>max accuracy</td>\n",
        "<td>0.0371296297347</td>\n",
        "<td>0.992105263158</td>\n",
        "<td>96.0</td></tr>\n",
        "<tr><td>max precision</td>\n",
        "<td>0.999999999312</td>\n",
        "<td>1.0</td>\n",
        "<td>0.0</td></tr>\n",
        "<tr><td>max absolute_MCC</td>\n",
        "<td>0.0371296297347</td>\n",
        "<td>0.983772088887</td>\n",
        "<td>96.0</td></tr>\n",
        "<tr><td>max min_per_class_accuracy</td>\n",
        "<td>0.401888940217</td>\n",
        "<td>0.986928104575</td>\n",
        "<td>93.0</td></tr></table></div>"
       ],
       "metadata": {},
       "output_type": "display_data",
       "text": [
        "metric                      threshold    value     idx\n",
        "--------------------------  -----------  --------  -----\n",
        "max f1                      0.0371296    0.990291  96\n",
        "max f2                      0.0371296    0.996094  96\n",
        "max f0point5                0.401889     0.986928  93\n",
        "max accuracy                0.0371296    0.992105  96\n",
        "max precision               1            1         0\n",
        "max absolute_MCC            0.0371296    0.983772  96\n",
        "max min_per_class_accuracy  0.401889     0.986928  93"
       ]
      },
      {
       "output_type": "stream",
       "stream": "stdout",
       "text": [
        "\n",
        "Scoring History:\n"
       ]
      },
      {
       "html": [
        "<div style=\"overflow:auto\"><table style=\"width:50%\"><tr><td></td>\n",
        "<td>timestamp</td>\n",
        "<td>duration</td>\n",
        "<td>training_speed</td>\n",
        "<td>epochs</td>\n",
        "<td>samples</td>\n",
        "<td>training_MSE</td>\n",
        "<td>training_r2</td>\n",
        "<td>training_logloss</td>\n",
        "<td>training_AUC</td>\n",
        "<td>training_classification_error</td></tr>\n",
        "<tr><td></td>\n",
        "<td>2015-10-11 20:55:38</td>\n",
        "<td> 0.000 sec</td>\n",
        "<td>None</td>\n",
        "<td>0.0</td>\n",
        "<td>0.0</td>\n",
        "<td>nan</td>\n",
        "<td>nan</td>\n",
        "<td>nan</td>\n",
        "<td>nan</td>\n",
        "<td>nan</td></tr>\n",
        "<tr><td></td>\n",
        "<td>2015-10-11 20:55:38</td>\n",
        "<td> 0.026 sec</td>\n",
        "<td>146153.846 rows/sec</td>\n",
        "<td>10.0</td>\n",
        "<td>3800.0</td>\n",
        "<td>0.196451486022</td>\n",
        "<td>0.183219758096</td>\n",
        "<td>0.58663358323</td>\n",
        "<td>0.77783536322</td>\n",
        "<td>0.297368421053</td></tr>\n",
        "<tr><td></td>\n",
        "<td>2015-10-11 20:55:43</td>\n",
        "<td> 5.029 sec</td>\n",
        "<td>315092.464 rows/sec</td>\n",
        "<td>4170.0</td>\n",
        "<td>1584600.0</td>\n",
        "<td>0.00864409272223</td>\n",
        "<td>0.964060724163</td>\n",
        "<td>0.0314068106534</td>\n",
        "<td>0.999539316461</td>\n",
        "<td>0.00789473684211</td></tr>\n",
        "<tr><td></td>\n",
        "<td>2015-10-11 20:55:48</td>\n",
        "<td>10.030 sec</td>\n",
        "<td>303090.728 rows/sec</td>\n",
        "<td>8000.0</td>\n",
        "<td>3040000.0</td>\n",
        "<td>0.00904158664897</td>\n",
        "<td>0.96240807601</td>\n",
        "<td>0.0303556924702</td>\n",
        "<td>0.99951052374</td>\n",
        "<td>0.0105263157895</td></tr>\n",
        "<tr><td></td>\n",
        "<td>2015-10-11 20:55:50</td>\n",
        "<td>12.754 sec</td>\n",
        "<td>297945.743 rows/sec</td>\n",
        "<td>10000.0</td>\n",
        "<td>3800000.0</td>\n",
        "<td>0.0109153292711</td>\n",
        "<td>0.954617674506</td>\n",
        "<td>0.0385994595722</td>\n",
        "<td>0.999424145576</td>\n",
        "<td>0.00789473684211</td></tr></table></div>"
       ],
       "metadata": {},
       "output_type": "display_data",
       "text": [
        "    timestamp            duration    training_speed       epochs    samples     training_MSE    training_r2    training_logloss    training_AUC    training_classification_error\n",
        "--  -------------------  ----------  -------------------  --------  ----------  --------------  -------------  ------------------  --------------  -------------------------------\n",
        "    2015-10-11 20:55:38  0.000 sec                        0         0           nan             nan            nan                 nan             nan\n",
        "    2015-10-11 20:55:38  0.026 sec   146153.846 rows/sec  10        3800        0.196451        0.18322        0.586634            0.777835        0.297368\n",
        "    2015-10-11 20:55:43  5.029 sec   315092.464 rows/sec  4170      1.5846e+06  0.00864409      0.964061       0.0314068           0.999539        0.00789474\n",
        "    2015-10-11 20:55:48  10.030 sec  303090.728 rows/sec  8000      3.04e+06    0.00904159      0.962408       0.0303557           0.999511        0.0105263\n",
        "    2015-10-11 20:55:50  12.754 sec  297945.743 rows/sec  10000     3.8e+06     0.0109153       0.954618       0.0385995           0.999424        0.00789474"
       ]
      }
     ],
     "prompt_number": 4
    },
    {
     "cell_type": "code",
     "collapsed": false,
     "input": [
      "predictions = model.predict(prostate)\n",
      "predictions.show()"
     ],
     "language": "python",
     "metadata": {},
     "outputs": [
      {
       "output_type": "stream",
       "stream": "stdout",
       "text": [
        "H2OFrame with 380 rows and 3 columns: \n"
       ]
      },
      {
       "html": [
        "<div style=\"max-width:1500px;overflow:auto;\">\n",
        "<table border=\"1\" class=\"dataframe\">\n",
        "  <thead>\n",
        "    <tr style=\"text-align: right;\">\n",
        "      <th></th>\n",
        "      <th>predict</th>\n",
        "      <th>p0</th>\n",
        "      <th>p1</th>\n",
        "    </tr>\n",
        "  </thead>\n",
        "  <tbody>\n",
        "    <tr>\n",
        "      <th>0</th>\n",
        "      <td>0</td>\n",
        "      <td>0.999988</td>\n",
        "      <td>1.187702e-05</td>\n",
        "    </tr>\n",
        "    <tr>\n",
        "      <th>1</th>\n",
        "      <td>0</td>\n",
        "      <td>1.000000</td>\n",
        "      <td>2.372383e-08</td>\n",
        "    </tr>\n",
        "    <tr>\n",
        "      <th>2</th>\n",
        "      <td>0</td>\n",
        "      <td>1.000000</td>\n",
        "      <td>1.921410e-12</td>\n",
        "    </tr>\n",
        "    <tr>\n",
        "      <th>3</th>\n",
        "      <td>0</td>\n",
        "      <td>0.999998</td>\n",
        "      <td>1.825251e-06</td>\n",
        "    </tr>\n",
        "    <tr>\n",
        "      <th>4</th>\n",
        "      <td>0</td>\n",
        "      <td>1.000000</td>\n",
        "      <td>5.822914e-21</td>\n",
        "    </tr>\n",
        "    <tr>\n",
        "      <th>5</th>\n",
        "      <td>1</td>\n",
        "      <td>0.000036</td>\n",
        "      <td>9.999637e-01</td>\n",
        "    </tr>\n",
        "    <tr>\n",
        "      <th>6</th>\n",
        "      <td>0</td>\n",
        "      <td>0.999920</td>\n",
        "      <td>7.996056e-05</td>\n",
        "    </tr>\n",
        "    <tr>\n",
        "      <th>7</th>\n",
        "      <td>0</td>\n",
        "      <td>1.000000</td>\n",
        "      <td>1.378506e-13</td>\n",
        "    </tr>\n",
        "    <tr>\n",
        "      <th>8</th>\n",
        "      <td>0</td>\n",
        "      <td>0.999927</td>\n",
        "      <td>7.308038e-05</td>\n",
        "    </tr>\n",
        "    <tr>\n",
        "      <th>9</th>\n",
        "      <td>0</td>\n",
        "      <td>1.000000</td>\n",
        "      <td>2.075219e-13</td>\n",
        "    </tr>\n",
        "  </tbody>\n",
        "</table>\n",
        "</div>"
       ],
       "metadata": {},
       "output_type": "display_data",
       "text": [
        "  predict        p0            p1\n",
        "0       0  0.999988  1.187702e-05\n",
        "1       0  1.000000  2.372383e-08\n",
        "2       0  1.000000  1.921410e-12\n",
        "3       0  0.999998  1.825251e-06\n",
        "4       0  1.000000  5.822914e-21\n",
        "5       1  0.000036  9.999637e-01\n",
        "6       0  0.999920  7.996056e-05\n",
        "7       0  1.000000  1.378506e-13\n",
        "8       0  0.999927  7.308038e-05\n",
        "9       0  1.000000  2.075219e-13"
       ]
      }
     ],
     "prompt_number": 5
    },
    {
     "cell_type": "code",
     "collapsed": false,
     "input": [
      "performance = model.model_performance(prostate)\n",
      "performance.show()"
     ],
     "language": "python",
     "metadata": {},
     "outputs": [
      {
       "output_type": "stream",
       "stream": "stdout",
       "text": [
        "\n",
        "ModelMetricsBinomial: deeplearning\n",
        "** Reported on test data. **\n",
        "\n",
        "MSE: 0.0109153292711\n",
        "R^2: 0.954617674506\n",
        "LogLoss: 0.0385994595722\n",
        "AUC: 0.999424145576\n",
        "Gini: 0.998848291152\n",
        "\n",
        "Confusion Matrix (Act/Pred) for max f1 @ threshold = 0.0371296297347:\n"
       ]
      },
      {
       "html": [
        "<div style=\"overflow:auto\"><table style=\"width:50%\"><tr><td></td>\n",
        "<td>0</td>\n",
        "<td>1</td>\n",
        "<td>Error</td>\n",
        "<td>Rate</td></tr>\n",
        "<tr><td>0</td>\n",
        "<td>224.0</td>\n",
        "<td>3.0</td>\n",
        "<td>0.0132</td>\n",
        "<td> (3.0/227.0)</td></tr>\n",
        "<tr><td>1</td>\n",
        "<td>0.0</td>\n",
        "<td>153.0</td>\n",
        "<td>0.0</td>\n",
        "<td> (0.0/153.0)</td></tr>\n",
        "<tr><td>Total</td>\n",
        "<td>224.0</td>\n",
        "<td>156.0</td>\n",
        "<td>0.0079</td>\n",
        "<td> (3.0/380.0)</td></tr></table></div>"
       ],
       "metadata": {},
       "output_type": "display_data",
       "text": [
        "       0    1    Error    Rate\n",
        "-----  ---  ---  -------  -----------\n",
        "0      224  3    0.0132   (3.0/227.0)\n",
        "1      0    153  0        (0.0/153.0)\n",
        "Total  224  156  0.0079   (3.0/380.0)"
       ]
      },
      {
       "output_type": "stream",
       "stream": "stdout",
       "text": [
        "\n",
        "Maximum Metrics: Maximum metrics at their respective thresholds\n",
        "\n"
       ]
      },
      {
       "html": [
        "<div style=\"overflow:auto\"><table style=\"width:50%\"><tr><td>metric</td>\n",
        "<td>threshold</td>\n",
        "<td>value</td>\n",
        "<td>idx</td></tr>\n",
        "<tr><td>max f1</td>\n",
        "<td>0.0371296297347</td>\n",
        "<td>0.990291262136</td>\n",
        "<td>144.0</td></tr>\n",
        "<tr><td>max f2</td>\n",
        "<td>0.0371296297347</td>\n",
        "<td>0.99609375</td>\n",
        "<td>144.0</td></tr>\n",
        "<tr><td>max f0point5</td>\n",
        "<td>0.401888940217</td>\n",
        "<td>0.986928104575</td>\n",
        "<td>141.0</td></tr>\n",
        "<tr><td>max accuracy</td>\n",
        "<td>0.0371296297347</td>\n",
        "<td>0.992105263158</td>\n",
        "<td>144.0</td></tr>\n",
        "<tr><td>max precision</td>\n",
        "<td>1.0</td>\n",
        "<td>1.0</td>\n",
        "<td>0.0</td></tr>\n",
        "<tr><td>max absolute_MCC</td>\n",
        "<td>0.0371296297347</td>\n",
        "<td>0.983772088887</td>\n",
        "<td>144.0</td></tr>\n",
        "<tr><td>max min_per_class_accuracy</td>\n",
        "<td>0.401888940217</td>\n",
        "<td>0.986928104575</td>\n",
        "<td>141.0</td></tr></table></div>"
       ],
       "metadata": {},
       "output_type": "display_data",
       "text": [
        "metric                      threshold    value     idx\n",
        "--------------------------  -----------  --------  -----\n",
        "max f1                      0.0371296    0.990291  144\n",
        "max f2                      0.0371296    0.996094  144\n",
        "max f0point5                0.401889     0.986928  141\n",
        "max accuracy                0.0371296    0.992105  144\n",
        "max precision               1            1         0\n",
        "max absolute_MCC            0.0371296    0.983772  144\n",
        "max min_per_class_accuracy  0.401889     0.986928  141"
       ]
      }
     ],
     "prompt_number": 6
    }
   ],
   "metadata": {}
  }
 ]
}