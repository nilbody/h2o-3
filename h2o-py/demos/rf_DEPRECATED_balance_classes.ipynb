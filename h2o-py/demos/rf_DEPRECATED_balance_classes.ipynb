{
 "metadata": {
  "name": "",
  "signature": "sha256:6fa4e9140087c9c79b330297e3fd66e1cf4da5e693444f5c8893eaa67fd106b1"
 },
 "nbformat": 3,
 "nbformat_minor": 0,
 "worksheets": [
  {
   "cells": [
    {
     "cell_type": "code",
     "collapsed": false,
     "input": [
      "# This is a demo of H2O's GLM function\n",
      "# It imports a data set, parses it, and prints a summary\n",
      "# Then, it runs GLM with a binomial link function\n",
      "import h2o"
     ],
     "language": "python",
     "metadata": {},
     "outputs": [],
     "prompt_number": 1
    },
    {
     "cell_type": "code",
     "collapsed": false,
     "input": [
      "h2o.init()"
     ],
     "language": "python",
     "metadata": {},
     "outputs": [
      {
       "html": [
        "<div style=\"overflow:auto\"><table style=\"width:50%\"><tr><td>H2O cluster uptime: </td>\n",
        "<td>16 minutes 29 seconds 988 milliseconds </td></tr>\n",
        "<tr><td>H2O cluster version: </td>\n",
        "<td>3.5.0.99999</td></tr>\n",
        "<tr><td>H2O cluster name: </td>\n",
        "<td>ece</td></tr>\n",
        "<tr><td>H2O cluster total nodes: </td>\n",
        "<td>1</td></tr>\n",
        "<tr><td>H2O cluster total memory: </td>\n",
        "<td>10.67 GB</td></tr>\n",
        "<tr><td>H2O cluster total cores: </td>\n",
        "<td>8</td></tr>\n",
        "<tr><td>H2O cluster allowed cores: </td>\n",
        "<td>8</td></tr>\n",
        "<tr><td>H2O cluster healthy: </td>\n",
        "<td>True</td></tr>\n",
        "<tr><td>H2O Connection ip: </td>\n",
        "<td>127.0.0.1</td></tr>\n",
        "<tr><td>H2O Connection port: </td>\n",
        "<td>54321</td></tr></table></div>"
       ],
       "metadata": {},
       "output_type": "display_data",
       "text": [
        "--------------------------  --------------------------------------\n",
        "H2O cluster uptime:         16 minutes 29 seconds 988 milliseconds\n",
        "H2O cluster version:        3.5.0.99999\n",
        "H2O cluster name:           ece\n",
        "H2O cluster total nodes:    1\n",
        "H2O cluster total memory:   10.67 GB\n",
        "H2O cluster total cores:    8\n",
        "H2O cluster allowed cores:  8\n",
        "H2O cluster healthy:        True\n",
        "H2O Connection ip:          127.0.0.1\n",
        "H2O Connection port:        54321\n",
        "--------------------------  --------------------------------------"
       ]
      }
     ],
     "prompt_number": 2
    },
    {
     "cell_type": "code",
     "collapsed": false,
     "input": [
      "from h2o.utils.shared_utils import _locate # private function. used to find files within h2o git project directory.\n",
      "\n",
      "air = h2o.upload_file(path=_locate(\"smalldata/airlines/AirlinesTrain.csv.zip\"))"
     ],
     "language": "python",
     "metadata": {},
     "outputs": [
      {
       "output_type": "stream",
       "stream": "stdout",
       "text": [
        "\n",
        "\r",
        "Parse Progress: [                                                  ] 00%"
       ]
      },
      {
       "output_type": "stream",
       "stream": "stdout",
       "text": [
        "\r",
        "Parse Progress: [##################################################] 100%"
       ]
      },
      {
       "output_type": "stream",
       "stream": "stdout",
       "text": [
        "\n",
        "Uploaded py94b053cc-68c5-4746-aecc-2a9cea269d7f into cluster with 24,421 rows and 12 cols\n"
       ]
      }
     ],
     "prompt_number": 3
    },
    {
     "cell_type": "code",
     "collapsed": false,
     "input": [
      "r = air[0].runif()\n",
      "air_train = air[r < 0.8]\n",
      "air_valid = air[r >= 0.8]"
     ],
     "language": "python",
     "metadata": {},
     "outputs": [],
     "prompt_number": 4
    },
    {
     "cell_type": "code",
     "collapsed": false,
     "input": [
      "myX = [\"Origin\", \"Dest\", \"Distance\", \"UniqueCarrier\", \"fMonth\", \"fDayofMonth\", \"fDayOfWeek\"]\n",
      "myY = \"IsDepDelayed\""
     ],
     "language": "python",
     "metadata": {},
     "outputs": [],
     "prompt_number": 5
    },
    {
     "cell_type": "code",
     "collapsed": false,
     "input": [
      "rf_no_bal = h2o.random_forest(x=air_train[myX], y=air_train[myY], validation_x= air_valid[myX],\n",
      "                              validation_y=air_valid[myY], seed=12, ntrees=10, max_depth=20, balance_classes=False)\n",
      "rf_no_bal.show()"
     ],
     "language": "python",
     "metadata": {},
     "outputs": [
      {
       "output_type": "stream",
       "stream": "stdout",
       "text": [
        "\n",
        "\r",
        "drf Model Build Progress: [                                                  ] 00%"
       ]
      },
      {
       "output_type": "stream",
       "stream": "stdout",
       "text": [
        "\r",
        "drf Model Build Progress: [#####                                             ] 10%"
       ]
      },
      {
       "output_type": "stream",
       "stream": "stdout",
       "text": [
        "\r",
        "drf Model Build Progress: [###############                                   ] 30%"
       ]
      },
      {
       "output_type": "stream",
       "stream": "stdout",
       "text": [
        "\r",
        "drf Model Build Progress: [###################################               ] 70%"
       ]
      },
      {
       "output_type": "stream",
       "stream": "stdout",
       "text": [
        "\r",
        "drf Model Build Progress: [##################################################] 100%"
       ]
      },
      {
       "output_type": "stream",
       "stream": "stdout",
       "text": [
        "\n",
        "Model Details"
       ]
      },
      {
       "output_type": "stream",
       "stream": "stdout",
       "text": [
        "\n",
        "=============\n",
        "H2OBinomialModel :  Distributed RF\n",
        "Model Key:  DRF_model_python_1444621872790_39\n",
        "\n",
        "Model Summary:\n"
       ]
      },
      {
       "html": [
        "<div style=\"overflow:auto\"><table style=\"width:50%\"><tr><td></td>\n",
        "<td>number_of_trees</td>\n",
        "<td>model_size_in_bytes</td>\n",
        "<td>min_depth</td>\n",
        "<td>max_depth</td>\n",
        "<td>mean_depth</td>\n",
        "<td>min_leaves</td>\n",
        "<td>max_leaves</td>\n",
        "<td>mean_leaves</td></tr>\n",
        "<tr><td></td>\n",
        "<td>10.0</td>\n",
        "<td>308107.0</td>\n",
        "<td>20.0</td>\n",
        "<td>20.0</td>\n",
        "<td>20.0</td>\n",
        "<td>1838.0</td>\n",
        "<td>2497.0</td>\n",
        "<td>2279.7</td></tr></table></div>"
       ],
       "metadata": {},
       "output_type": "display_data",
       "text": [
        "    number_of_trees    model_size_in_bytes    min_depth    max_depth    mean_depth    min_leaves    max_leaves    mean_leaves\n",
        "--  -----------------  ---------------------  -----------  -----------  ------------  ------------  ------------  -------------\n",
        "    10                 308107                 20           20           20            1838          2497          2279.7"
       ]
      },
      {
       "output_type": "stream",
       "stream": "stdout",
       "text": [
        "\n",
        "\n",
        "ModelMetricsBinomial: drf\n",
        "** Reported on train data. **\n",
        "\n",
        "MSE: 0.265275494969\n",
        "R^2: -0.0711389804007\n",
        "LogLoss: 2.29024516759\n",
        "AUC: 0.661677793181\n",
        "Gini: 0.323355586361\n",
        "\n",
        "Confusion Matrix (Act/Pred) for max f1 @ threshold = 0.44272284619:\n"
       ]
      },
      {
       "html": [
        "<div style=\"overflow:auto\"><table style=\"width:50%\"><tr><td></td>\n",
        "<td>NO</td>\n",
        "<td>YES</td>\n",
        "<td>Error</td>\n",
        "<td>Rate</td></tr>\n",
        "<tr><td>NO</td>\n",
        "<td>2295.0</td>\n",
        "<td>6457.0</td>\n",
        "<td>0.7378</td>\n",
        "<td> (6457.0/8752.0)</td></tr>\n",
        "<tr><td>YES</td>\n",
        "<td>1071.0</td>\n",
        "<td>9557.0</td>\n",
        "<td>0.1008</td>\n",
        "<td> (1071.0/10628.0)</td></tr>\n",
        "<tr><td>Total</td>\n",
        "<td>3366.0</td>\n",
        "<td>16014.0</td>\n",
        "<td>0.3884</td>\n",
        "<td> (7528.0/19380.0)</td></tr></table></div>"
       ],
       "metadata": {},
       "output_type": "display_data",
       "text": [
        "       NO    YES    Error    Rate\n",
        "-----  ----  -----  -------  ----------------\n",
        "NO     2295  6457   0.7378   (6457.0/8752.0)\n",
        "YES    1071  9557   0.1008   (1071.0/10628.0)\n",
        "Total  3366  16014  0.3884   (7528.0/19380.0)"
       ]
      },
      {
       "output_type": "stream",
       "stream": "stdout",
       "text": [
        "\n",
        "Maximum Metrics: Maximum metrics at their respective thresholds\n",
        "\n"
       ]
      },
      {
       "html": [
        "<div style=\"overflow:auto\"><table style=\"width:50%\"><tr><td>metric</td>\n",
        "<td>threshold</td>\n",
        "<td>value</td>\n",
        "<td>idx</td></tr>\n",
        "<tr><td>max f1</td>\n",
        "<td>0.44272284619</td>\n",
        "<td>0.717438630733</td>\n",
        "<td>272.0</td></tr>\n",
        "<tr><td>max f2</td>\n",
        "<td>0.0</td>\n",
        "<td>0.858592386738</td>\n",
        "<td>399.0</td></tr>\n",
        "<tr><td>max f0point5</td>\n",
        "<td>0.698268730884</td>\n",
        "<td>0.659881812213</td>\n",
        "<td>158.0</td></tr>\n",
        "<tr><td>max accuracy</td>\n",
        "<td>0.650252095381</td>\n",
        "<td>0.628947368421</td>\n",
        "<td>181.0</td></tr>\n",
        "<tr><td>max precision</td>\n",
        "<td>0.960446300909</td>\n",
        "<td>0.721248630887</td>\n",
        "<td>21.0</td></tr>\n",
        "<tr><td>max absolute_MCC</td>\n",
        "<td>0.698268730884</td>\n",
        "<td>0.246344466653</td>\n",
        "<td>158.0</td></tr>\n",
        "<tr><td>max min_per_class_accuracy</td>\n",
        "<td>0.749250828256</td>\n",
        "<td>0.621229433272</td>\n",
        "<td>134.0</td></tr></table></div>"
       ],
       "metadata": {},
       "output_type": "display_data",
       "text": [
        "metric                      threshold    value     idx\n",
        "--------------------------  -----------  --------  -----\n",
        "max f1                      0.442723     0.717439  272\n",
        "max f2                      0            0.858592  399\n",
        "max f0point5                0.698269     0.659882  158\n",
        "max accuracy                0.650252     0.628947  181\n",
        "max precision               0.960446     0.721249  21\n",
        "max absolute_MCC            0.698269     0.246344  158\n",
        "max min_per_class_accuracy  0.749251     0.621229  134"
       ]
      },
      {
       "output_type": "stream",
       "stream": "stdout",
       "text": [
        "\n",
        "ModelMetricsBinomial: drf\n",
        "** Reported on validation data. **\n",
        "\n",
        "MSE: 0.250504652341\n",
        "R^2: -0.00747370018869\n",
        "LogLoss: 0.768558939899\n",
        "AUC: 0.689886229554\n",
        "Gini: 0.379772459109\n",
        "\n",
        "Confusion Matrix (Act/Pred) for max f1 @ threshold = 0.486017723481:\n"
       ]
      },
      {
       "html": [
        "<div style=\"overflow:auto\"><table style=\"width:50%\"><tr><td></td>\n",
        "<td>NO</td>\n",
        "<td>YES</td>\n",
        "<td>Error</td>\n",
        "<td>Rate</td></tr>\n",
        "<tr><td>NO</td>\n",
        "<td>645.0</td>\n",
        "<td>1596.0</td>\n",
        "<td>0.7122</td>\n",
        "<td> (1596.0/2241.0)</td></tr>\n",
        "<tr><td>YES</td>\n",
        "<td>231.0</td>\n",
        "<td>2366.0</td>\n",
        "<td>0.0889</td>\n",
        "<td> (231.0/2597.0)</td></tr>\n",
        "<tr><td>Total</td>\n",
        "<td>876.0</td>\n",
        "<td>3962.0</td>\n",
        "<td>0.3776</td>\n",
        "<td> (1827.0/4838.0)</td></tr></table></div>"
       ],
       "metadata": {},
       "output_type": "display_data",
       "text": [
        "       NO    YES    Error    Rate\n",
        "-----  ----  -----  -------  ---------------\n",
        "NO     645   1596   0.7122   (1596.0/2241.0)\n",
        "YES    231   2366   0.0889   (231.0/2597.0)\n",
        "Total  876   3962   0.3776   (1827.0/4838.0)"
       ]
      },
      {
       "output_type": "stream",
       "stream": "stdout",
       "text": [
        "\n",
        "Maximum Metrics: Maximum metrics at their respective thresholds\n",
        "\n"
       ]
      },
      {
       "html": [
        "<div style=\"overflow:auto\"><table style=\"width:50%\"><tr><td>metric</td>\n",
        "<td>threshold</td>\n",
        "<td>value</td>\n",
        "<td>idx</td></tr>\n",
        "<tr><td>max f1</td>\n",
        "<td>0.486017723481</td>\n",
        "<td>0.721451440768</td>\n",
        "<td>284.0</td></tr>\n",
        "<tr><td>max f2</td>\n",
        "<td>0.0664381176233</td>\n",
        "<td>0.852929584866</td>\n",
        "<td>398.0</td></tr>\n",
        "<tr><td>max f0point5</td>\n",
        "<td>0.690310050891</td>\n",
        "<td>0.662157351371</td>\n",
        "<td>187.0</td></tr>\n",
        "<tr><td>max accuracy</td>\n",
        "<td>0.690310050891</td>\n",
        "<td>0.640553947912</td>\n",
        "<td>187.0</td></tr>\n",
        "<tr><td>max precision</td>\n",
        "<td>0.996994908052</td>\n",
        "<td>0.901639344262</td>\n",
        "<td>1.0</td></tr>\n",
        "<tr><td>max absolute_MCC</td>\n",
        "<td>0.690310050891</td>\n",
        "<td>0.272976256064</td>\n",
        "<td>187.0</td></tr>\n",
        "<tr><td>max min_per_class_accuracy</td>\n",
        "<td>0.73961018417</td>\n",
        "<td>0.63226800154</td>\n",
        "<td>159.0</td></tr></table></div>"
       ],
       "metadata": {},
       "output_type": "display_data",
       "text": [
        "metric                      threshold    value     idx\n",
        "--------------------------  -----------  --------  -----\n",
        "max f1                      0.486018     0.721451  284\n",
        "max f2                      0.0664381    0.85293   398\n",
        "max f0point5                0.69031      0.662157  187\n",
        "max accuracy                0.69031      0.640554  187\n",
        "max precision               0.996995     0.901639  1\n",
        "max absolute_MCC            0.69031      0.272976  187\n",
        "max min_per_class_accuracy  0.73961      0.632268  159"
       ]
      },
      {
       "output_type": "stream",
       "stream": "stdout",
       "text": [
        "\n",
        "Scoring History:\n"
       ]
      },
      {
       "html": [
        "<div style=\"overflow:auto\"><table style=\"width:50%\"><tr><td></td>\n",
        "<td>timestamp</td>\n",
        "<td>duration</td>\n",
        "<td>number_of_trees</td>\n",
        "<td>training_MSE</td>\n",
        "<td>training_logloss</td>\n",
        "<td>training_AUC</td>\n",
        "<td>training_classification_error</td>\n",
        "<td>validation_MSE</td>\n",
        "<td>validation_logloss</td>\n",
        "<td>validation_AUC</td>\n",
        "<td>validation_classification_error</td></tr>\n",
        "<tr><td></td>\n",
        "<td>2015-10-11 21:07:43</td>\n",
        "<td> 0.095 sec</td>\n",
        "<td>1.0</td>\n",
        "<td>0.32235484164</td>\n",
        "<td>7.662491719</td>\n",
        "<td>0.608674793325</td>\n",
        "<td>0.455644594405</td>\n",
        "<td>0.335928752684</td>\n",
        "<td>7.97500838576</td>\n",
        "<td>0.594303281667</td>\n",
        "<td>0.463207937164</td></tr>\n",
        "<tr><td></td>\n",
        "<td>2015-10-11 21:07:43</td>\n",
        "<td> 0.171 sec</td>\n",
        "<td>2.0</td>\n",
        "<td>0.315088056893</td>\n",
        "<td>6.7142159325</td>\n",
        "<td>0.611138413767</td>\n",
        "<td>0.452977518449</td>\n",
        "<td>0.286013782525</td>\n",
        "<td>3.64715325721</td>\n",
        "<td>0.635786804429</td>\n",
        "<td>0.413187267466</td></tr>\n",
        "<tr><td></td>\n",
        "<td>2015-10-11 21:07:43</td>\n",
        "<td> 0.244 sec</td>\n",
        "<td>3.0</td>\n",
        "<td>0.302349898977</td>\n",
        "<td>5.80199845388</td>\n",
        "<td>0.621654880365</td>\n",
        "<td>0.406267142074</td>\n",
        "<td>0.272317328196</td>\n",
        "<td>2.23120408384</td>\n",
        "<td>0.651894790904</td>\n",
        "<td>0.415047540306</td></tr>\n",
        "<tr><td></td>\n",
        "<td>2015-10-11 21:07:44</td>\n",
        "<td> 0.337 sec</td>\n",
        "<td>4.0</td>\n",
        "<td>0.298117091735</td>\n",
        "<td>5.30789756972</td>\n",
        "<td>0.624075773238</td>\n",
        "<td>0.40820668693</td>\n",
        "<td>0.263460295802</td>\n",
        "<td>1.63304931546</td>\n",
        "<td>0.666612627724</td>\n",
        "<td>0.403679206284</td></tr>\n",
        "<tr><td></td>\n",
        "<td>2015-10-11 21:07:44</td>\n",
        "<td> 0.427 sec</td>\n",
        "<td>5.0</td>\n",
        "<td>0.288127760368</td>\n",
        "<td>4.52047928228</td>\n",
        "<td>0.634770920373</td>\n",
        "<td>0.407384230288</td>\n",
        "<td>0.259250391801</td>\n",
        "<td>1.30688458768</td>\n",
        "<td>0.671739797937</td>\n",
        "<td>0.397064902852</td></tr>\n",
        "<tr><td></td>\n",
        "<td>2015-10-11 21:07:44</td>\n",
        "<td> 0.515 sec</td>\n",
        "<td>6.0</td>\n",
        "<td>0.282972510681</td>\n",
        "<td>3.99632739574</td>\n",
        "<td>0.639444594454</td>\n",
        "<td>0.405887502736</td>\n",
        "<td>0.255525177893</td>\n",
        "<td>1.07447770858</td>\n",
        "<td>0.679644002786</td>\n",
        "<td>0.396031417941</td></tr>\n",
        "<tr><td></td>\n",
        "<td>2015-10-11 21:07:44</td>\n",
        "<td> 0.609 sec</td>\n",
        "<td>7.0</td>\n",
        "<td>0.278459832224</td>\n",
        "<td>3.43743009325</td>\n",
        "<td>0.642955984647</td>\n",
        "<td>0.408359100117</td>\n",
        "<td>0.252968181208</td>\n",
        "<td>0.926846750591</td>\n",
        "<td>0.684167208345</td>\n",
        "<td>0.391070690368</td></tr>\n",
        "<tr><td></td>\n",
        "<td>2015-10-11 21:07:44</td>\n",
        "<td> 0.710 sec</td>\n",
        "<td>8.0</td>\n",
        "<td>0.273494367166</td>\n",
        "<td>3.01547825092</td>\n",
        "<td>0.650657012799</td>\n",
        "<td>0.395480522204</td>\n",
        "<td>0.252163227511</td>\n",
        "<td>0.886088862974</td>\n",
        "<td>0.686932988446</td>\n",
        "<td>0.391897478297</td></tr>\n",
        "<tr><td></td>\n",
        "<td>2015-10-11 21:07:44</td>\n",
        "<td> 0.822 sec</td>\n",
        "<td>9.0</td>\n",
        "<td>0.267895919558</td>\n",
        "<td>2.59374086495</td>\n",
        "<td>0.657471165348</td>\n",
        "<td>0.393676669089</td>\n",
        "<td>0.250662445622</td>\n",
        "<td>0.807979165782</td>\n",
        "<td>0.688616099619</td>\n",
        "<td>0.377842083506</td></tr>\n",
        "<tr><td></td>\n",
        "<td>2015-10-11 21:07:44</td>\n",
        "<td> 0.937 sec</td>\n",
        "<td>10.0</td>\n",
        "<td>0.265275494969</td>\n",
        "<td>2.29024516759</td>\n",
        "<td>0.661677793181</td>\n",
        "<td>0.388441692466</td>\n",
        "<td>0.250504652341</td>\n",
        "<td>0.768558939899</td>\n",
        "<td>0.689886229554</td>\n",
        "<td>0.377635386523</td></tr></table></div>"
       ],
       "metadata": {},
       "output_type": "display_data",
       "text": [
        "    timestamp            duration    number_of_trees    training_MSE    training_logloss    training_AUC    training_classification_error    validation_MSE    validation_logloss    validation_AUC    validation_classification_error\n",
        "--  -------------------  ----------  -----------------  --------------  ------------------  --------------  -------------------------------  ----------------  --------------------  ----------------  ---------------------------------\n",
        "    2015-10-11 21:07:43  0.095 sec   1                  0.322355        7.66249             0.608675        0.455645                         0.335929          7.97501               0.594303          0.463208\n",
        "    2015-10-11 21:07:43  0.171 sec   2                  0.315088        6.71422             0.611138        0.452978                         0.286014          3.64715               0.635787          0.413187\n",
        "    2015-10-11 21:07:43  0.244 sec   3                  0.30235         5.802               0.621655        0.406267                         0.272317          2.2312                0.651895          0.415048\n",
        "    2015-10-11 21:07:44  0.337 sec   4                  0.298117        5.3079              0.624076        0.408207                         0.26346           1.63305               0.666613          0.403679\n",
        "    2015-10-11 21:07:44  0.427 sec   5                  0.288128        4.52048             0.634771        0.407384                         0.25925           1.30688               0.67174           0.397065\n",
        "    2015-10-11 21:07:44  0.515 sec   6                  0.282973        3.99633             0.639445        0.405888                         0.255525          1.07448               0.679644          0.396031\n",
        "    2015-10-11 21:07:44  0.609 sec   7                  0.27846         3.43743             0.642956        0.408359                         0.252968          0.926847              0.684167          0.391071\n",
        "    2015-10-11 21:07:44  0.710 sec   8                  0.273494        3.01548             0.650657        0.395481                         0.252163          0.886089              0.686933          0.391897\n",
        "    2015-10-11 21:07:44  0.822 sec   9                  0.267896        2.59374             0.657471        0.393677                         0.250662          0.807979              0.688616          0.377842\n",
        "    2015-10-11 21:07:44  0.937 sec   10                 0.265275        2.29025             0.661678        0.388442                         0.250505          0.768559              0.689886          0.377635"
       ]
      },
      {
       "output_type": "stream",
       "stream": "stdout",
       "text": [
        "\n",
        "Variable Importances:\n"
       ]
      },
      {
       "html": [
        "<div style=\"overflow:auto\"><table style=\"width:50%\"><tr><td>variable</td>\n",
        "<td>relative_importance</td>\n",
        "<td>scaled_importance</td>\n",
        "<td>percentage</td></tr>\n",
        "<tr><td>fDayofMonth</td>\n",
        "<td>6308.44042969</td>\n",
        "<td>1.0</td>\n",
        "<td>0.295695234969</td></tr>\n",
        "<tr><td>Origin</td>\n",
        "<td>6097.22363281</td>\n",
        "<td>0.966518381329</td>\n",
        "<td>0.285794879869</td></tr>\n",
        "<tr><td>Dest</td>\n",
        "<td>3880.18457031</td>\n",
        "<td>0.61507826119</td>\n",
        "<td>0.181875710967</td></tr>\n",
        "<tr><td>fDayOfWeek</td>\n",
        "<td>1679.60095215</td>\n",
        "<td>0.266246621628</td>\n",
        "<td>0.078727857342</td></tr>\n",
        "<tr><td>Distance</td>\n",
        "<td>1669.28149414</td>\n",
        "<td>0.264610804009</td>\n",
        "<td>0.0782441538666</td></tr>\n",
        "<tr><td>UniqueCarrier</td>\n",
        "<td>1566.25708008</td>\n",
        "<td>0.248279602151</td>\n",
        "<td>0.0734150952961</td></tr>\n",
        "<tr><td>fMonth</td>\n",
        "<td>133.276596069</td>\n",
        "<td>0.0211267107227</td>\n",
        "<td>0.00624706769126</td></tr></table></div>"
       ],
       "metadata": {},
       "output_type": "display_data",
       "text": [
        "variable       relative_importance    scaled_importance    percentage\n",
        "-------------  ---------------------  -------------------  ------------\n",
        "fDayofMonth    6308.44                1                    0.295695\n",
        "Origin         6097.22                0.966518             0.285795\n",
        "Dest           3880.18                0.615078             0.181876\n",
        "fDayOfWeek     1679.6                 0.266247             0.0787279\n",
        "Distance       1669.28                0.264611             0.0782442\n",
        "UniqueCarrier  1566.26                0.24828              0.0734151\n",
        "fMonth         133.277                0.0211267            0.00624707"
       ]
      }
     ],
     "prompt_number": 6
    },
    {
     "cell_type": "code",
     "collapsed": false,
     "input": [
      "rf_bal = h2o.random_forest(x=air_train[myX], y=air_train[myY], validation_x= air_valid[myX],\n",
      "                               validation_y=air_valid[myY], seed=12, ntrees=10, max_depth=20, balance_classes=True)\n",
      "rf_bal.show()"
     ],
     "language": "python",
     "metadata": {},
     "outputs": [
      {
       "output_type": "stream",
       "stream": "stdout",
       "text": [
        "\n",
        "\r",
        "drf Model Build Progress: [                                                  ] 00%"
       ]
      },
      {
       "output_type": "stream",
       "stream": "stdout",
       "text": [
        "\r",
        "drf Model Build Progress: [                                                  ] 00%"
       ]
      },
      {
       "output_type": "stream",
       "stream": "stdout",
       "text": [
        "\r",
        "drf Model Build Progress: [###############                                   ] 30%"
       ]
      },
      {
       "output_type": "stream",
       "stream": "stdout",
       "text": [
        "\r",
        "drf Model Build Progress: [##############################                    ] 60%"
       ]
      },
      {
       "output_type": "stream",
       "stream": "stdout",
       "text": [
        "\r",
        "drf Model Build Progress: [#############################################     ] 90%"
       ]
      },
      {
       "output_type": "stream",
       "stream": "stdout",
       "text": [
        "\r",
        "drf Model Build Progress: [##################################################] 100%"
       ]
      },
      {
       "output_type": "stream",
       "stream": "stdout",
       "text": [
        "\n",
        "Model Details"
       ]
      },
      {
       "output_type": "stream",
       "stream": "stdout",
       "text": [
        "\n",
        "=============\n",
        "H2OBinomialModel :  Distributed RF\n",
        "Model Key:  DRF_model_python_1444621872790_41\n",
        "\n",
        "Model Summary:\n"
       ]
      },
      {
       "html": [
        "<div style=\"overflow:auto\"><table style=\"width:50%\"><tr><td></td>\n",
        "<td>number_of_trees</td>\n",
        "<td>model_size_in_bytes</td>\n",
        "<td>min_depth</td>\n",
        "<td>max_depth</td>\n",
        "<td>mean_depth</td>\n",
        "<td>min_leaves</td>\n",
        "<td>max_leaves</td>\n",
        "<td>mean_leaves</td></tr>\n",
        "<tr><td></td>\n",
        "<td>10.0</td>\n",
        "<td>309235.0</td>\n",
        "<td>20.0</td>\n",
        "<td>20.0</td>\n",
        "<td>20.0</td>\n",
        "<td>2000.0</td>\n",
        "<td>2500.0</td>\n",
        "<td>2283.0</td></tr></table></div>"
       ],
       "metadata": {},
       "output_type": "display_data",
       "text": [
        "    number_of_trees    model_size_in_bytes    min_depth    max_depth    mean_depth    min_leaves    max_leaves    mean_leaves\n",
        "--  -----------------  ---------------------  -----------  -----------  ------------  ------------  ------------  -------------\n",
        "    10                 309235                 20           20           20            2000          2500          2283"
       ]
      },
      {
       "output_type": "stream",
       "stream": "stdout",
       "text": [
        "\n",
        "\n",
        "ModelMetricsBinomial: drf\n",
        "** Reported on train data. **\n",
        "\n",
        "MSE: 0.264451685762\n",
        "R^2: -0.0578084464369\n",
        "LogLoss: 1.97582874031\n",
        "AUC: 0.691222009675\n",
        "Gini: 0.38244401935\n",
        "\n",
        "Confusion Matrix (Act/Pred) for max f1 @ threshold = 0.535749234613:\n"
       ]
      },
      {
       "html": [
        "<div style=\"overflow:auto\"><table style=\"width:50%\"><tr><td></td>\n",
        "<td>NO</td>\n",
        "<td>YES</td>\n",
        "<td>Error</td>\n",
        "<td>Rate</td></tr>\n",
        "<tr><td>NO</td>\n",
        "<td>4017.0</td>\n",
        "<td>6608.0</td>\n",
        "<td>0.6219</td>\n",
        "<td> (6608.0/10625.0)</td></tr>\n",
        "<tr><td>YES</td>\n",
        "<td>1545.0</td>\n",
        "<td>9107.0</td>\n",
        "<td>0.145</td>\n",
        "<td> (1545.0/10652.0)</td></tr>\n",
        "<tr><td>Total</td>\n",
        "<td>5562.0</td>\n",
        "<td>15715.0</td>\n",
        "<td>0.3832</td>\n",
        "<td> (8153.0/21277.0)</td></tr></table></div>"
       ],
       "metadata": {},
       "output_type": "display_data",
       "text": [
        "       NO    YES    Error    Rate\n",
        "-----  ----  -----  -------  ----------------\n",
        "NO     4017  6608   0.6219   (6608.0/10625.0)\n",
        "YES    1545  9107   0.145    (1545.0/10652.0)\n",
        "Total  5562  15715  0.3832   (8153.0/21277.0)"
       ]
      },
      {
       "output_type": "stream",
       "stream": "stdout",
       "text": [
        "\n",
        "Maximum Metrics: Maximum metrics at their respective thresholds\n",
        "\n"
       ]
      },
      {
       "html": [
        "<div style=\"overflow:auto\"><table style=\"width:50%\"><tr><td>metric</td>\n",
        "<td>threshold</td>\n",
        "<td>value</td>\n",
        "<td>idx</td></tr>\n",
        "<tr><td>max f1</td>\n",
        "<td>0.535749234613</td>\n",
        "<td>0.690787727083</td>\n",
        "<td>225.0</td></tr>\n",
        "<tr><td>max f2</td>\n",
        "<td>0.0</td>\n",
        "<td>0.833685528684</td>\n",
        "<td>399.0</td></tr>\n",
        "<tr><td>max f0point5</td>\n",
        "<td>0.739763138725</td>\n",
        "<td>0.650608441158</td>\n",
        "<td>126.0</td></tr>\n",
        "<tr><td>max accuracy</td>\n",
        "<td>0.739763138725</td>\n",
        "<td>0.649527658974</td>\n",
        "<td>126.0</td></tr>\n",
        "<tr><td>max precision</td>\n",
        "<td>0.932305521477</td>\n",
        "<td>0.720121028744</td>\n",
        "<td>32.0</td></tr>\n",
        "<tr><td>max absolute_MCC</td>\n",
        "<td>0.739763138725</td>\n",
        "<td>0.299226719466</td>\n",
        "<td>126.0</td></tr>\n",
        "<tr><td>max min_per_class_accuracy</td>\n",
        "<td>0.728312954319</td>\n",
        "<td>0.647296282388</td>\n",
        "<td>132.0</td></tr></table></div>"
       ],
       "metadata": {},
       "output_type": "display_data",
       "text": [
        "metric                      threshold    value     idx\n",
        "--------------------------  -----------  --------  -----\n",
        "max f1                      0.535749     0.690788  225\n",
        "max f2                      0            0.833686  399\n",
        "max f0point5                0.739763     0.650608  126\n",
        "max accuracy                0.739763     0.649528  126\n",
        "max precision               0.932306     0.720121  32\n",
        "max absolute_MCC            0.739763     0.299227  126\n",
        "max min_per_class_accuracy  0.728313     0.647296  132"
       ]
      },
      {
       "output_type": "stream",
       "stream": "stdout",
       "text": [
        "\n",
        "ModelMetricsBinomial: drf\n",
        "** Reported on validation data. **\n",
        "\n",
        "MSE: 0.253085984236\n",
        "R^2: -0.0178552398974\n",
        "LogLoss: 0.790489553072\n",
        "AUC: 0.690520950872\n",
        "Gini: 0.381041901745\n",
        "\n",
        "Confusion Matrix (Act/Pred) for max f1 @ threshold = 0.521000889499:\n"
       ]
      },
      {
       "html": [
        "<div style=\"overflow:auto\"><table style=\"width:50%\"><tr><td></td>\n",
        "<td>NO</td>\n",
        "<td>YES</td>\n",
        "<td>Error</td>\n",
        "<td>Rate</td></tr>\n",
        "<tr><td>NO</td>\n",
        "<td>661.0</td>\n",
        "<td>1580.0</td>\n",
        "<td>0.705</td>\n",
        "<td> (1580.0/2241.0)</td></tr>\n",
        "<tr><td>YES</td>\n",
        "<td>262.0</td>\n",
        "<td>2335.0</td>\n",
        "<td>0.1009</td>\n",
        "<td> (262.0/2597.0)</td></tr>\n",
        "<tr><td>Total</td>\n",
        "<td>923.0</td>\n",
        "<td>3915.0</td>\n",
        "<td>0.3807</td>\n",
        "<td> (1842.0/4838.0)</td></tr></table></div>"
       ],
       "metadata": {},
       "output_type": "display_data",
       "text": [
        "       NO    YES    Error    Rate\n",
        "-----  ----  -----  -------  ---------------\n",
        "NO     661   1580   0.705    (1580.0/2241.0)\n",
        "YES    262   2335   0.1009   (262.0/2597.0)\n",
        "Total  923   3915   0.3807   (1842.0/4838.0)"
       ]
      },
      {
       "output_type": "stream",
       "stream": "stdout",
       "text": [
        "\n",
        "Maximum Metrics: Maximum metrics at their respective thresholds\n",
        "\n"
       ]
      },
      {
       "html": [
        "<div style=\"overflow:auto\"><table style=\"width:50%\"><tr><td>metric</td>\n",
        "<td>threshold</td>\n",
        "<td>value</td>\n",
        "<td>idx</td></tr>\n",
        "<tr><td>max f1</td>\n",
        "<td>0.521000889499</td>\n",
        "<td>0.717137592138</td>\n",
        "<td>270.0</td></tr>\n",
        "<tr><td>max f2</td>\n",
        "<td>0.0472040587339</td>\n",
        "<td>0.852985613874</td>\n",
        "<td>396.0</td></tr>\n",
        "<tr><td>max f0point5</td>\n",
        "<td>0.762349250056</td>\n",
        "<td>0.663602173005</td>\n",
        "<td>149.0</td></tr>\n",
        "<tr><td>max accuracy</td>\n",
        "<td>0.669848414479</td>\n",
        "<td>0.641794129806</td>\n",
        "<td>199.0</td></tr>\n",
        "<tr><td>max precision</td>\n",
        "<td>0.99052248973</td>\n",
        "<td>0.853333333333</td>\n",
        "<td>4.0</td></tr>\n",
        "<tr><td>max absolute_MCC</td>\n",
        "<td>0.805816136548</td>\n",
        "<td>0.277919599732</td>\n",
        "<td>121.0</td></tr>\n",
        "<tr><td>max min_per_class_accuracy</td>\n",
        "<td>0.748005549067</td>\n",
        "<td>0.634578359646</td>\n",
        "<td>156.0</td></tr></table></div>"
       ],
       "metadata": {},
       "output_type": "display_data",
       "text": [
        "metric                      threshold    value     idx\n",
        "--------------------------  -----------  --------  -----\n",
        "max f1                      0.521001     0.717138  270\n",
        "max f2                      0.0472041    0.852986  396\n",
        "max f0point5                0.762349     0.663602  149\n",
        "max accuracy                0.669848     0.641794  199\n",
        "max precision               0.990522     0.853333  4\n",
        "max absolute_MCC            0.805816     0.27792   121\n",
        "max min_per_class_accuracy  0.748006     0.634578  156"
       ]
      },
      {
       "output_type": "stream",
       "stream": "stdout",
       "text": [
        "\n",
        "Scoring History:\n"
       ]
      },
      {
       "html": [
        "<div style=\"overflow:auto\"><table style=\"width:50%\"><tr><td></td>\n",
        "<td>timestamp</td>\n",
        "<td>duration</td>\n",
        "<td>number_of_trees</td>\n",
        "<td>training_MSE</td>\n",
        "<td>training_logloss</td>\n",
        "<td>training_AUC</td>\n",
        "<td>training_classification_error</td>\n",
        "<td>validation_MSE</td>\n",
        "<td>validation_logloss</td>\n",
        "<td>validation_AUC</td>\n",
        "<td>validation_classification_error</td></tr>\n",
        "<tr><td></td>\n",
        "<td>2015-10-11 21:07:45</td>\n",
        "<td> 0.115 sec</td>\n",
        "<td>1.0</td>\n",
        "<td>0.318919473641</td>\n",
        "<td>7.64901795535</td>\n",
        "<td>0.631786919112</td>\n",
        "<td>0.416984975809</td>\n",
        "<td>0.331630644875</td>\n",
        "<td>8.24803173698</td>\n",
        "<td>0.603882607828</td>\n",
        "<td>0.463207937164</td></tr>\n",
        "<tr><td></td>\n",
        "<td>2015-10-11 21:07:45</td>\n",
        "<td> 0.182 sec</td>\n",
        "<td>2.0</td>\n",
        "<td>0.307790515286</td>\n",
        "<td>6.46362700555</td>\n",
        "<td>0.64185871205</td>\n",
        "<td>0.418909431313</td>\n",
        "<td>0.284096965633</td>\n",
        "<td>3.71616915378</td>\n",
        "<td>0.645607544627</td>\n",
        "<td>0.427656056222</td></tr>\n",
        "<tr><td></td>\n",
        "<td>2015-10-11 21:07:45</td>\n",
        "<td> 0.256 sec</td>\n",
        "<td>3.0</td>\n",
        "<td>0.295672506433</td>\n",
        "<td>5.15391598199</td>\n",
        "<td>0.65219504425</td>\n",
        "<td>0.401374141162</td>\n",
        "<td>0.268619916852</td>\n",
        "<td>1.90373785978</td>\n",
        "<td>0.659125098348</td>\n",
        "<td>0.416907813146</td></tr>\n",
        "<tr><td></td>\n",
        "<td>2015-10-11 21:07:45</td>\n",
        "<td> 0.352 sec</td>\n",
        "<td>4.0</td>\n",
        "<td>0.288414207742</td>\n",
        "<td>4.4630843256</td>\n",
        "<td>0.661142174101</td>\n",
        "<td>0.405508756373</td>\n",
        "<td>0.261902251277</td>\n",
        "<td>1.36153885604</td>\n",
        "<td>0.670341142949</td>\n",
        "<td>0.373914840843</td></tr>\n",
        "<tr><td></td>\n",
        "<td>2015-10-11 21:07:45</td>\n",
        "<td> 0.457 sec</td>\n",
        "<td>5.0</td>\n",
        "<td>0.286070143609</td>\n",
        "<td>3.98934827706</td>\n",
        "<td>0.662768323553</td>\n",
        "<td>0.416429126717</td>\n",
        "<td>0.25816659639</td>\n",
        "<td>1.06915287788</td>\n",
        "<td>0.677400226843</td>\n",
        "<td>0.384663083919</td></tr>\n",
        "<tr><td></td>\n",
        "<td>2015-10-11 21:07:45</td>\n",
        "<td> 0.562 sec</td>\n",
        "<td>6.0</td>\n",
        "<td>0.281893895669</td>\n",
        "<td>3.49067198853</td>\n",
        "<td>0.665554796673</td>\n",
        "<td>0.417763157895</td>\n",
        "<td>0.256098307475</td>\n",
        "<td>0.945158071812</td>\n",
        "<td>0.681186561159</td>\n",
        "<td>0.381149235221</td></tr>\n",
        "<tr><td></td>\n",
        "<td>2015-10-11 21:07:45</td>\n",
        "<td> 0.680 sec</td>\n",
        "<td>7.0</td>\n",
        "<td>0.275626604403</td>\n",
        "<td>3.03955067987</td>\n",
        "<td>0.67408386543</td>\n",
        "<td>0.395511512679</td>\n",
        "<td>0.253889238677</td>\n",
        "<td>0.867898233797</td>\n",
        "<td>0.685682618378</td>\n",
        "<td>0.385283174866</td></tr>\n",
        "<tr><td></td>\n",
        "<td>2015-10-11 21:07:45</td>\n",
        "<td> 0.808 sec</td>\n",
        "<td>8.0</td>\n",
        "<td>0.269722216644</td>\n",
        "<td>2.55500697462</td>\n",
        "<td>0.681868908562</td>\n",
        "<td>0.395127776451</td>\n",
        "<td>0.25303344922</td>\n",
        "<td>0.83064625676</td>\n",
        "<td>0.688120986062</td>\n",
        "<td>0.396651508888</td></tr>\n",
        "<tr><td></td>\n",
        "<td>2015-10-11 21:07:45</td>\n",
        "<td> 0.950 sec</td>\n",
        "<td>9.0</td>\n",
        "<td>0.267002344542</td>\n",
        "<td>2.23913856475</td>\n",
        "<td>0.686387318577</td>\n",
        "<td>0.402808643435</td>\n",
        "<td>0.253456533697</td>\n",
        "<td>0.80493621649</td>\n",
        "<td>0.689018341797</td>\n",
        "<td>0.379082265399</td></tr>\n",
        "<tr><td></td>\n",
        "<td>2015-10-11 21:07:46</td>\n",
        "<td> 1.097 sec</td>\n",
        "<td>10.0</td>\n",
        "<td>0.264451685762</td>\n",
        "<td>1.97582874031</td>\n",
        "<td>0.691222009675</td>\n",
        "<td>0.383183719509</td>\n",
        "<td>0.253085984236</td>\n",
        "<td>0.790489553072</td>\n",
        "<td>0.690520950872</td>\n",
        "<td>0.380735841257</td></tr></table></div>"
       ],
       "metadata": {},
       "output_type": "display_data",
       "text": [
        "    timestamp            duration    number_of_trees    training_MSE    training_logloss    training_AUC    training_classification_error    validation_MSE    validation_logloss    validation_AUC    validation_classification_error\n",
        "--  -------------------  ----------  -----------------  --------------  ------------------  --------------  -------------------------------  ----------------  --------------------  ----------------  ---------------------------------\n",
        "    2015-10-11 21:07:45  0.115 sec   1                  0.318919        7.64902             0.631787        0.416985                         0.331631          8.24803               0.603883          0.463208\n",
        "    2015-10-11 21:07:45  0.182 sec   2                  0.307791        6.46363             0.641859        0.418909                         0.284097          3.71617               0.645608          0.427656\n",
        "    2015-10-11 21:07:45  0.256 sec   3                  0.295673        5.15392             0.652195        0.401374                         0.26862           1.90374               0.659125          0.416908\n",
        "    2015-10-11 21:07:45  0.352 sec   4                  0.288414        4.46308             0.661142        0.405509                         0.261902          1.36154               0.670341          0.373915\n",
        "    2015-10-11 21:07:45  0.457 sec   5                  0.28607         3.98935             0.662768        0.416429                         0.258167          1.06915               0.6774            0.384663\n",
        "    2015-10-11 21:07:45  0.562 sec   6                  0.281894        3.49067             0.665555        0.417763                         0.256098          0.945158              0.681187          0.381149\n",
        "    2015-10-11 21:07:45  0.680 sec   7                  0.275627        3.03955             0.674084        0.395512                         0.253889          0.867898              0.685683          0.385283\n",
        "    2015-10-11 21:07:45  0.808 sec   8                  0.269722        2.55501             0.681869        0.395128                         0.253033          0.830646              0.688121          0.396652\n",
        "    2015-10-11 21:07:45  0.950 sec   9                  0.267002        2.23914             0.686387        0.402809                         0.253457          0.804936              0.689018          0.379082\n",
        "    2015-10-11 21:07:46  1.097 sec   10                 0.264452        1.97583             0.691222        0.383184                         0.253086          0.79049               0.690521          0.380736"
       ]
      },
      {
       "output_type": "stream",
       "stream": "stdout",
       "text": [
        "\n",
        "Variable Importances:\n"
       ]
      },
      {
       "html": [
        "<div style=\"overflow:auto\"><table style=\"width:50%\"><tr><td>variable</td>\n",
        "<td>relative_importance</td>\n",
        "<td>scaled_importance</td>\n",
        "<td>percentage</td></tr>\n",
        "<tr><td>Origin</td>\n",
        "<td>6781.87548828</td>\n",
        "<td>1.0</td>\n",
        "<td>0.286853852122</td></tr>\n",
        "<tr><td>fDayofMonth</td>\n",
        "<td>6666.95556641</td>\n",
        "<td>0.983054846396</td>\n",
        "<td>0.281993069535</td></tr>\n",
        "<tr><td>Dest</td>\n",
        "<td>4654.37060547</td>\n",
        "<td>0.686295496506</td>\n",
        "<td>0.196866506866</td></tr>\n",
        "<tr><td>Distance</td>\n",
        "<td>1848.23608398</td>\n",
        "<td>0.272525806051</td>\n",
        "<td>0.0781750772684</td></tr>\n",
        "<tr><td>fDayOfWeek</td>\n",
        "<td>1794.95092773</td>\n",
        "<td>0.26466881187</td>\n",
        "<td>0.0759212682214</td></tr>\n",
        "<tr><td>UniqueCarrier</td>\n",
        "<td>1773.37683105</td>\n",
        "<td>0.26148767168</td>\n",
        "<td>0.0750087459037</td></tr>\n",
        "<tr><td>fMonth</td>\n",
        "<td>122.501937866</td>\n",
        "<td>0.0180631357916</td>\n",
        "<td>0.0051814800832</td></tr></table></div>"
       ],
       "metadata": {},
       "output_type": "display_data",
       "text": [
        "variable       relative_importance    scaled_importance    percentage\n",
        "-------------  ---------------------  -------------------  ------------\n",
        "Origin         6781.88                1                    0.286854\n",
        "fDayofMonth    6666.96                0.983055             0.281993\n",
        "Dest           4654.37                0.686295             0.196867\n",
        "Distance       1848.24                0.272526             0.0781751\n",
        "fDayOfWeek     1794.95                0.264669             0.0759213\n",
        "UniqueCarrier  1773.38                0.261488             0.0750087\n",
        "fMonth         122.502                0.0180631            0.00518148"
       ]
      }
     ],
     "prompt_number": 7
    },
    {
     "cell_type": "code",
     "collapsed": false,
     "input": [
      "air_test = h2o.import_file(path=_locate(\"smalldata/airlines/AirlinesTest.csv.zip\"))"
     ],
     "language": "python",
     "metadata": {},
     "outputs": [
      {
       "output_type": "stream",
       "stream": "stdout",
       "text": [
        "\n",
        "\r",
        "Parse Progress: [                                                  ] 00%"
       ]
      },
      {
       "output_type": "stream",
       "stream": "stdout",
       "text": [
        "\r",
        "Parse Progress: [##################################################] 100%"
       ]
      },
      {
       "output_type": "stream",
       "stream": "stdout",
       "text": [
        "\n",
        "Imported /Users/ece/0xdata/h2o-dev/smalldata/airlines/AirlinesTest.csv.zip. Parsed 2,691 rows and 12 cols\n"
       ]
      }
     ],
     "prompt_number": 8
    },
    {
     "cell_type": "code",
     "collapsed": false,
     "input": [
      "def model(model_object, test):\n",
      "        #predicting on test file\n",
      "        pred = model_object.predict(test)\n",
      "        pred.head()\n",
      "        #Building confusion matrix for test set\n",
      "        perf = model_object.model_performance(test)\n",
      "        perf.show()\n",
      "        print(perf.confusion_matrix())\n",
      "        print(perf.precision())\n",
      "        print(perf.accuracy())\n",
      "        print(perf.auc())"
     ],
     "language": "python",
     "metadata": {},
     "outputs": [],
     "prompt_number": 9
    },
    {
     "cell_type": "code",
     "collapsed": false,
     "input": [
      "print(\"\\n\\nWITHOUT CLASS BALANCING\\n\")\n",
      "model(rf_no_bal, air_test)"
     ],
     "language": "python",
     "metadata": {},
     "outputs": [
      {
       "output_type": "stream",
       "stream": "stdout",
       "text": [
        "\n",
        "\n",
        "WITHOUT CLASS BALANCING\n",
        "\n",
        "\n"
       ]
      },
      {
       "output_type": "stream",
       "stream": "stdout",
       "text": [
        "ModelMetricsBinomial: drf\n",
        "** Reported on test data. **\n",
        "\n",
        "MSE: 0.24177915311\n",
        "R^2: 0.0239811939184\n",
        "LogLoss: 0.776986945965\n",
        "AUC: 0.709914051168\n",
        "Gini: 0.419828102336\n",
        "\n",
        "Confusion Matrix (Act/Pred) for max f1 @ threshold = 0.579077571258:\n"
       ]
      },
      {
       "html": [
        "<div style=\"overflow:auto\"><table style=\"width:50%\"><tr><td></td>\n",
        "<td>NO</td>\n",
        "<td>YES</td>\n",
        "<td>Error</td>\n",
        "<td>Rate</td></tr>\n",
        "<tr><td>NO</td>\n",
        "<td>488.0</td>\n",
        "<td>729.0</td>\n",
        "<td>0.599</td>\n",
        "<td> (729.0/1217.0)</td></tr>\n",
        "<tr><td>YES</td>\n",
        "<td>196.0</td>\n",
        "<td>1278.0</td>\n",
        "<td>0.133</td>\n",
        "<td> (196.0/1474.0)</td></tr>\n",
        "<tr><td>Total</td>\n",
        "<td>684.0</td>\n",
        "<td>2007.0</td>\n",
        "<td>0.3437</td>\n",
        "<td> (925.0/2691.0)</td></tr></table></div>"
       ],
       "metadata": {},
       "output_type": "display_data",
       "text": [
        "       NO    YES    Error    Rate\n",
        "-----  ----  -----  -------  --------------\n",
        "NO     488   729    0.599    (729.0/1217.0)\n",
        "YES    196   1278   0.133    (196.0/1474.0)\n",
        "Total  684   2007   0.3437   (925.0/2691.0)"
       ]
      },
      {
       "output_type": "stream",
       "stream": "stdout",
       "text": [
        "\n",
        "Maximum Metrics: Maximum metrics at their respective thresholds\n",
        "\n"
       ]
      },
      {
       "html": [
        "<div style=\"overflow:auto\"><table style=\"width:50%\"><tr><td>metric</td>\n",
        "<td>threshold</td>\n",
        "<td>value</td>\n",
        "<td>idx</td></tr>\n",
        "<tr><td>max f1</td>\n",
        "<td>0.579077571258</td>\n",
        "<td>0.734271760988</td>\n",
        "<td>238.0</td></tr>\n",
        "<tr><td>max f2</td>\n",
        "<td>0.230467463533</td>\n",
        "<td>0.858751759737</td>\n",
        "<td>370.0</td></tr>\n",
        "<tr><td>max f0point5</td>\n",
        "<td>0.765756022717</td>\n",
        "<td>0.695414515639</td>\n",
        "<td>140.0</td></tr>\n",
        "<tr><td>max accuracy</td>\n",
        "<td>0.73900813212</td>\n",
        "<td>0.662950575994</td>\n",
        "<td>157.0</td></tr>\n",
        "<tr><td>max precision</td>\n",
        "<td>0.988231959264</td>\n",
        "<td>0.866666666667</td>\n",
        "<td>6.0</td></tr>\n",
        "<tr><td>max absolute_MCC</td>\n",
        "<td>0.744853460556</td>\n",
        "<td>0.323654975185</td>\n",
        "<td>154.0</td></tr>\n",
        "<tr><td>max min_per_class_accuracy</td>\n",
        "<td>0.744853460556</td>\n",
        "<td>0.661462612983</td>\n",
        "<td>154.0</td></tr></table></div>"
       ],
       "metadata": {},
       "output_type": "display_data",
       "text": [
        "metric                      threshold    value     idx\n",
        "--------------------------  -----------  --------  -----\n",
        "max f1                      0.579078     0.734272  238\n",
        "max f2                      0.230467     0.858752  370\n",
        "max f0point5                0.765756     0.695415  140\n",
        "max accuracy                0.739008     0.662951  157\n",
        "max precision               0.988232     0.866667  6\n",
        "max absolute_MCC            0.744853     0.323655  154\n",
        "max min_per_class_accuracy  0.744853     0.661463  154"
       ]
      },
      {
       "output_type": "stream",
       "stream": "stdout",
       "text": [
        "\n",
        "Confusion Matrix (Act/Pred) for max f1 @ threshold = 0.579077571258:\n"
       ]
      },
      {
       "html": [
        "<div style=\"overflow:auto\"><table style=\"width:50%\"><tr><td></td>\n",
        "<td>NO</td>\n",
        "<td>YES</td>\n",
        "<td>Error</td>\n",
        "<td>Rate</td></tr>\n",
        "<tr><td>NO</td>\n",
        "<td>488.0</td>\n",
        "<td>729.0</td>\n",
        "<td>0.599</td>\n",
        "<td> (729.0/1217.0)</td></tr>\n",
        "<tr><td>YES</td>\n",
        "<td>196.0</td>\n",
        "<td>1278.0</td>\n",
        "<td>0.133</td>\n",
        "<td> (196.0/1474.0)</td></tr>\n",
        "<tr><td>Total</td>\n",
        "<td>684.0</td>\n",
        "<td>2007.0</td>\n",
        "<td>0.3437</td>\n",
        "<td> (925.0/2691.0)</td></tr></table></div>"
       ],
       "metadata": {},
       "output_type": "display_data",
       "text": [
        "       NO    YES    Error    Rate\n",
        "-----  ----  -----  -------  --------------\n",
        "NO     488   729    0.599    (729.0/1217.0)\n",
        "YES    196   1278   0.133    (196.0/1474.0)\n",
        "Total  684   2007   0.3437   (925.0/2691.0)"
       ]
      },
      {
       "output_type": "stream",
       "stream": "stdout",
       "text": [
        "\n",
        "[[0.988231959263794, 0.8666666666666667]]\n",
        "[[0.7390081321199734, 0.6629505759940543]]\n",
        "0.709914051168\n"
       ]
      }
     ],
     "prompt_number": 10
    },
    {
     "cell_type": "code",
     "collapsed": false,
     "input": [
      "print(\"\\n\\nWITH CLASS BALANCING\\n\")\n",
      "model(rf_bal, air_test)"
     ],
     "language": "python",
     "metadata": {},
     "outputs": [
      {
       "output_type": "stream",
       "stream": "stdout",
       "text": [
        "\n",
        "\n",
        "WITH CLASS BALANCING\n",
        "\n",
        "\n"
       ]
      },
      {
       "output_type": "stream",
       "stream": "stdout",
       "text": [
        "ModelMetricsBinomial: drf\n",
        "** Reported on test data. **\n",
        "\n",
        "MSE: 0.245387801445\n",
        "R^2: 0.00941373185811\n",
        "LogLoss: 0.760182429595\n",
        "AUC: 0.696770034194\n",
        "Gini: 0.393540068389\n",
        "\n",
        "Confusion Matrix (Act/Pred) for max f1 @ threshold = 0.497376537988:\n"
       ]
      },
      {
       "html": [
        "<div style=\"overflow:auto\"><table style=\"width:50%\"><tr><td></td>\n",
        "<td>NO</td>\n",
        "<td>YES</td>\n",
        "<td>Error</td>\n",
        "<td>Rate</td></tr>\n",
        "<tr><td>NO</td>\n",
        "<td>321.0</td>\n",
        "<td>896.0</td>\n",
        "<td>0.7362</td>\n",
        "<td> (896.0/1217.0)</td></tr>\n",
        "<tr><td>YES</td>\n",
        "<td>106.0</td>\n",
        "<td>1368.0</td>\n",
        "<td>0.0719</td>\n",
        "<td> (106.0/1474.0)</td></tr>\n",
        "<tr><td>Total</td>\n",
        "<td>427.0</td>\n",
        "<td>2264.0</td>\n",
        "<td>0.3724</td>\n",
        "<td> (1002.0/2691.0)</td></tr></table></div>"
       ],
       "metadata": {},
       "output_type": "display_data",
       "text": [
        "       NO    YES    Error    Rate\n",
        "-----  ----  -----  -------  ---------------\n",
        "NO     321   896    0.7362   (896.0/1217.0)\n",
        "YES    106   1368   0.0719   (106.0/1474.0)\n",
        "Total  427   2264   0.3724   (1002.0/2691.0)"
       ]
      },
      {
       "output_type": "stream",
       "stream": "stdout",
       "text": [
        "\n",
        "Maximum Metrics: Maximum metrics at their respective thresholds\n",
        "\n"
       ]
      },
      {
       "html": [
        "<div style=\"overflow:auto\"><table style=\"width:50%\"><tr><td>metric</td>\n",
        "<td>threshold</td>\n",
        "<td>value</td>\n",
        "<td>idx</td></tr>\n",
        "<tr><td>max f1</td>\n",
        "<td>0.497376537988</td>\n",
        "<td>0.731942215088</td>\n",
        "<td>278.0</td></tr>\n",
        "<tr><td>max f2</td>\n",
        "<td>0.18838964109</td>\n",
        "<td>0.860617399439</td>\n",
        "<td>381.0</td></tr>\n",
        "<tr><td>max f0point5</td>\n",
        "<td>0.647380822133</td>\n",
        "<td>0.681608665591</td>\n",
        "<td>209.0</td></tr>\n",
        "<tr><td>max accuracy</td>\n",
        "<td>0.647380822133</td>\n",
        "<td>0.66220735786</td>\n",
        "<td>209.0</td></tr>\n",
        "<tr><td>max precision</td>\n",
        "<td>0.997039367558</td>\n",
        "<td>0.846153846154</td>\n",
        "<td>1.0</td></tr>\n",
        "<tr><td>max absolute_MCC</td>\n",
        "<td>0.647380822133</td>\n",
        "<td>0.311837477405</td>\n",
        "<td>209.0</td></tr>\n",
        "<tr><td>max min_per_class_accuracy</td>\n",
        "<td>0.747237667953</td>\n",
        "<td>0.635990139688</td>\n",
        "<td>153.0</td></tr></table></div>"
       ],
       "metadata": {},
       "output_type": "display_data",
       "text": [
        "metric                      threshold    value     idx\n",
        "--------------------------  -----------  --------  -----\n",
        "max f1                      0.497377     0.731942  278\n",
        "max f2                      0.18839      0.860617  381\n",
        "max f0point5                0.647381     0.681609  209\n",
        "max accuracy                0.647381     0.662207  209\n",
        "max precision               0.997039     0.846154  1\n",
        "max absolute_MCC            0.647381     0.311837  209\n",
        "max min_per_class_accuracy  0.747238     0.63599   153"
       ]
      },
      {
       "output_type": "stream",
       "stream": "stdout",
       "text": [
        "\n",
        "Confusion Matrix (Act/Pred) for max f1 @ threshold = 0.497376537988:\n"
       ]
      },
      {
       "html": [
        "<div style=\"overflow:auto\"><table style=\"width:50%\"><tr><td></td>\n",
        "<td>NO</td>\n",
        "<td>YES</td>\n",
        "<td>Error</td>\n",
        "<td>Rate</td></tr>\n",
        "<tr><td>NO</td>\n",
        "<td>321.0</td>\n",
        "<td>896.0</td>\n",
        "<td>0.7362</td>\n",
        "<td> (896.0/1217.0)</td></tr>\n",
        "<tr><td>YES</td>\n",
        "<td>106.0</td>\n",
        "<td>1368.0</td>\n",
        "<td>0.0719</td>\n",
        "<td> (106.0/1474.0)</td></tr>\n",
        "<tr><td>Total</td>\n",
        "<td>427.0</td>\n",
        "<td>2264.0</td>\n",
        "<td>0.3724</td>\n",
        "<td> (1002.0/2691.0)</td></tr></table></div>"
       ],
       "metadata": {},
       "output_type": "display_data",
       "text": [
        "       NO    YES    Error    Rate\n",
        "-----  ----  -----  -------  ---------------\n",
        "NO     321   896    0.7362   (896.0/1217.0)\n",
        "YES    106   1368   0.0719   (106.0/1474.0)\n",
        "Total  427   2264   0.3724   (1002.0/2691.0)"
       ]
      },
      {
       "output_type": "stream",
       "stream": "stdout",
       "text": [
        "\n",
        "[[0.9970393675582909, 0.8461538461538461]]\n",
        "[[0.6473808221327922, 0.6622073578595318]]\n",
        "0.696770034194\n"
       ]
      }
     ],
     "prompt_number": 11
    }
   ],
   "metadata": {}
  }
 ]
}