{
 "cells": [
  {
   "cell_type": "code",
   "execution_count": 1,
   "metadata": {
    "collapsed": false
   },
   "outputs": [],
   "source": [
    "import h2o"
   ]
  },
  {
   "cell_type": "code",
   "execution_count": 2,
   "metadata": {
    "collapsed": false
   },
   "outputs": [
    {
     "data": {
      "text/html": [
       "<div style=\"overflow:auto\"><table style=\"width:50%\"><tr><td>H2O cluster uptime: </td>\n",
       "<td>3 minutes 37 seconds 60 milliseconds </td></tr>\n",
       "<tr><td>H2O cluster version: </td>\n",
       "<td>3.5.0.99999</td></tr>\n",
       "<tr><td>H2O cluster name: </td>\n",
       "<td>ece</td></tr>\n",
       "<tr><td>H2O cluster total nodes: </td>\n",
       "<td>1</td></tr>\n",
       "<tr><td>H2O cluster total memory: </td>\n",
       "<td>10.67 GB</td></tr>\n",
       "<tr><td>H2O cluster total cores: </td>\n",
       "<td>8</td></tr>\n",
       "<tr><td>H2O cluster allowed cores: </td>\n",
       "<td>8</td></tr>\n",
       "<tr><td>H2O cluster healthy: </td>\n",
       "<td>True</td></tr>\n",
       "<tr><td>H2O Connection ip: </td>\n",
       "<td>127.0.0.1</td></tr>\n",
       "<tr><td>H2O Connection port: </td>\n",
       "<td>54321</td></tr></table></div>"
      ],
      "text/plain": [
       "--------------------------  ------------------------------------\n",
       "H2O cluster uptime:         3 minutes 37 seconds 60 milliseconds\n",
       "H2O cluster version:        3.5.0.99999\n",
       "H2O cluster name:           ece\n",
       "H2O cluster total nodes:    1\n",
       "H2O cluster total memory:   10.67 GB\n",
       "H2O cluster total cores:    8\n",
       "H2O cluster allowed cores:  8\n",
       "H2O cluster healthy:        True\n",
       "H2O Connection ip:          127.0.0.1\n",
       "H2O Connection port:        54321\n",
       "--------------------------  ------------------------------------"
      ]
     },
     "metadata": {},
     "output_type": "display_data"
    }
   ],
   "source": [
    "h2o.init()"
   ]
  },
  {
   "cell_type": "code",
   "execution_count": 3,
   "metadata": {
    "collapsed": false
   },
   "outputs": [
    {
     "name": "stdout",
     "output_type": "stream",
     "text": [
      "\n",
      "Parse Progress: [##################################################] 100%\n",
      "Imported /Users/ece/0xdata/h2o-dev/smalldata/airlines/AirlinesTrain.csv.zip. Parsed 24,421 rows and 12 cols\n"
     ]
    }
   ],
   "source": [
    "from h2o.utils.shared_utils import _locate # private function. used to find files within h2o git project directory.\n",
    "\n",
    "# Airlines dataset\n",
    "air = h2o.import_file(path=_locate(\"smalldata/airlines/AirlinesTrain.csv.zip\"))"
   ]
  },
  {
   "cell_type": "code",
   "execution_count": 4,
   "metadata": {
    "collapsed": false
   },
   "outputs": [],
   "source": [
    "# Construct validation and training datasets by sampling (20/80)\n",
    "r = air[0].runif()\n",
    "air_train = air[r < 0.8]\n",
    "air_valid = air[r >= 0.8]\n",
    "\n",
    "myX = [\"Origin\", \"Dest\", \"Distance\", \"UniqueCarrier\", \"fMonth\", \"fDayofMonth\", \"fDayOfWeek\"]\n",
    "myY = \"IsDepDelayed\""
   ]
  },
  {
   "cell_type": "code",
   "execution_count": 5,
   "metadata": {
    "collapsed": false
   },
   "outputs": [
    {
     "name": "stdout",
     "output_type": "stream",
     "text": [
      "\n",
      "gbm Model Build Progress: [##################################################] 100%\n"
     ]
    }
   ],
   "source": [
    "# Build gbm\n",
    "gbm = h2o.gbm(x=air_train[myX], \n",
    "              y=air_train[myY], \n",
    "              validation_x=air_valid[myX],\n",
    "              validation_y=air_valid[myY],\n",
    "              distribution=\"bernoulli\", \n",
    "              ntrees=100, \n",
    "              max_depth=3, \n",
    "              learn_rate=0.01)"
   ]
  },
  {
   "cell_type": "code",
   "execution_count": 6,
   "metadata": {
    "collapsed": false
   },
   "outputs": [
    {
     "name": "stdout",
     "output_type": "stream",
     "text": [
      "\n",
      "Confusion Matrix (Act/Pred) for max f1 @ threshold = 0.459414927132:\n"
     ]
    },
    {
     "data": {
      "text/html": [
       "<div style=\"overflow:auto\"><table style=\"width:50%\"><tr><td></td>\n",
       "<td>NO</td>\n",
       "<td>YES</td>\n",
       "<td>Error</td>\n",
       "<td>Rate</td></tr>\n",
       "<tr><td>NO</td>\n",
       "<td>3220.0</td>\n",
       "<td>5687.0</td>\n",
       "<td>0.6385</td>\n",
       "<td> (5687.0/8907.0)</td></tr>\n",
       "<tr><td>YES</td>\n",
       "<td>1357.0</td>\n",
       "<td>9404.0</td>\n",
       "<td>0.1261</td>\n",
       "<td> (1357.0/10761.0)</td></tr>\n",
       "<tr><td>Total</td>\n",
       "<td>4577.0</td>\n",
       "<td>15091.0</td>\n",
       "<td>0.3581</td>\n",
       "<td> (7044.0/19668.0)</td></tr></table></div>"
      ],
      "text/plain": [
       "       NO    YES    Error    Rate\n",
       "-----  ----  -----  -------  ----------------\n",
       "NO     3220  5687   0.6385   (5687.0/8907.0)\n",
       "YES    1357  9404   0.1261   (1357.0/10761.0)\n",
       "Total  4577  15091  0.3581   (7044.0/19668.0)"
      ]
     },
     "metadata": {},
     "output_type": "display_data"
    },
    {
     "name": "stdout",
     "output_type": "stream",
     "text": [
      "\n",
      "\n",
      "Confusion Matrix (Act/Pred) for max f2 @ threshold = 0.381066670162:\n"
     ]
    },
    {
     "data": {
      "text/html": [
       "<div style=\"overflow:auto\"><table style=\"width:50%\"><tr><td></td>\n",
       "<td>NO</td>\n",
       "<td>YES</td>\n",
       "<td>Error</td>\n",
       "<td>Rate</td></tr>\n",
       "<tr><td>NO</td>\n",
       "<td>127.0</td>\n",
       "<td>8780.0</td>\n",
       "<td>0.9857</td>\n",
       "<td> (8780.0/8907.0)</td></tr>\n",
       "<tr><td>YES</td>\n",
       "<td>21.0</td>\n",
       "<td>10740.0</td>\n",
       "<td>0.002</td>\n",
       "<td> (21.0/10761.0)</td></tr>\n",
       "<tr><td>Total</td>\n",
       "<td>148.0</td>\n",
       "<td>19520.0</td>\n",
       "<td>0.4475</td>\n",
       "<td> (8801.0/19668.0)</td></tr></table></div>"
      ],
      "text/plain": [
       "       NO    YES    Error    Rate\n",
       "-----  ----  -----  -------  ----------------\n",
       "NO     127   8780   0.9857   (8780.0/8907.0)\n",
       "YES    21    10740  0.002    (21.0/10761.0)\n",
       "Total  148   19520  0.4475   (8801.0/19668.0)"
      ]
     },
     "metadata": {},
     "output_type": "display_data"
    },
    {
     "name": "stdout",
     "output_type": "stream",
     "text": [
      "\n",
      "\n",
      "Confusion Matrix (Act/Pred) for max precision @ threshold = 0.684200366538:\n"
     ]
    },
    {
     "data": {
      "text/html": [
       "<div style=\"overflow:auto\"><table style=\"width:50%\"><tr><td></td>\n",
       "<td>NO</td>\n",
       "<td>YES</td>\n",
       "<td>Error</td>\n",
       "<td>Rate</td></tr>\n",
       "<tr><td>NO</td>\n",
       "<td>8892.0</td>\n",
       "<td>15.0</td>\n",
       "<td>0.0017</td>\n",
       "<td> (15.0/8907.0)</td></tr>\n",
       "<tr><td>YES</td>\n",
       "<td>10640.0</td>\n",
       "<td>121.0</td>\n",
       "<td>0.9888</td>\n",
       "<td> (10640.0/10761.0)</td></tr>\n",
       "<tr><td>Total</td>\n",
       "<td>19532.0</td>\n",
       "<td>136.0</td>\n",
       "<td>0.5417</td>\n",
       "<td> (10655.0/19668.0)</td></tr></table></div>"
      ],
      "text/plain": [
       "       NO     YES    Error    Rate\n",
       "-----  -----  -----  -------  -----------------\n",
       "NO     8892   15     0.0017   (15.0/8907.0)\n",
       "YES    10640  121    0.9888   (10640.0/10761.0)\n",
       "Total  19532  136    0.5417   (10655.0/19668.0)"
      ]
     },
     "metadata": {},
     "output_type": "display_data"
    },
    {
     "name": "stdout",
     "output_type": "stream",
     "text": [
      "\n",
      "\n",
      "Confusion Matrix (Act/Pred) for max accuracy @ threshold = 0.505407976974:\n"
     ]
    },
    {
     "data": {
      "text/html": [
       "<div style=\"overflow:auto\"><table style=\"width:50%\"><tr><td></td>\n",
       "<td>NO</td>\n",
       "<td>YES</td>\n",
       "<td>Error</td>\n",
       "<td>Rate</td></tr>\n",
       "<tr><td>NO</td>\n",
       "<td>4678.0</td>\n",
       "<td>4229.0</td>\n",
       "<td>0.4748</td>\n",
       "<td> (4229.0/8907.0)</td></tr>\n",
       "<tr><td>YES</td>\n",
       "<td>2554.0</td>\n",
       "<td>8207.0</td>\n",
       "<td>0.2373</td>\n",
       "<td> (2554.0/10761.0)</td></tr>\n",
       "<tr><td>Total</td>\n",
       "<td>7232.0</td>\n",
       "<td>12436.0</td>\n",
       "<td>0.3449</td>\n",
       "<td> (6783.0/19668.0)</td></tr></table></div>"
      ],
      "text/plain": [
       "       NO    YES    Error    Rate\n",
       "-----  ----  -----  -------  ----------------\n",
       "NO     4678  4229   0.4748   (4229.0/8907.0)\n",
       "YES    2554  8207   0.2373   (2554.0/10761.0)\n",
       "Total  7232  12436  0.3449   (6783.0/19668.0)"
      ]
     },
     "metadata": {},
     "output_type": "display_data"
    },
    {
     "name": "stdout",
     "output_type": "stream",
     "text": [
      "\n",
      "\n",
      "Confusion Matrix (Act/Pred) for max f0point5 @ threshold = 0.552458757447:\n"
     ]
    },
    {
     "data": {
      "text/html": [
       "<div style=\"overflow:auto\"><table style=\"width:50%\"><tr><td></td>\n",
       "<td>NO</td>\n",
       "<td>YES</td>\n",
       "<td>Error</td>\n",
       "<td>Rate</td></tr>\n",
       "<tr><td>NO</td>\n",
       "<td>5693.0</td>\n",
       "<td>3214.0</td>\n",
       "<td>0.3608</td>\n",
       "<td> (3214.0/8907.0)</td></tr>\n",
       "<tr><td>YES</td>\n",
       "<td>3595.0</td>\n",
       "<td>7166.0</td>\n",
       "<td>0.3341</td>\n",
       "<td> (3595.0/10761.0)</td></tr>\n",
       "<tr><td>Total</td>\n",
       "<td>9288.0</td>\n",
       "<td>10380.0</td>\n",
       "<td>0.3462</td>\n",
       "<td> (6809.0/19668.0)</td></tr></table></div>"
      ],
      "text/plain": [
       "       NO    YES    Error    Rate\n",
       "-----  ----  -----  -------  ----------------\n",
       "NO     5693  3214   0.3608   (3214.0/8907.0)\n",
       "YES    3595  7166   0.3341   (3595.0/10761.0)\n",
       "Total  9288  10380  0.3462   (6809.0/19668.0)"
      ]
     },
     "metadata": {},
     "output_type": "display_data"
    },
    {
     "name": "stdout",
     "output_type": "stream",
     "text": [
      "\n"
     ]
    }
   ],
   "source": [
    "# Show various confusion matrices for training dataset (based on metric(s))\n",
    "print(gbm.confusion_matrix()) # maximum f1 threshold chosen by default\n",
    "\n",
    "print(gbm.confusion_matrix(metrics=\"f2\"))\n",
    "\n",
    "print(gbm.confusion_matrix(metrics=\"precision\"))\n",
    "\n",
    "cms = gbm.confusion_matrix(metrics=[\"accuracy\", \"f0point5\"])\n",
    "print(cms[0])\n",
    "print(cms[1])"
   ]
  },
  {
   "cell_type": "code",
   "execution_count": 7,
   "metadata": {
    "collapsed": false
   },
   "outputs": [
    {
     "name": "stdout",
     "output_type": "stream",
     "text": [
      "Could not find exact threshold 0.77; using closest threshold found 0.684200366538.\n",
      "\n",
      "Confusion Matrix (Act/Pred) @ threshold = 0.684200366538:\n"
     ]
    },
    {
     "data": {
      "text/html": [
       "<div style=\"overflow:auto\"><table style=\"width:50%\"><tr><td></td>\n",
       "<td>NO</td>\n",
       "<td>YES</td>\n",
       "<td>Error</td>\n",
       "<td>Rate</td></tr>\n",
       "<tr><td>NO</td>\n",
       "<td>8892.0</td>\n",
       "<td>15.0</td>\n",
       "<td>0.0017</td>\n",
       "<td> (15.0/8907.0)</td></tr>\n",
       "<tr><td>YES</td>\n",
       "<td>10640.0</td>\n",
       "<td>121.0</td>\n",
       "<td>0.9888</td>\n",
       "<td> (10640.0/10761.0)</td></tr>\n",
       "<tr><td>Total</td>\n",
       "<td>19532.0</td>\n",
       "<td>136.0</td>\n",
       "<td>0.5417</td>\n",
       "<td> (10655.0/19668.0)</td></tr></table></div>"
      ],
      "text/plain": [
       "       NO     YES    Error    Rate\n",
       "-----  -----  -----  -------  -----------------\n",
       "NO     8892   15     0.0017   (15.0/8907.0)\n",
       "YES    10640  121    0.9888   (10640.0/10761.0)\n",
       "Total  19532  136    0.5417   (10655.0/19668.0)"
      ]
     },
     "metadata": {},
     "output_type": "display_data"
    },
    {
     "name": "stdout",
     "output_type": "stream",
     "text": [
      "\n",
      "Could not find exact threshold 0.1; using closest threshold found 0.376167626413.\n",
      "Could not find exact threshold 0.5; using closest threshold found 0.499996937724.\n",
      "Could not find exact threshold 0.99; using closest threshold found 0.684200366538.\n",
      "\n",
      "Confusion Matrix (Act/Pred) @ threshold = 0.376167626413:\n"
     ]
    },
    {
     "data": {
      "text/html": [
       "<div style=\"overflow:auto\"><table style=\"width:50%\"><tr><td></td>\n",
       "<td>NO</td>\n",
       "<td>YES</td>\n",
       "<td>Error</td>\n",
       "<td>Rate</td></tr>\n",
       "<tr><td>NO</td>\n",
       "<td>0.0</td>\n",
       "<td>8907.0</td>\n",
       "<td>1.0</td>\n",
       "<td> (8907.0/8907.0)</td></tr>\n",
       "<tr><td>YES</td>\n",
       "<td>0.0</td>\n",
       "<td>10761.0</td>\n",
       "<td>0.0</td>\n",
       "<td> (0.0/10761.0)</td></tr>\n",
       "<tr><td>Total</td>\n",
       "<td>0.0</td>\n",
       "<td>19668.0</td>\n",
       "<td>0.4529</td>\n",
       "<td> (8907.0/19668.0)</td></tr></table></div>"
      ],
      "text/plain": [
       "       NO    YES    Error    Rate\n",
       "-----  ----  -----  -------  ----------------\n",
       "NO     0     8907   1        (8907.0/8907.0)\n",
       "YES    0     10761  0        (0.0/10761.0)\n",
       "Total  0     19668  0.4529   (8907.0/19668.0)"
      ]
     },
     "metadata": {},
     "output_type": "display_data"
    },
    {
     "name": "stdout",
     "output_type": "stream",
     "text": [
      "\n",
      "\n",
      "Confusion Matrix (Act/Pred) @ threshold = 0.499996937724:\n"
     ]
    },
    {
     "data": {
      "text/html": [
       "<div style=\"overflow:auto\"><table style=\"width:50%\"><tr><td></td>\n",
       "<td>NO</td>\n",
       "<td>YES</td>\n",
       "<td>Error</td>\n",
       "<td>Rate</td></tr>\n",
       "<tr><td>NO</td>\n",
       "<td>4483.0</td>\n",
       "<td>4424.0</td>\n",
       "<td>0.4967</td>\n",
       "<td> (4424.0/8907.0)</td></tr>\n",
       "<tr><td>YES</td>\n",
       "<td>2411.0</td>\n",
       "<td>8350.0</td>\n",
       "<td>0.224</td>\n",
       "<td> (2411.0/10761.0)</td></tr>\n",
       "<tr><td>Total</td>\n",
       "<td>6894.0</td>\n",
       "<td>12774.0</td>\n",
       "<td>0.3475</td>\n",
       "<td> (6835.0/19668.0)</td></tr></table></div>"
      ],
      "text/plain": [
       "       NO    YES    Error    Rate\n",
       "-----  ----  -----  -------  ----------------\n",
       "NO     4483  4424   0.4967   (4424.0/8907.0)\n",
       "YES    2411  8350   0.224    (2411.0/10761.0)\n",
       "Total  6894  12774  0.3475   (6835.0/19668.0)"
      ]
     },
     "metadata": {},
     "output_type": "display_data"
    },
    {
     "name": "stdout",
     "output_type": "stream",
     "text": [
      "\n",
      "\n",
      "Confusion Matrix (Act/Pred) @ threshold = 0.684200366538:\n"
     ]
    },
    {
     "data": {
      "text/html": [
       "<div style=\"overflow:auto\"><table style=\"width:50%\"><tr><td></td>\n",
       "<td>NO</td>\n",
       "<td>YES</td>\n",
       "<td>Error</td>\n",
       "<td>Rate</td></tr>\n",
       "<tr><td>NO</td>\n",
       "<td>8892.0</td>\n",
       "<td>15.0</td>\n",
       "<td>0.0017</td>\n",
       "<td> (15.0/8907.0)</td></tr>\n",
       "<tr><td>YES</td>\n",
       "<td>10640.0</td>\n",
       "<td>121.0</td>\n",
       "<td>0.9888</td>\n",
       "<td> (10640.0/10761.0)</td></tr>\n",
       "<tr><td>Total</td>\n",
       "<td>19532.0</td>\n",
       "<td>136.0</td>\n",
       "<td>0.5417</td>\n",
       "<td> (10655.0/19668.0)</td></tr></table></div>"
      ],
      "text/plain": [
       "       NO     YES    Error    Rate\n",
       "-----  -----  -----  -------  -----------------\n",
       "NO     8892   15     0.0017   (15.0/8907.0)\n",
       "YES    10640  121    0.9888   (10640.0/10761.0)\n",
       "Total  19532  136    0.5417   (10655.0/19668.0)"
      ]
     },
     "metadata": {},
     "output_type": "display_data"
    },
    {
     "name": "stdout",
     "output_type": "stream",
     "text": [
      "\n"
     ]
    }
   ],
   "source": [
    "# Show various confusion matrices for training dataset (based on threshold(s))\n",
    "print(gbm.confusion_matrix(thresholds=0.77))\n",
    "\n",
    "cms = gbm.confusion_matrix(thresholds=[0.1, 0.5, 0.99])\n",
    "print(cms[0])\n",
    "print(cms[1])\n",
    "print(cms[2])"
   ]
  },
  {
   "cell_type": "code",
   "execution_count": 8,
   "metadata": {
    "collapsed": false
   },
   "outputs": [
    {
     "name": "stdout",
     "output_type": "stream",
     "text": [
      "\n",
      "Confusion Matrix (Act/Pred) for max f2 @ threshold = 0.389262598446:\n"
     ]
    },
    {
     "data": {
      "text/html": [
       "<div style=\"overflow:auto\"><table style=\"width:50%\"><tr><td></td>\n",
       "<td>NO</td>\n",
       "<td>YES</td>\n",
       "<td>Error</td>\n",
       "<td>Rate</td></tr>\n",
       "<tr><td>NO</td>\n",
       "<td>52.0</td>\n",
       "<td>2107.0</td>\n",
       "<td>0.9759</td>\n",
       "<td> (2107.0/2159.0)</td></tr>\n",
       "<tr><td>YES</td>\n",
       "<td>4.0</td>\n",
       "<td>2590.0</td>\n",
       "<td>0.0015</td>\n",
       "<td> (4.0/2594.0)</td></tr>\n",
       "<tr><td>Total</td>\n",
       "<td>56.0</td>\n",
       "<td>4697.0</td>\n",
       "<td>0.4441</td>\n",
       "<td> (2111.0/4753.0)</td></tr></table></div>"
      ],
      "text/plain": [
       "       NO    YES    Error    Rate\n",
       "-----  ----  -----  -------  ---------------\n",
       "NO     52    2107   0.9759   (2107.0/2159.0)\n",
       "YES    4     2590   0.0015   (4.0/2594.0)\n",
       "Total  56    4697   0.4441   (2111.0/4753.0)"
      ]
     },
     "metadata": {},
     "output_type": "display_data"
    },
    {
     "name": "stdout",
     "output_type": "stream",
     "text": [
      "\n",
      "\n",
      "Confusion Matrix (Act/Pred) for max precision @ threshold = 0.684273290486:\n"
     ]
    },
    {
     "data": {
      "text/html": [
       "<div style=\"overflow:auto\"><table style=\"width:50%\"><tr><td></td>\n",
       "<td>NO</td>\n",
       "<td>YES</td>\n",
       "<td>Error</td>\n",
       "<td>Rate</td></tr>\n",
       "<tr><td>NO</td>\n",
       "<td>2159.0</td>\n",
       "<td>0.0</td>\n",
       "<td>0.0</td>\n",
       "<td> (0.0/2159.0)</td></tr>\n",
       "<tr><td>YES</td>\n",
       "<td>2578.0</td>\n",
       "<td>16.0</td>\n",
       "<td>0.9938</td>\n",
       "<td> (2578.0/2594.0)</td></tr>\n",
       "<tr><td>Total</td>\n",
       "<td>4737.0</td>\n",
       "<td>16.0</td>\n",
       "<td>0.5424</td>\n",
       "<td> (2578.0/4753.0)</td></tr></table></div>"
      ],
      "text/plain": [
       "       NO    YES    Error    Rate\n",
       "-----  ----  -----  -------  ---------------\n",
       "NO     2159  0      0        (0.0/2159.0)\n",
       "YES    2578  16     0.9938   (2578.0/2594.0)\n",
       "Total  4737  16     0.5424   (2578.0/4753.0)"
      ]
     },
     "metadata": {},
     "output_type": "display_data"
    },
    {
     "name": "stdout",
     "output_type": "stream",
     "text": [
      "\n",
      "\n",
      "Confusion Matrix (Act/Pred) for max accuracy @ threshold = 0.522340383226:\n"
     ]
    },
    {
     "data": {
      "text/html": [
       "<div style=\"overflow:auto\"><table style=\"width:50%\"><tr><td></td>\n",
       "<td>NO</td>\n",
       "<td>YES</td>\n",
       "<td>Error</td>\n",
       "<td>Rate</td></tr>\n",
       "<tr><td>NO</td>\n",
       "<td>1169.0</td>\n",
       "<td>990.0</td>\n",
       "<td>0.4585</td>\n",
       "<td> (990.0/2159.0)</td></tr>\n",
       "<tr><td>YES</td>\n",
       "<td>684.0</td>\n",
       "<td>1910.0</td>\n",
       "<td>0.2637</td>\n",
       "<td> (684.0/2594.0)</td></tr>\n",
       "<tr><td>Total</td>\n",
       "<td>1853.0</td>\n",
       "<td>2900.0</td>\n",
       "<td>0.3522</td>\n",
       "<td> (1674.0/4753.0)</td></tr></table></div>"
      ],
      "text/plain": [
       "       NO    YES    Error    Rate\n",
       "-----  ----  -----  -------  ---------------\n",
       "NO     1169  990    0.4585   (990.0/2159.0)\n",
       "YES    684   1910   0.2637   (684.0/2594.0)\n",
       "Total  1853  2900   0.3522   (1674.0/4753.0)"
      ]
     },
     "metadata": {},
     "output_type": "display_data"
    },
    {
     "name": "stdout",
     "output_type": "stream",
     "text": [
      "\n",
      "\n",
      "Confusion Matrix (Act/Pred) for max accuracy @ threshold = 0.522340383226:\n"
     ]
    },
    {
     "data": {
      "text/html": [
       "<div style=\"overflow:auto\"><table style=\"width:50%\"><tr><td></td>\n",
       "<td>NO</td>\n",
       "<td>YES</td>\n",
       "<td>Error</td>\n",
       "<td>Rate</td></tr>\n",
       "<tr><td>NO</td>\n",
       "<td>1169.0</td>\n",
       "<td>990.0</td>\n",
       "<td>0.4585</td>\n",
       "<td> (990.0/2159.0)</td></tr>\n",
       "<tr><td>YES</td>\n",
       "<td>684.0</td>\n",
       "<td>1910.0</td>\n",
       "<td>0.2637</td>\n",
       "<td> (684.0/2594.0)</td></tr>\n",
       "<tr><td>Total</td>\n",
       "<td>1853.0</td>\n",
       "<td>2900.0</td>\n",
       "<td>0.3522</td>\n",
       "<td> (1674.0/4753.0)</td></tr></table></div>"
      ],
      "text/plain": [
       "       NO    YES    Error    Rate\n",
       "-----  ----  -----  -------  ---------------\n",
       "NO     1169  990    0.4585   (990.0/2159.0)\n",
       "YES    684   1910   0.2637   (684.0/2594.0)\n",
       "Total  1853  2900   0.3522   (1674.0/4753.0)"
      ]
     },
     "metadata": {},
     "output_type": "display_data"
    },
    {
     "name": "stdout",
     "output_type": "stream",
     "text": [
      "\n"
     ]
    }
   ],
   "source": [
    "# Show various confusion matrices for validation dataset (based on metric(s))\n",
    "print(gbm.confusion_matrix(metrics=\"f2\", valid=True))\n",
    "\n",
    "print(gbm.confusion_matrix(metrics=\"precision\", valid=True))\n",
    "\n",
    "cms = gbm.confusion_matrix(metrics=[\"accuracy\", \"f0point5\"], valid=True)\n",
    "print(cms[0])\n",
    "print(cms[1])"
   ]
  },
  {
   "cell_type": "code",
   "execution_count": 9,
   "metadata": {
    "collapsed": false
   },
   "outputs": [
    {
     "name": "stdout",
     "output_type": "stream",
     "text": [
      "Could not find exact threshold 0.77; using closest threshold found 0.684200366538.\n",
      "\n",
      "Confusion Matrix (Act/Pred) @ threshold = 0.684200366538:\n"
     ]
    },
    {
     "data": {
      "text/html": [
       "<div style=\"overflow:auto\"><table style=\"width:50%\"><tr><td></td>\n",
       "<td>NO</td>\n",
       "<td>YES</td>\n",
       "<td>Error</td>\n",
       "<td>Rate</td></tr>\n",
       "<tr><td>NO</td>\n",
       "<td>8892.0</td>\n",
       "<td>15.0</td>\n",
       "<td>0.0017</td>\n",
       "<td> (15.0/8907.0)</td></tr>\n",
       "<tr><td>YES</td>\n",
       "<td>10640.0</td>\n",
       "<td>121.0</td>\n",
       "<td>0.9888</td>\n",
       "<td> (10640.0/10761.0)</td></tr>\n",
       "<tr><td>Total</td>\n",
       "<td>19532.0</td>\n",
       "<td>136.0</td>\n",
       "<td>0.5417</td>\n",
       "<td> (10655.0/19668.0)</td></tr></table></div>"
      ],
      "text/plain": [
       "       NO     YES    Error    Rate\n",
       "-----  -----  -----  -------  -----------------\n",
       "NO     8892   15     0.0017   (15.0/8907.0)\n",
       "YES    10640  121    0.9888   (10640.0/10761.0)\n",
       "Total  19532  136    0.5417   (10655.0/19668.0)"
      ]
     },
     "metadata": {},
     "output_type": "display_data"
    },
    {
     "name": "stdout",
     "output_type": "stream",
     "text": [
      "\n",
      "Could not find exact threshold 0.25; using closest threshold found 0.376167626413.\n",
      "Could not find exact threshold 0.33; using closest threshold found 0.376167626413.\n",
      "Could not find exact threshold 0.44; using closest threshold found 0.440166828406.\n",
      "\n",
      "Confusion Matrix (Act/Pred) @ threshold = 0.376167626413:\n"
     ]
    },
    {
     "data": {
      "text/html": [
       "<div style=\"overflow:auto\"><table style=\"width:50%\"><tr><td></td>\n",
       "<td>NO</td>\n",
       "<td>YES</td>\n",
       "<td>Error</td>\n",
       "<td>Rate</td></tr>\n",
       "<tr><td>NO</td>\n",
       "<td>0.0</td>\n",
       "<td>8907.0</td>\n",
       "<td>1.0</td>\n",
       "<td> (8907.0/8907.0)</td></tr>\n",
       "<tr><td>YES</td>\n",
       "<td>0.0</td>\n",
       "<td>10761.0</td>\n",
       "<td>0.0</td>\n",
       "<td> (0.0/10761.0)</td></tr>\n",
       "<tr><td>Total</td>\n",
       "<td>0.0</td>\n",
       "<td>19668.0</td>\n",
       "<td>0.4529</td>\n",
       "<td> (8907.0/19668.0)</td></tr></table></div>"
      ],
      "text/plain": [
       "       NO    YES    Error    Rate\n",
       "-----  ----  -----  -------  ----------------\n",
       "NO     0     8907   1        (8907.0/8907.0)\n",
       "YES    0     10761  0        (0.0/10761.0)\n",
       "Total  0     19668  0.4529   (8907.0/19668.0)"
      ]
     },
     "metadata": {},
     "output_type": "display_data"
    },
    {
     "name": "stdout",
     "output_type": "stream",
     "text": [
      "\n",
      "\n",
      "Confusion Matrix (Act/Pred) @ threshold = 0.376167626413:\n"
     ]
    },
    {
     "data": {
      "text/html": [
       "<div style=\"overflow:auto\"><table style=\"width:50%\"><tr><td></td>\n",
       "<td>NO</td>\n",
       "<td>YES</td>\n",
       "<td>Error</td>\n",
       "<td>Rate</td></tr>\n",
       "<tr><td>NO</td>\n",
       "<td>0.0</td>\n",
       "<td>8907.0</td>\n",
       "<td>1.0</td>\n",
       "<td> (8907.0/8907.0)</td></tr>\n",
       "<tr><td>YES</td>\n",
       "<td>0.0</td>\n",
       "<td>10761.0</td>\n",
       "<td>0.0</td>\n",
       "<td> (0.0/10761.0)</td></tr>\n",
       "<tr><td>Total</td>\n",
       "<td>0.0</td>\n",
       "<td>19668.0</td>\n",
       "<td>0.4529</td>\n",
       "<td> (8907.0/19668.0)</td></tr></table></div>"
      ],
      "text/plain": [
       "       NO    YES    Error    Rate\n",
       "-----  ----  -----  -------  ----------------\n",
       "NO     0     8907   1        (8907.0/8907.0)\n",
       "YES    0     10761  0        (0.0/10761.0)\n",
       "Total  0     19668  0.4529   (8907.0/19668.0)"
      ]
     },
     "metadata": {},
     "output_type": "display_data"
    },
    {
     "name": "stdout",
     "output_type": "stream",
     "text": [
      "\n",
      "\n",
      "Confusion Matrix (Act/Pred) @ threshold = 0.440166828406:\n"
     ]
    },
    {
     "data": {
      "text/html": [
       "<div style=\"overflow:auto\"><table style=\"width:50%\"><tr><td></td>\n",
       "<td>NO</td>\n",
       "<td>YES</td>\n",
       "<td>Error</td>\n",
       "<td>Rate</td></tr>\n",
       "<tr><td>NO</td>\n",
       "<td>2299.0</td>\n",
       "<td>6608.0</td>\n",
       "<td>0.7419</td>\n",
       "<td> (6608.0/8907.0)</td></tr>\n",
       "<tr><td>YES</td>\n",
       "<td>919.0</td>\n",
       "<td>9842.0</td>\n",
       "<td>0.0854</td>\n",
       "<td> (919.0/10761.0)</td></tr>\n",
       "<tr><td>Total</td>\n",
       "<td>3218.0</td>\n",
       "<td>16450.0</td>\n",
       "<td>0.3827</td>\n",
       "<td> (7527.0/19668.0)</td></tr></table></div>"
      ],
      "text/plain": [
       "       NO    YES    Error    Rate\n",
       "-----  ----  -----  -------  ----------------\n",
       "NO     2299  6608   0.7419   (6608.0/8907.0)\n",
       "YES    919   9842   0.0854   (919.0/10761.0)\n",
       "Total  3218  16450  0.3827   (7527.0/19668.0)"
      ]
     },
     "metadata": {},
     "output_type": "display_data"
    },
    {
     "name": "stdout",
     "output_type": "stream",
     "text": [
      "\n"
     ]
    }
   ],
   "source": [
    "# Show various confusion matrices for validation dataset (based on threshold(s))\n",
    "print(gbm.confusion_matrix(thresholds=0.77))\n",
    "\n",
    "cms = gbm.confusion_matrix(thresholds=[0.25, 0.33, 0.44])\n",
    "print(cms[0])\n",
    "print(cms[1])\n",
    "print(cms[2])"
   ]
  },
  {
   "cell_type": "code",
   "execution_count": 10,
   "metadata": {
    "collapsed": false
   },
   "outputs": [
    {
     "name": "stdout",
     "output_type": "stream",
     "text": [
      "Could not find exact threshold 0.77; using closest threshold found 0.684200366538.\n",
      "\n",
      "Confusion Matrix (Act/Pred) @ threshold = 0.684200366538:\n"
     ]
    },
    {
     "data": {
      "text/html": [
       "<div style=\"overflow:auto\"><table style=\"width:50%\"><tr><td></td>\n",
       "<td>NO</td>\n",
       "<td>YES</td>\n",
       "<td>Error</td>\n",
       "<td>Rate</td></tr>\n",
       "<tr><td>NO</td>\n",
       "<td>8892.0</td>\n",
       "<td>15.0</td>\n",
       "<td>0.0017</td>\n",
       "<td> (15.0/8907.0)</td></tr>\n",
       "<tr><td>YES</td>\n",
       "<td>10640.0</td>\n",
       "<td>121.0</td>\n",
       "<td>0.9888</td>\n",
       "<td> (10640.0/10761.0)</td></tr>\n",
       "<tr><td>Total</td>\n",
       "<td>19532.0</td>\n",
       "<td>136.0</td>\n",
       "<td>0.5417</td>\n",
       "<td> (10655.0/19668.0)</td></tr></table></div>"
      ],
      "text/plain": [
       "       NO     YES    Error    Rate\n",
       "-----  -----  -----  -------  -----------------\n",
       "NO     8892   15     0.0017   (15.0/8907.0)\n",
       "YES    10640  121    0.9888   (10640.0/10761.0)\n",
       "Total  19532  136    0.5417   (10655.0/19668.0)"
      ]
     },
     "metadata": {},
     "output_type": "display_data"
    },
    {
     "name": "stdout",
     "output_type": "stream",
     "text": [
      "\n",
      "\n",
      "Confusion Matrix (Act/Pred) for max f1 @ threshold = 0.459414927132:\n"
     ]
    },
    {
     "data": {
      "text/html": [
       "<div style=\"overflow:auto\"><table style=\"width:50%\"><tr><td></td>\n",
       "<td>NO</td>\n",
       "<td>YES</td>\n",
       "<td>Error</td>\n",
       "<td>Rate</td></tr>\n",
       "<tr><td>NO</td>\n",
       "<td>3220.0</td>\n",
       "<td>5687.0</td>\n",
       "<td>0.6385</td>\n",
       "<td> (5687.0/8907.0)</td></tr>\n",
       "<tr><td>YES</td>\n",
       "<td>1357.0</td>\n",
       "<td>9404.0</td>\n",
       "<td>0.1261</td>\n",
       "<td> (1357.0/10761.0)</td></tr>\n",
       "<tr><td>Total</td>\n",
       "<td>4577.0</td>\n",
       "<td>15091.0</td>\n",
       "<td>0.3581</td>\n",
       "<td> (7044.0/19668.0)</td></tr></table></div>"
      ],
      "text/plain": [
       "       NO    YES    Error    Rate\n",
       "-----  ----  -----  -------  ----------------\n",
       "NO     3220  5687   0.6385   (5687.0/8907.0)\n",
       "YES    1357  9404   0.1261   (1357.0/10761.0)\n",
       "Total  4577  15091  0.3581   (7044.0/19668.0)"
      ]
     },
     "metadata": {},
     "output_type": "display_data"
    },
    {
     "name": "stdout",
     "output_type": "stream",
     "text": [
      "\n",
      "Could not find exact threshold 0.25; using closest threshold found 0.376167626413.\n",
      "Could not find exact threshold 0.33; using closest threshold found 0.376167626413.\n",
      "\n",
      "Confusion Matrix (Act/Pred) @ threshold = 0.376167626413:\n"
     ]
    },
    {
     "data": {
      "text/html": [
       "<div style=\"overflow:auto\"><table style=\"width:50%\"><tr><td></td>\n",
       "<td>NO</td>\n",
       "<td>YES</td>\n",
       "<td>Error</td>\n",
       "<td>Rate</td></tr>\n",
       "<tr><td>NO</td>\n",
       "<td>0.0</td>\n",
       "<td>8907.0</td>\n",
       "<td>1.0</td>\n",
       "<td> (8907.0/8907.0)</td></tr>\n",
       "<tr><td>YES</td>\n",
       "<td>0.0</td>\n",
       "<td>10761.0</td>\n",
       "<td>0.0</td>\n",
       "<td> (0.0/10761.0)</td></tr>\n",
       "<tr><td>Total</td>\n",
       "<td>0.0</td>\n",
       "<td>19668.0</td>\n",
       "<td>0.4529</td>\n",
       "<td> (8907.0/19668.0)</td></tr></table></div>"
      ],
      "text/plain": [
       "       NO    YES    Error    Rate\n",
       "-----  ----  -----  -------  ----------------\n",
       "NO     0     8907   1        (8907.0/8907.0)\n",
       "YES    0     10761  0        (0.0/10761.0)\n",
       "Total  0     19668  0.4529   (8907.0/19668.0)"
      ]
     },
     "metadata": {},
     "output_type": "display_data"
    },
    {
     "name": "stdout",
     "output_type": "stream",
     "text": [
      "\n",
      "\n",
      "Confusion Matrix (Act/Pred) @ threshold = 0.376167626413:\n"
     ]
    },
    {
     "data": {
      "text/html": [
       "<div style=\"overflow:auto\"><table style=\"width:50%\"><tr><td></td>\n",
       "<td>NO</td>\n",
       "<td>YES</td>\n",
       "<td>Error</td>\n",
       "<td>Rate</td></tr>\n",
       "<tr><td>NO</td>\n",
       "<td>0.0</td>\n",
       "<td>8907.0</td>\n",
       "<td>1.0</td>\n",
       "<td> (8907.0/8907.0)</td></tr>\n",
       "<tr><td>YES</td>\n",
       "<td>0.0</td>\n",
       "<td>10761.0</td>\n",
       "<td>0.0</td>\n",
       "<td> (0.0/10761.0)</td></tr>\n",
       "<tr><td>Total</td>\n",
       "<td>0.0</td>\n",
       "<td>19668.0</td>\n",
       "<td>0.4529</td>\n",
       "<td> (8907.0/19668.0)</td></tr></table></div>"
      ],
      "text/plain": [
       "       NO    YES    Error    Rate\n",
       "-----  ----  -----  -------  ----------------\n",
       "NO     0     8907   1        (8907.0/8907.0)\n",
       "YES    0     10761  0        (0.0/10761.0)\n",
       "Total  0     19668  0.4529   (8907.0/19668.0)"
      ]
     },
     "metadata": {},
     "output_type": "display_data"
    },
    {
     "name": "stdout",
     "output_type": "stream",
     "text": [
      "\n",
      "\n",
      "Confusion Matrix (Act/Pred) for max f2 @ threshold = 0.381066670162:\n"
     ]
    },
    {
     "data": {
      "text/html": [
       "<div style=\"overflow:auto\"><table style=\"width:50%\"><tr><td></td>\n",
       "<td>NO</td>\n",
       "<td>YES</td>\n",
       "<td>Error</td>\n",
       "<td>Rate</td></tr>\n",
       "<tr><td>NO</td>\n",
       "<td>127.0</td>\n",
       "<td>8780.0</td>\n",
       "<td>0.9857</td>\n",
       "<td> (8780.0/8907.0)</td></tr>\n",
       "<tr><td>YES</td>\n",
       "<td>21.0</td>\n",
       "<td>10740.0</td>\n",
       "<td>0.002</td>\n",
       "<td> (21.0/10761.0)</td></tr>\n",
       "<tr><td>Total</td>\n",
       "<td>148.0</td>\n",
       "<td>19520.0</td>\n",
       "<td>0.4475</td>\n",
       "<td> (8801.0/19668.0)</td></tr></table></div>"
      ],
      "text/plain": [
       "       NO    YES    Error    Rate\n",
       "-----  ----  -----  -------  ----------------\n",
       "NO     127   8780   0.9857   (8780.0/8907.0)\n",
       "YES    21    10740  0.002    (21.0/10761.0)\n",
       "Total  148   19520  0.4475   (8801.0/19668.0)"
      ]
     },
     "metadata": {},
     "output_type": "display_data"
    },
    {
     "name": "stdout",
     "output_type": "stream",
     "text": [
      "\n",
      "\n",
      "Confusion Matrix (Act/Pred) for max f0point5 @ threshold = 0.552458757447:\n"
     ]
    },
    {
     "data": {
      "text/html": [
       "<div style=\"overflow:auto\"><table style=\"width:50%\"><tr><td></td>\n",
       "<td>NO</td>\n",
       "<td>YES</td>\n",
       "<td>Error</td>\n",
       "<td>Rate</td></tr>\n",
       "<tr><td>NO</td>\n",
       "<td>5693.0</td>\n",
       "<td>3214.0</td>\n",
       "<td>0.3608</td>\n",
       "<td> (3214.0/8907.0)</td></tr>\n",
       "<tr><td>YES</td>\n",
       "<td>3595.0</td>\n",
       "<td>7166.0</td>\n",
       "<td>0.3341</td>\n",
       "<td> (3595.0/10761.0)</td></tr>\n",
       "<tr><td>Total</td>\n",
       "<td>9288.0</td>\n",
       "<td>10380.0</td>\n",
       "<td>0.3462</td>\n",
       "<td> (6809.0/19668.0)</td></tr></table></div>"
      ],
      "text/plain": [
       "       NO    YES    Error    Rate\n",
       "-----  ----  -----  -------  ----------------\n",
       "NO     5693  3214   0.3608   (3214.0/8907.0)\n",
       "YES    3595  7166   0.3341   (3595.0/10761.0)\n",
       "Total  9288  10380  0.3462   (6809.0/19668.0)"
      ]
     },
     "metadata": {},
     "output_type": "display_data"
    },
    {
     "name": "stdout",
     "output_type": "stream",
     "text": [
      "\n"
     ]
    }
   ],
   "source": [
    "# Show various confusion matrices for validation dataset (based on metric(s) AND threshold(s))\n",
    "cms = gbm.confusion_matrix(thresholds=0.77, metrics=\"f1\") \n",
    "print(cms[0])\n",
    "print(cms[1])\n",
    "\n",
    "cms = gbm.confusion_matrix(thresholds=[0.25, 0.33], metrics=[\"f2\", \"f0point5\"])\n",
    "print(cms[0])\n",
    "print(cms[1])\n",
    "print(cms[2])\n",
    "print(cms[3])"
   ]
  },
  {
   "cell_type": "code",
   "execution_count": 11,
   "metadata": {
    "collapsed": false
   },
   "outputs": [
    {
     "name": "stdout",
     "output_type": "stream",
     "text": [
      "\n",
      "Parse Progress: [##################################################] 100%\n",
      "Imported /Users/ece/0xdata/h2o-dev/smalldata/airlines/AirlinesTest.csv.zip. Parsed 2,691 rows and 12 cols\n"
     ]
    }
   ],
   "source": [
    "# Test dataset\n",
    "air_test = h2o.import_file(path=_locate(\"smalldata/airlines/AirlinesTest.csv.zip\"))\n",
    "\n",
    "# Test performance\n",
    "gbm_perf = gbm.model_performance(air_test)"
   ]
  },
  {
   "cell_type": "code",
   "execution_count": 12,
   "metadata": {
    "collapsed": false
   },
   "outputs": [
    {
     "name": "stdout",
     "output_type": "stream",
     "text": [
      "\n",
      "Confusion Matrix (Act/Pred) for max f0point5 @ threshold = 0.552672913274:\n"
     ]
    },
    {
     "data": {
      "text/html": [
       "<div style=\"overflow:auto\"><table style=\"width:50%\"><tr><td></td>\n",
       "<td>NO</td>\n",
       "<td>YES</td>\n",
       "<td>Error</td>\n",
       "<td>Rate</td></tr>\n",
       "<tr><td>NO</td>\n",
       "<td>759.0</td>\n",
       "<td>458.0</td>\n",
       "<td>0.3763</td>\n",
       "<td> (458.0/1217.0)</td></tr>\n",
       "<tr><td>YES</td>\n",
       "<td>478.0</td>\n",
       "<td>996.0</td>\n",
       "<td>0.3243</td>\n",
       "<td> (478.0/1474.0)</td></tr>\n",
       "<tr><td>Total</td>\n",
       "<td>1237.0</td>\n",
       "<td>1454.0</td>\n",
       "<td>0.3478</td>\n",
       "<td> (936.0/2691.0)</td></tr></table></div>"
      ],
      "text/plain": [
       "       NO    YES    Error    Rate\n",
       "-----  ----  -----  -------  --------------\n",
       "NO     759   458    0.3763   (458.0/1217.0)\n",
       "YES    478   996    0.3243   (478.0/1474.0)\n",
       "Total  1237  1454   0.3478   (936.0/2691.0)"
      ]
     },
     "metadata": {},
     "output_type": "display_data"
    },
    {
     "name": "stdout",
     "output_type": "stream",
     "text": [
      "\n",
      "\n",
      "Confusion Matrix (Act/Pred) for max min_per_class_accuracy @ threshold = 0.55367524629:\n"
     ]
    },
    {
     "data": {
      "text/html": [
       "<div style=\"overflow:auto\"><table style=\"width:50%\"><tr><td></td>\n",
       "<td>NO</td>\n",
       "<td>YES</td>\n",
       "<td>Error</td>\n",
       "<td>Rate</td></tr>\n",
       "<tr><td>NO</td>\n",
       "<td>786.0</td>\n",
       "<td>431.0</td>\n",
       "<td>0.3541</td>\n",
       "<td> (431.0/1217.0)</td></tr>\n",
       "<tr><td>YES</td>\n",
       "<td>524.0</td>\n",
       "<td>950.0</td>\n",
       "<td>0.3555</td>\n",
       "<td> (524.0/1474.0)</td></tr>\n",
       "<tr><td>Total</td>\n",
       "<td>1310.0</td>\n",
       "<td>1381.0</td>\n",
       "<td>0.3549</td>\n",
       "<td> (955.0/2691.0)</td></tr></table></div>"
      ],
      "text/plain": [
       "       NO    YES    Error    Rate\n",
       "-----  ----  -----  -------  --------------\n",
       "NO     786   431    0.3541   (431.0/1217.0)\n",
       "YES    524   950    0.3555   (524.0/1474.0)\n",
       "Total  1310  1381   0.3549   (955.0/2691.0)"
      ]
     },
     "metadata": {},
     "output_type": "display_data"
    },
    {
     "name": "stdout",
     "output_type": "stream",
     "text": [
      "\n",
      "\n",
      "Confusion Matrix (Act/Pred) for max accuracy @ threshold = 0.54604440874:\n"
     ]
    },
    {
     "data": {
      "text/html": [
       "<div style=\"overflow:auto\"><table style=\"width:50%\"><tr><td></td>\n",
       "<td>NO</td>\n",
       "<td>YES</td>\n",
       "<td>Error</td>\n",
       "<td>Rate</td></tr>\n",
       "<tr><td>NO</td>\n",
       "<td>738.0</td>\n",
       "<td>479.0</td>\n",
       "<td>0.3936</td>\n",
       "<td> (479.0/1217.0)</td></tr>\n",
       "<tr><td>YES</td>\n",
       "<td>454.0</td>\n",
       "<td>1020.0</td>\n",
       "<td>0.308</td>\n",
       "<td> (454.0/1474.0)</td></tr>\n",
       "<tr><td>Total</td>\n",
       "<td>1192.0</td>\n",
       "<td>1499.0</td>\n",
       "<td>0.3467</td>\n",
       "<td> (933.0/2691.0)</td></tr></table></div>"
      ],
      "text/plain": [
       "       NO    YES    Error    Rate\n",
       "-----  ----  -----  -------  --------------\n",
       "NO     738   479    0.3936   (479.0/1217.0)\n",
       "YES    454   1020   0.308    (454.0/1474.0)\n",
       "Total  1192  1499   0.3467   (933.0/2691.0)"
      ]
     },
     "metadata": {},
     "output_type": "display_data"
    },
    {
     "name": "stdout",
     "output_type": "stream",
     "text": [
      "\n",
      "\n",
      "Confusion Matrix (Act/Pred) for max f0point5 @ threshold = 0.552672913274:\n"
     ]
    },
    {
     "data": {
      "text/html": [
       "<div style=\"overflow:auto\"><table style=\"width:50%\"><tr><td></td>\n",
       "<td>NO</td>\n",
       "<td>YES</td>\n",
       "<td>Error</td>\n",
       "<td>Rate</td></tr>\n",
       "<tr><td>NO</td>\n",
       "<td>759.0</td>\n",
       "<td>458.0</td>\n",
       "<td>0.3763</td>\n",
       "<td> (458.0/1217.0)</td></tr>\n",
       "<tr><td>YES</td>\n",
       "<td>478.0</td>\n",
       "<td>996.0</td>\n",
       "<td>0.3243</td>\n",
       "<td> (478.0/1474.0)</td></tr>\n",
       "<tr><td>Total</td>\n",
       "<td>1237.0</td>\n",
       "<td>1454.0</td>\n",
       "<td>0.3478</td>\n",
       "<td> (936.0/2691.0)</td></tr></table></div>"
      ],
      "text/plain": [
       "       NO    YES    Error    Rate\n",
       "-----  ----  -----  -------  --------------\n",
       "NO     759   458    0.3763   (458.0/1217.0)\n",
       "YES    478   996    0.3243   (478.0/1474.0)\n",
       "Total  1237  1454   0.3478   (936.0/2691.0)"
      ]
     },
     "metadata": {},
     "output_type": "display_data"
    },
    {
     "name": "stdout",
     "output_type": "stream",
     "text": [
      "\n"
     ]
    }
   ],
   "source": [
    "# Show various confusion matrices for test dataset (based on metric(s))\n",
    "print(gbm_perf.confusion_matrix(metrics=\"f0point5\"))\n",
    "\n",
    "print(gbm_perf.confusion_matrix(metrics=\"min_per_class_accuracy\"))\n",
    "\n",
    "cms = gbm_perf.confusion_matrix(metrics=[\"accuracy\", \"f0point5\"])\n",
    "print(cms[0])\n",
    "print(cms[1])"
   ]
  },
  {
   "cell_type": "code",
   "execution_count": 13,
   "metadata": {
    "collapsed": false
   },
   "outputs": [
    {
     "name": "stdout",
     "output_type": "stream",
     "text": [
      "Could not find exact threshold 0.5; using closest threshold found 0.500410605232.\n",
      "\n",
      "Confusion Matrix (Act/Pred) @ threshold = 0.500410605232:\n"
     ]
    },
    {
     "data": {
      "text/html": [
       "<div style=\"overflow:auto\"><table style=\"width:50%\"><tr><td></td>\n",
       "<td>NO</td>\n",
       "<td>YES</td>\n",
       "<td>Error</td>\n",
       "<td>Rate</td></tr>\n",
       "<tr><td>NO</td>\n",
       "<td>577.0</td>\n",
       "<td>640.0</td>\n",
       "<td>0.5259</td>\n",
       "<td> (640.0/1217.0)</td></tr>\n",
       "<tr><td>YES</td>\n",
       "<td>312.0</td>\n",
       "<td>1162.0</td>\n",
       "<td>0.2117</td>\n",
       "<td> (312.0/1474.0)</td></tr>\n",
       "<tr><td>Total</td>\n",
       "<td>889.0</td>\n",
       "<td>1802.0</td>\n",
       "<td>0.3538</td>\n",
       "<td> (952.0/2691.0)</td></tr></table></div>"
      ],
      "text/plain": [
       "       NO    YES    Error    Rate\n",
       "-----  ----  -----  -------  --------------\n",
       "NO     577   640    0.5259   (640.0/1217.0)\n",
       "YES    312   1162   0.2117   (312.0/1474.0)\n",
       "Total  889   1802   0.3538   (952.0/2691.0)"
      ]
     },
     "metadata": {},
     "output_type": "display_data"
    },
    {
     "name": "stdout",
     "output_type": "stream",
     "text": [
      "\n",
      "Could not find exact threshold 0.01; using closest threshold found 0.376146323381.\n",
      "Could not find exact threshold 0.75; using closest threshold found 0.684273290486.\n",
      "Could not find exact threshold 0.88; using closest threshold found 0.684273290486.\n",
      "\n",
      "Confusion Matrix (Act/Pred) @ threshold = 0.376146323381:\n"
     ]
    },
    {
     "data": {
      "text/html": [
       "<div style=\"overflow:auto\"><table style=\"width:50%\"><tr><td></td>\n",
       "<td>NO</td>\n",
       "<td>YES</td>\n",
       "<td>Error</td>\n",
       "<td>Rate</td></tr>\n",
       "<tr><td>NO</td>\n",
       "<td>0.0</td>\n",
       "<td>1217.0</td>\n",
       "<td>1.0</td>\n",
       "<td> (1217.0/1217.0)</td></tr>\n",
       "<tr><td>YES</td>\n",
       "<td>0.0</td>\n",
       "<td>1474.0</td>\n",
       "<td>0.0</td>\n",
       "<td> (0.0/1474.0)</td></tr>\n",
       "<tr><td>Total</td>\n",
       "<td>0.0</td>\n",
       "<td>2691.0</td>\n",
       "<td>0.4522</td>\n",
       "<td> (1217.0/2691.0)</td></tr></table></div>"
      ],
      "text/plain": [
       "       NO    YES    Error    Rate\n",
       "-----  ----  -----  -------  ---------------\n",
       "NO     0     1217   1        (1217.0/1217.0)\n",
       "YES    0     1474   0        (0.0/1474.0)\n",
       "Total  0     2691   0.4522   (1217.0/2691.0)"
      ]
     },
     "metadata": {},
     "output_type": "display_data"
    },
    {
     "name": "stdout",
     "output_type": "stream",
     "text": [
      "\n",
      "\n",
      "Confusion Matrix (Act/Pred) @ threshold = 0.684273290486:\n"
     ]
    },
    {
     "data": {
      "text/html": [
       "<div style=\"overflow:auto\"><table style=\"width:50%\"><tr><td></td>\n",
       "<td>NO</td>\n",
       "<td>YES</td>\n",
       "<td>Error</td>\n",
       "<td>Rate</td></tr>\n",
       "<tr><td>NO</td>\n",
       "<td>1215.0</td>\n",
       "<td>2.0</td>\n",
       "<td>0.0016</td>\n",
       "<td> (2.0/1217.0)</td></tr>\n",
       "<tr><td>YES</td>\n",
       "<td>1461.0</td>\n",
       "<td>13.0</td>\n",
       "<td>0.9912</td>\n",
       "<td> (1461.0/1474.0)</td></tr>\n",
       "<tr><td>Total</td>\n",
       "<td>2676.0</td>\n",
       "<td>15.0</td>\n",
       "<td>0.5437</td>\n",
       "<td> (1463.0/2691.0)</td></tr></table></div>"
      ],
      "text/plain": [
       "       NO    YES    Error    Rate\n",
       "-----  ----  -----  -------  ---------------\n",
       "NO     1215  2      0.0016   (2.0/1217.0)\n",
       "YES    1461  13     0.9912   (1461.0/1474.0)\n",
       "Total  2676  15     0.5437   (1463.0/2691.0)"
      ]
     },
     "metadata": {},
     "output_type": "display_data"
    },
    {
     "name": "stdout",
     "output_type": "stream",
     "text": [
      "\n",
      "\n",
      "Confusion Matrix (Act/Pred) @ threshold = 0.684273290486:\n"
     ]
    },
    {
     "data": {
      "text/html": [
       "<div style=\"overflow:auto\"><table style=\"width:50%\"><tr><td></td>\n",
       "<td>NO</td>\n",
       "<td>YES</td>\n",
       "<td>Error</td>\n",
       "<td>Rate</td></tr>\n",
       "<tr><td>NO</td>\n",
       "<td>1215.0</td>\n",
       "<td>2.0</td>\n",
       "<td>0.0016</td>\n",
       "<td> (2.0/1217.0)</td></tr>\n",
       "<tr><td>YES</td>\n",
       "<td>1461.0</td>\n",
       "<td>13.0</td>\n",
       "<td>0.9912</td>\n",
       "<td> (1461.0/1474.0)</td></tr>\n",
       "<tr><td>Total</td>\n",
       "<td>2676.0</td>\n",
       "<td>15.0</td>\n",
       "<td>0.5437</td>\n",
       "<td> (1463.0/2691.0)</td></tr></table></div>"
      ],
      "text/plain": [
       "       NO    YES    Error    Rate\n",
       "-----  ----  -----  -------  ---------------\n",
       "NO     1215  2      0.0016   (2.0/1217.0)\n",
       "YES    1461  13     0.9912   (1461.0/1474.0)\n",
       "Total  2676  15     0.5437   (1463.0/2691.0)"
      ]
     },
     "metadata": {},
     "output_type": "display_data"
    },
    {
     "name": "stdout",
     "output_type": "stream",
     "text": [
      "\n"
     ]
    }
   ],
   "source": [
    "# Show various confusion matrices for test dataset (based on threshold(s))\n",
    "print(gbm_perf.confusion_matrix(thresholds=0.5))\n",
    "\n",
    "cms = gbm_perf.confusion_matrix(thresholds=[0.01, 0.75, .88])\n",
    "print(cms[0])\n",
    "print(cms[1])\n",
    "print(cms[2])"
   ]
  },
  {
   "cell_type": "code",
   "execution_count": 14,
   "metadata": {
    "collapsed": false
   },
   "outputs": [
    {
     "name": "stdout",
     "output_type": "stream",
     "text": [
      "[[3220, 5687], [1357, 9404]]\n",
      "[[394, 823], [175, 1299]]\n"
     ]
    }
   ],
   "source": [
    "# Convert a ConfusionMatrix to a python list of lists: [ [tns,fps], [fns,tps] ]\n",
    "cm = gbm.confusion_matrix()\n",
    "print(cm.to_list())\n",
    "\n",
    "cm = gbm_perf.confusion_matrix()\n",
    "print(cm.to_list())"
   ]
  }
 ],
 "metadata": {
  "kernelspec": {
   "display_name": "Python 2",
   "language": "python",
   "name": "python2"
  },
  "language_info": {
   "codemirror_mode": {
    "name": "ipython",
    "version": 2
   },
   "file_extension": ".py",
   "mimetype": "text/x-python",
   "name": "python",
   "nbconvert_exporter": "python",
   "pygments_lexer": "ipython2",
   "version": "2.7.9"
  }
 },
 "nbformat": 4,
 "nbformat_minor": 0
}
