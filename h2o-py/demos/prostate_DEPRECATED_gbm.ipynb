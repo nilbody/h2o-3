{
 "metadata": {
  "kernelspec": {
   "display_name": "Python 2",
   "language": "python",
   "name": "python2"
  },
  "language_info": {
   "codemirror_mode": {
    "name": "ipython",
    "version": 2
   },
   "file_extension": ".py",
   "mimetype": "text/x-python",
   "name": "python",
   "nbconvert_exporter": "python",
   "pygments_lexer": "ipython2",
   "version": "2.7.6"
  },
  "name": "",
  "signature": "sha256:10f5f93c5248dd021ae5ff663e4b520d6efb38045c4a47bf3c2ab7123a9c12df"
 },
 "nbformat": 3,
 "nbformat_minor": 0,
 "worksheets": [
  {
   "cells": [
    {
     "cell_type": "code",
     "collapsed": false,
     "input": [
      "import h2o"
     ],
     "language": "python",
     "metadata": {},
     "outputs": [],
     "prompt_number": 1
    },
    {
     "cell_type": "code",
     "collapsed": false,
     "input": [
      "# Connect to a pre-existing cluster\n",
      "h2o.init()"
     ],
     "language": "python",
     "metadata": {},
     "outputs": [
      {
       "html": [
        "<div style=\"overflow:auto\"><table style=\"width:50%\"><tr><td>H2O cluster uptime: </td>\n",
        "<td>15 minutes 45 seconds 666 milliseconds </td></tr>\n",
        "<tr><td>H2O cluster version: </td>\n",
        "<td>3.5.0.99999</td></tr>\n",
        "<tr><td>H2O cluster name: </td>\n",
        "<td>ece</td></tr>\n",
        "<tr><td>H2O cluster total nodes: </td>\n",
        "<td>1</td></tr>\n",
        "<tr><td>H2O cluster total memory: </td>\n",
        "<td>10.67 GB</td></tr>\n",
        "<tr><td>H2O cluster total cores: </td>\n",
        "<td>8</td></tr>\n",
        "<tr><td>H2O cluster allowed cores: </td>\n",
        "<td>8</td></tr>\n",
        "<tr><td>H2O cluster healthy: </td>\n",
        "<td>True</td></tr>\n",
        "<tr><td>H2O Connection ip: </td>\n",
        "<td>127.0.0.1</td></tr>\n",
        "<tr><td>H2O Connection port: </td>\n",
        "<td>54321</td></tr></table></div>"
       ],
       "metadata": {},
       "output_type": "display_data",
       "text": [
        "--------------------------  --------------------------------------\n",
        "H2O cluster uptime:         15 minutes 45 seconds 666 milliseconds\n",
        "H2O cluster version:        3.5.0.99999\n",
        "H2O cluster name:           ece\n",
        "H2O cluster total nodes:    1\n",
        "H2O cluster total memory:   10.67 GB\n",
        "H2O cluster total cores:    8\n",
        "H2O cluster allowed cores:  8\n",
        "H2O cluster healthy:        True\n",
        "H2O Connection ip:          127.0.0.1\n",
        "H2O Connection port:        54321\n",
        "--------------------------  --------------------------------------"
       ]
      }
     ],
     "prompt_number": 2
    },
    {
     "cell_type": "code",
     "collapsed": false,
     "input": [
      "from h2o.utils.shared_utils import _locate # private function. used to find files within h2o git project directory.\n",
      "\n",
      "df = h2o.import_file(path=_locate(\"smalldata/logreg/prostate.csv\"))"
     ],
     "language": "python",
     "metadata": {},
     "outputs": [
      {
       "output_type": "stream",
       "stream": "stdout",
       "text": [
        "\n",
        "\r",
        "Parse Progress: [                                                  ] 00%"
       ]
      },
      {
       "output_type": "stream",
       "stream": "stdout",
       "text": [
        "\r",
        "Parse Progress: [##################################################] 100%"
       ]
      },
      {
       "output_type": "stream",
       "stream": "stdout",
       "text": [
        "\n",
        "Imported /Users/ece/0xdata/h2o-dev/smalldata/logreg/prostate.csv. Parsed 380 rows and 9 cols\n"
       ]
      }
     ],
     "prompt_number": 3
    },
    {
     "cell_type": "code",
     "collapsed": false,
     "input": [
      "df.describe()"
     ],
     "language": "python",
     "metadata": {},
     "outputs": [
      {
       "output_type": "stream",
       "stream": "stdout",
       "text": [
        "Rows: 380 Cols: 9\n",
        "\n",
        "Chunk compression summary:\n"
       ]
      },
      {
       "html": [
        "<div style=\"overflow:auto\"><table style=\"width:50%\"><tr><td>chunk_type</td>\n",
        "<td>chunk_name</td>\n",
        "<td>count</td>\n",
        "<td>count_percentage</td>\n",
        "<td>size</td>\n",
        "<td>size_percentage</td></tr>\n",
        "<tr><td>CBS</td>\n",
        "<td>Bits</td>\n",
        "<td>1</td>\n",
        "<td>11.111112</td>\n",
        "<td>    118  B</td>\n",
        "<td>2.4210093</td></tr>\n",
        "<tr><td>C1N</td>\n",
        "<td>1-Byte Integers (w/o NAs)</td>\n",
        "<td>5</td>\n",
        "<td>55.555557</td>\n",
        "<td>    2.2 KB</td>\n",
        "<td>45.958145</td></tr>\n",
        "<tr><td>C2</td>\n",
        "<td>2-Byte Integers</td>\n",
        "<td>1</td>\n",
        "<td>11.111112</td>\n",
        "<td>    828  B</td>\n",
        "<td>16.9881</td></tr>\n",
        "<tr><td>C2S</td>\n",
        "<td>2-Byte Fractions</td>\n",
        "<td>2</td>\n",
        "<td>22.222223</td>\n",
        "<td>    1.6 KB</td>\n",
        "<td>34.632744</td></tr></table></div>"
       ],
       "metadata": {},
       "output_type": "display_data",
       "text": [
        "chunk_type    chunk_name                 count    count_percentage    size    size_percentage\n",
        "------------  -------------------------  -------  ------------------  ------  -----------------\n",
        "CBS           Bits                       1        11.1111             118  B  2.42101\n",
        "C1N           1-Byte Integers (w/o NAs)  5        55.5556             2.2 KB  45.9581\n",
        "C2            2-Byte Integers            1        11.1111             828  B  16.9881\n",
        "C2S           2-Byte Fractions           2        22.2222             1.6 KB  34.6327"
       ]
      },
      {
       "output_type": "stream",
       "stream": "stdout",
       "text": [
        "\n",
        "Frame distribution summary:\n"
       ]
      },
      {
       "html": [
        "<div style=\"overflow:auto\"><table style=\"width:50%\"><tr><td></td>\n",
        "<td>size</td>\n",
        "<td>number_of_rows</td>\n",
        "<td>number_of_chunks_per_column</td>\n",
        "<td>number_of_chunks</td></tr>\n",
        "<tr><td>10.0.0.24:54321</td>\n",
        "<td>    4.8 KB</td>\n",
        "<td>380.0</td>\n",
        "<td>1.0</td>\n",
        "<td>9.0</td></tr>\n",
        "<tr><td>mean</td>\n",
        "<td>    4.8 KB</td>\n",
        "<td>380.0</td>\n",
        "<td>1.0</td>\n",
        "<td>9.0</td></tr>\n",
        "<tr><td>min</td>\n",
        "<td>    4.8 KB</td>\n",
        "<td>380.0</td>\n",
        "<td>1.0</td>\n",
        "<td>9.0</td></tr>\n",
        "<tr><td>max</td>\n",
        "<td>    4.8 KB</td>\n",
        "<td>380.0</td>\n",
        "<td>1.0</td>\n",
        "<td>9.0</td></tr>\n",
        "<tr><td>stddev</td>\n",
        "<td>      0  B</td>\n",
        "<td>0.0</td>\n",
        "<td>0.0</td>\n",
        "<td>0.0</td></tr>\n",
        "<tr><td>total</td>\n",
        "<td>    4.8 KB</td>\n",
        "<td>380.0</td>\n",
        "<td>1.0</td>\n",
        "<td>9.0</td></tr></table></div>"
       ],
       "metadata": {},
       "output_type": "display_data",
       "text": [
        "                 size    number_of_rows    number_of_chunks_per_column    number_of_chunks\n",
        "---------------  ------  ----------------  -----------------------------  ------------------\n",
        "10.0.0.24:54321  4.8 KB  380               1                              9\n",
        "mean             4.8 KB  380               1                              9\n",
        "min              4.8 KB  380               1                              9\n",
        "max              4.8 KB  380               1                              9\n",
        "stddev           0  B    0                 0                              0\n",
        "total            4.8 KB  380               1                              9"
       ]
      },
      {
       "output_type": "stream",
       "stream": "stdout",
       "text": [
        "\n",
        "Column-by-Column Summary:\n",
        "\n"
       ]
      },
      {
       "html": [
        "<div style=\"overflow:auto\"><table style=\"width:50%\"><tr><td></td>\n",
        "<td>ID</td>\n",
        "<td>CAPSULE</td>\n",
        "<td>AGE</td>\n",
        "<td>RACE</td>\n",
        "<td>DPROS</td>\n",
        "<td>DCAPS</td>\n",
        "<td>PSA</td>\n",
        "<td>VOL</td>\n",
        "<td>GLEASON</td></tr>\n",
        "<tr><td>type</td>\n",
        "<td>int</td>\n",
        "<td>int</td>\n",
        "<td>int</td>\n",
        "<td>int</td>\n",
        "<td>int</td>\n",
        "<td>int</td>\n",
        "<td>real</td>\n",
        "<td>real</td>\n",
        "<td>int</td></tr>\n",
        "<tr><td>mins</td>\n",
        "<td>1.0</td>\n",
        "<td>0.0</td>\n",
        "<td>43.0</td>\n",
        "<td>0.0</td>\n",
        "<td>1.0</td>\n",
        "<td>1.0</td>\n",
        "<td>0.3</td>\n",
        "<td>0.0</td>\n",
        "<td>0.0</td></tr>\n",
        "<tr><td>maxs</td>\n",
        "<td>380.0</td>\n",
        "<td>1.0</td>\n",
        "<td>79.0</td>\n",
        "<td>2.0</td>\n",
        "<td>4.0</td>\n",
        "<td>2.0</td>\n",
        "<td>139.7</td>\n",
        "<td>97.6</td>\n",
        "<td>9.0</td></tr>\n",
        "<tr><td>mean</td>\n",
        "<td>190.5</td>\n",
        "<td>0.402631578947</td>\n",
        "<td>66.0394736842</td>\n",
        "<td>1.08684210526</td>\n",
        "<td>2.27105263158</td>\n",
        "<td>1.10789473684</td>\n",
        "<td>15.4086315789</td>\n",
        "<td>15.8129210526</td>\n",
        "<td>6.38421052632</td></tr>\n",
        "<tr><td>sigma</td>\n",
        "<td>109.840793879</td>\n",
        "<td>0.491074338963</td>\n",
        "<td>6.52707126917</td>\n",
        "<td>0.308773258025</td>\n",
        "<td>1.00010761815</td>\n",
        "<td>0.310656449351</td>\n",
        "<td>19.9975726686</td>\n",
        "<td>18.3476199673</td>\n",
        "<td>1.09195337443</td></tr>\n",
        "<tr><td>zero_count</td>\n",
        "<td>0</td>\n",
        "<td>227</td>\n",
        "<td>0</td>\n",
        "<td>3</td>\n",
        "<td>0</td>\n",
        "<td>0</td>\n",
        "<td>0</td>\n",
        "<td>167</td>\n",
        "<td>2</td></tr>\n",
        "<tr><td>missing_count</td>\n",
        "<td>0</td>\n",
        "<td>0</td>\n",
        "<td>0</td>\n",
        "<td>0</td>\n",
        "<td>0</td>\n",
        "<td>0</td>\n",
        "<td>0</td>\n",
        "<td>0</td>\n",
        "<td>0</td></tr></table></div>"
       ],
       "metadata": {},
       "output_type": "display_data",
       "text": [
        "               ID             CAPSULE         AGE            RACE            DPROS          DCAPS           PSA            VOL            GLEASON\n",
        "-------------  -------------  --------------  -------------  --------------  -------------  --------------  -------------  -------------  -------------\n",
        "type           int            int             int            int             int            int             real           real           int\n",
        "mins           1.0            0.0             43.0           0.0             1.0            1.0             0.3            0.0            0.0\n",
        "maxs           380.0          1.0             79.0           2.0             4.0            2.0             139.7          97.6           9.0\n",
        "mean           190.5          0.402631578947  66.0394736842  1.08684210526   2.27105263158  1.10789473684   15.4086315789  15.8129210526  6.38421052632\n",
        "sigma          109.840793879  0.491074338963  6.52707126917  0.308773258025  1.00010761815  0.310656449351  19.9975726686  18.3476199673  1.09195337443\n",
        "zero_count     0              227             0              3               0              0               0              167            2\n",
        "missing_count  0              0               0              0               0              0               0              0              0"
       ]
      }
     ],
     "prompt_number": 4
    },
    {
     "cell_type": "code",
     "collapsed": false,
     "input": [
      "# Remove ID from training frame\n",
      "train = df.drop(\"ID\")"
     ],
     "language": "python",
     "metadata": {},
     "outputs": [],
     "prompt_number": 5
    },
    {
     "cell_type": "code",
     "collapsed": false,
     "input": [
      "# For VOL & GLEASON, a zero really means \"missing\"\n",
      "vol = train['VOL']\n",
      "vol[vol == 0] = None\n",
      "gle = train['GLEASON']\n",
      "gle[gle == 0] = None"
     ],
     "language": "python",
     "metadata": {},
     "outputs": [],
     "prompt_number": 6
    },
    {
     "cell_type": "code",
     "collapsed": false,
     "input": [
      "# Convert CAPSULE to a logical factor\n",
      "train['CAPSULE'] = train['CAPSULE'].asfactor()"
     ],
     "language": "python",
     "metadata": {},
     "outputs": [],
     "prompt_number": 7
    },
    {
     "cell_type": "code",
     "collapsed": false,
     "input": [
      "# See that the data is ready\n",
      "train.describe()"
     ],
     "language": "python",
     "metadata": {},
     "outputs": [
      {
       "output_type": "stream",
       "stream": "stdout",
       "text": [
        "Rows: 380 Cols: 8\n",
        "\n",
        "Chunk compression summary:\n"
       ]
      },
      {
       "html": [
        "<div style=\"overflow:auto\"><table style=\"width:50%\"><tr><td>chunk_type</td>\n",
        "<td>chunk_name</td>\n",
        "<td>count</td>\n",
        "<td>count_percentage</td>\n",
        "<td>size</td>\n",
        "<td>size_percentage</td></tr>\n",
        "<tr><td>CBS</td>\n",
        "<td>Bits</td>\n",
        "<td>1</td>\n",
        "<td>12.5</td>\n",
        "<td>    118  B</td>\n",
        "<td>2.9164608</td></tr>\n",
        "<tr><td>C1N</td>\n",
        "<td>1-Byte Integers (w/o NAs)</td>\n",
        "<td>5</td>\n",
        "<td>62.5</td>\n",
        "<td>    2.2 KB</td>\n",
        "<td>55.363323</td></tr>\n",
        "<tr><td>C2S</td>\n",
        "<td>2-Byte Fractions</td>\n",
        "<td>2</td>\n",
        "<td>25.0</td>\n",
        "<td>    1.6 KB</td>\n",
        "<td>41.72022</td></tr></table></div>"
       ],
       "metadata": {},
       "output_type": "display_data",
       "text": [
        "chunk_type    chunk_name                 count    count_percentage    size    size_percentage\n",
        "------------  -------------------------  -------  ------------------  ------  -----------------\n",
        "CBS           Bits                       1        12.5                118  B  2.91646\n",
        "C1N           1-Byte Integers (w/o NAs)  5        62.5                2.2 KB  55.3633\n",
        "C2S           2-Byte Fractions           2        25                  1.6 KB  41.7202"
       ]
      },
      {
       "output_type": "stream",
       "stream": "stdout",
       "text": [
        "\n",
        "Frame distribution summary:\n"
       ]
      },
      {
       "html": [
        "<div style=\"overflow:auto\"><table style=\"width:50%\"><tr><td></td>\n",
        "<td>size</td>\n",
        "<td>number_of_rows</td>\n",
        "<td>number_of_chunks_per_column</td>\n",
        "<td>number_of_chunks</td></tr>\n",
        "<tr><td>10.0.0.24:54321</td>\n",
        "<td>    4.0 KB</td>\n",
        "<td>380.0</td>\n",
        "<td>1.0</td>\n",
        "<td>8.0</td></tr>\n",
        "<tr><td>mean</td>\n",
        "<td>    4.0 KB</td>\n",
        "<td>380.0</td>\n",
        "<td>1.0</td>\n",
        "<td>8.0</td></tr>\n",
        "<tr><td>min</td>\n",
        "<td>    4.0 KB</td>\n",
        "<td>380.0</td>\n",
        "<td>1.0</td>\n",
        "<td>8.0</td></tr>\n",
        "<tr><td>max</td>\n",
        "<td>    4.0 KB</td>\n",
        "<td>380.0</td>\n",
        "<td>1.0</td>\n",
        "<td>8.0</td></tr>\n",
        "<tr><td>stddev</td>\n",
        "<td>      0  B</td>\n",
        "<td>0.0</td>\n",
        "<td>0.0</td>\n",
        "<td>0.0</td></tr>\n",
        "<tr><td>total</td>\n",
        "<td>    4.0 KB</td>\n",
        "<td>380.0</td>\n",
        "<td>1.0</td>\n",
        "<td>8.0</td></tr></table></div>"
       ],
       "metadata": {},
       "output_type": "display_data",
       "text": [
        "                 size    number_of_rows    number_of_chunks_per_column    number_of_chunks\n",
        "---------------  ------  ----------------  -----------------------------  ------------------\n",
        "10.0.0.24:54321  4.0 KB  380               1                              8\n",
        "mean             4.0 KB  380               1                              8\n",
        "min              4.0 KB  380               1                              8\n",
        "max              4.0 KB  380               1                              8\n",
        "stddev           0  B    0                 0                              0\n",
        "total            4.0 KB  380               1                              8"
       ]
      },
      {
       "output_type": "stream",
       "stream": "stdout",
       "text": [
        "\n",
        "Column-by-Column Summary:\n",
        "\n"
       ]
      },
      {
       "html": [
        "<div style=\"overflow:auto\"><table style=\"width:50%\"><tr><td></td>\n",
        "<td>CAPSULE</td>\n",
        "<td>AGE</td>\n",
        "<td>RACE</td>\n",
        "<td>DPROS</td>\n",
        "<td>DCAPS</td>\n",
        "<td>PSA</td>\n",
        "<td>VOL</td>\n",
        "<td>GLEASON</td></tr>\n",
        "<tr><td>type</td>\n",
        "<td>enum</td>\n",
        "<td>int</td>\n",
        "<td>int</td>\n",
        "<td>int</td>\n",
        "<td>int</td>\n",
        "<td>real</td>\n",
        "<td>real</td>\n",
        "<td>int</td></tr>\n",
        "<tr><td>mins</td>\n",
        "<td>0.0</td>\n",
        "<td>43.0</td>\n",
        "<td>0.0</td>\n",
        "<td>1.0</td>\n",
        "<td>1.0</td>\n",
        "<td>0.3</td>\n",
        "<td>0.0</td>\n",
        "<td>0.0</td></tr>\n",
        "<tr><td>maxs</td>\n",
        "<td>1.0</td>\n",
        "<td>79.0</td>\n",
        "<td>2.0</td>\n",
        "<td>4.0</td>\n",
        "<td>2.0</td>\n",
        "<td>139.7</td>\n",
        "<td>97.6</td>\n",
        "<td>9.0</td></tr>\n",
        "<tr><td>mean</td>\n",
        "<td>0.402631578947</td>\n",
        "<td>66.0394736842</td>\n",
        "<td>1.08684210526</td>\n",
        "<td>2.27105263158</td>\n",
        "<td>1.10789473684</td>\n",
        "<td>15.4086315789</td>\n",
        "<td>15.8129210526</td>\n",
        "<td>6.38421052632</td></tr>\n",
        "<tr><td>sigma</td>\n",
        "<td>0.491074338963</td>\n",
        "<td>6.52707126917</td>\n",
        "<td>0.308773258025</td>\n",
        "<td>1.00010761815</td>\n",
        "<td>0.310656449351</td>\n",
        "<td>19.9975726686</td>\n",
        "<td>18.3476199673</td>\n",
        "<td>1.09195337443</td></tr>\n",
        "<tr><td>zero_count</td>\n",
        "<td>227</td>\n",
        "<td>0</td>\n",
        "<td>3</td>\n",
        "<td>0</td>\n",
        "<td>0</td>\n",
        "<td>0</td>\n",
        "<td>167</td>\n",
        "<td>2</td></tr>\n",
        "<tr><td>missing_count</td>\n",
        "<td>0</td>\n",
        "<td>0</td>\n",
        "<td>0</td>\n",
        "<td>0</td>\n",
        "<td>0</td>\n",
        "<td>0</td>\n",
        "<td>0</td>\n",
        "<td>0</td></tr></table></div>"
       ],
       "metadata": {},
       "output_type": "display_data",
       "text": [
        "               CAPSULE         AGE            RACE            DPROS          DCAPS           PSA            VOL            GLEASON\n",
        "-------------  --------------  -------------  --------------  -------------  --------------  -------------  -------------  -------------\n",
        "type           enum            int            int             int            int             real           real           int\n",
        "mins           0.0             43.0           0.0             1.0            1.0             0.3            0.0            0.0\n",
        "maxs           1.0             79.0           2.0             4.0            2.0             139.7          97.6           9.0\n",
        "mean           0.402631578947  66.0394736842  1.08684210526   2.27105263158  1.10789473684   15.4086315789  15.8129210526  6.38421052632\n",
        "sigma          0.491074338963  6.52707126917  0.308773258025  1.00010761815  0.310656449351  19.9975726686  18.3476199673  1.09195337443\n",
        "zero_count     227             0              3               0              0               0              167            2\n",
        "missing_count  0               0              0               0              0               0              0              0"
       ]
      }
     ],
     "prompt_number": 8
    },
    {
     "cell_type": "code",
     "collapsed": false,
     "input": [
      "# Run GBM\n",
      "my_gbm = h2o.gbm(           y=train[\"CAPSULE\"],\n",
      "                 validation_y=train[\"CAPSULE\"],\n",
      "                            x=train[1:],\n",
      "                 validation_x=train[1:],\n",
      "                 distribution = \"bernoulli\",\n",
      "                 ntrees=50,\n",
      "                 learn_rate=0.1)"
     ],
     "language": "python",
     "metadata": {},
     "outputs": [
      {
       "output_type": "stream",
       "stream": "stdout",
       "text": [
        "\n",
        "\r",
        "gbm Model Build Progress: [                                                  ] 00%"
       ]
      },
      {
       "output_type": "stream",
       "stream": "stdout",
       "text": [
        "\r",
        "gbm Model Build Progress: [##############################                    ] 60%"
       ]
      },
      {
       "output_type": "stream",
       "stream": "stdout",
       "text": [
        "\r",
        "gbm Model Build Progress: [##################################################] 100%"
       ]
      },
      {
       "output_type": "stream",
       "stream": "stdout",
       "text": [
        "\n"
       ]
      }
     ],
     "prompt_number": 9
    },
    {
     "cell_type": "code",
     "collapsed": false,
     "input": [
      "my_gbm_metrics = my_gbm.model_performance(train)\n",
      "my_gbm_metrics.show()"
     ],
     "language": "python",
     "metadata": {},
     "outputs": [
      {
       "output_type": "stream",
       "stream": "stdout",
       "text": [
        "\n",
        "ModelMetricsBinomial: gbm\n",
        "** Reported on test data. **\n",
        "\n",
        "MSE: 0.0758414746751\n",
        "R^2: 0.684676256282\n",
        "LogLoss: 0.274466812848\n",
        "AUC: 0.978031153724\n",
        "Gini: 0.956062307449\n",
        "\n",
        "Confusion Matrix (Act/Pred) for max f1 @ threshold = 0.454949666805:\n"
       ]
      },
      {
       "html": [
        "<div style=\"overflow:auto\"><table style=\"width:50%\"><tr><td></td>\n",
        "<td>0</td>\n",
        "<td>1</td>\n",
        "<td>Error</td>\n",
        "<td>Rate</td></tr>\n",
        "<tr><td>0</td>\n",
        "<td>216.0</td>\n",
        "<td>11.0</td>\n",
        "<td>0.0485</td>\n",
        "<td> (11.0/227.0)</td></tr>\n",
        "<tr><td>1</td>\n",
        "<td>14.0</td>\n",
        "<td>139.0</td>\n",
        "<td>0.0915</td>\n",
        "<td> (14.0/153.0)</td></tr>\n",
        "<tr><td>Total</td>\n",
        "<td>230.0</td>\n",
        "<td>150.0</td>\n",
        "<td>0.0658</td>\n",
        "<td> (25.0/380.0)</td></tr></table></div>"
       ],
       "metadata": {},
       "output_type": "display_data",
       "text": [
        "       0    1    Error    Rate\n",
        "-----  ---  ---  -------  ------------\n",
        "0      216  11   0.0485   (11.0/227.0)\n",
        "1      14   139  0.0915   (14.0/153.0)\n",
        "Total  230  150  0.0658   (25.0/380.0)"
       ]
      },
      {
       "output_type": "stream",
       "stream": "stdout",
       "text": [
        "\n",
        "Maximum Metrics: Maximum metrics at their respective thresholds\n",
        "\n"
       ]
      },
      {
       "html": [
        "<div style=\"overflow:auto\"><table style=\"width:50%\"><tr><td>metric</td>\n",
        "<td>threshold</td>\n",
        "<td>value</td>\n",
        "<td>idx</td></tr>\n",
        "<tr><td>max f1</td>\n",
        "<td>0.454949666805</td>\n",
        "<td>0.917491749175</td>\n",
        "<td>149.0</td></tr>\n",
        "<tr><td>max f2</td>\n",
        "<td>0.303200968061</td>\n",
        "<td>0.939431396786</td>\n",
        "<td>196.0</td></tr>\n",
        "<tr><td>max f0point5</td>\n",
        "<td>0.472831330673</td>\n",
        "<td>0.924426450742</td>\n",
        "<td>146.0</td></tr>\n",
        "<tr><td>max accuracy</td>\n",
        "<td>0.454949666805</td>\n",
        "<td>0.934210526316</td>\n",
        "<td>149.0</td></tr>\n",
        "<tr><td>max precision</td>\n",
        "<td>0.974793768297</td>\n",
        "<td>1.0</td>\n",
        "<td>0.0</td></tr>\n",
        "<tr><td>max absolute_MCC</td>\n",
        "<td>0.454949666805</td>\n",
        "<td>0.862913038286</td>\n",
        "<td>149.0</td></tr>\n",
        "<tr><td>max min_per_class_accuracy</td>\n",
        "<td>0.437399498018</td>\n",
        "<td>0.921568627451</td>\n",
        "<td>156.0</td></tr></table></div>"
       ],
       "metadata": {},
       "output_type": "display_data",
       "text": [
        "metric                      threshold    value     idx\n",
        "--------------------------  -----------  --------  -----\n",
        "max f1                      0.45495      0.917492  149\n",
        "max f2                      0.303201     0.939431  196\n",
        "max f0point5                0.472831     0.924426  146\n",
        "max accuracy                0.45495      0.934211  149\n",
        "max precision               0.974794     1         0\n",
        "max absolute_MCC            0.45495      0.862913  149\n",
        "max min_per_class_accuracy  0.437399     0.921569  156"
       ]
      }
     ],
     "prompt_number": 10
    }
   ],
   "metadata": {}
  }
 ]
}